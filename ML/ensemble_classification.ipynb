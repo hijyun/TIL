{
  "nbformat": 4,
  "nbformat_minor": 0,
  "metadata": {
    "colab": {
      "name": "Adaboost_classification.ipynb",
      "provenance": [],
      "collapsed_sections": [],
      "toc_visible": true,
      "include_colab_link": true
    },
    "kernelspec": {
      "name": "python3",
      "display_name": "Python 3"
    },
    "language_info": {
      "name": "python"
    }
  },
  "cells": [
    {
      "cell_type": "markdown",
      "metadata": {
        "id": "view-in-github",
        "colab_type": "text"
      },
      "source": [
        "<a href=\"https://colab.research.google.com/github/hijyun/Machine-Learning/blob/main/ensemble_classification.ipynb\" target=\"_parent\"><img src=\"https://colab.research.google.com/assets/colab-badge.svg\" alt=\"Open In Colab\"/></a>"
      ]
    },
    {
      "cell_type": "markdown",
      "metadata": {
        "id": "UE0Sb25SSOUQ"
      },
      "source": [
        "참고자료\n",
        "https://bigdaheta.tistory.com/33\n",
        "\n",
        "Base code는 위스콘신 유방암 예측 모델 코드\n",
        "\n",
        "Dataset은 와인 데이터셋으로 아래 작성된 예제는 와인의 화학 조성을 사용하여 와인의 종류를 가장 잘 예측하는 모델을 찾는다."
      ]
    },
    {
      "cell_type": "markdown",
      "metadata": {
        "id": "KPJ5cnz4e7h3"
      },
      "source": [
        "# 기본 패키지 설정"
      ]
    },
    {
      "cell_type": "code",
      "metadata": {
        "id": "tMsJfrg0e1aD"
      },
      "source": [
        "import numpy as np\n",
        "import matplotlib.pyplot as plt\n",
        "import collections\n",
        "import pandas as pd\n",
        "from sklearn import datasets\n",
        "\n",
        "from sklearn.model_selection import train_test_split\n",
        "\n",
        "from sklearn.tree import DecisionTreeClassifier # 결정 트리\n",
        "from sklearn.neighbors import KNeighborsClassifier # KNN\n",
        "from sklearn.linear_model import LogisticRegression # 로지스틱 회귀\n",
        "\n",
        "from sklearn.ensemble import VotingClassifier,RandomForestClassifier,AdaBoostClassifier # 앙상블 \n",
        "\n",
        "from sklearn.metrics import confusion_matrix, classification_report # 정오분류표\n",
        "from sklearn.metrics import accuracy_score, precision_score, recall_score, f1_score, roc_auc_score \n",
        "from sklearn.metrics import roc_curve, auc, roc_auc_score  # ROC곡선 그리기\n",
        "\n",
        "from sklearn.model_selection import learning_curve, validation_curve # 학습곡선, 검증곡선\n",
        "from sklearn.model_selection import GridSearchCV, cross_val_score  # 하이퍼파라미터 튜닝, 교차타당도"
      ],
      "execution_count": null,
      "outputs": []
    },
    {
      "cell_type": "markdown",
      "metadata": {
        "id": "sa9qupW1gYdv"
      },
      "source": [
        "# 데이터 읽기"
      ]
    },
    {
      "cell_type": "code",
      "metadata": {
        "id": "uKtf41efMSE1",
        "colab": {
          "base_uri": "https://localhost:8080/"
        },
        "outputId": "f3f7a70c-940e-4067-bc1a-addc518ba420"
      },
      "source": [
        "df1 = pd.read_csv('https://archive.ics.uci.edu/ml/''machine-learning-databases/wine/wine.data',header=None)\n",
        "df1.columns = ['Class label', 'Alcohol', 'Malic acid', 'Ash',\n",
        "              'Alcalinity of ash', 'Magnesium', 'Total phenols',\n",
        "              'Flavanoids', 'Nonflavanoid phenols', 'Proanthocyanins',\n",
        "              'Color intensity', 'Hue', 'OD280/OD315 of diluted wines',\n",
        "              'Proline']\n",
        "              \n",
        "df1 = df1[df1['Class label'] != 1]\n",
        "\n",
        "y = df1['Class label'].values\n",
        "print(collections.Counter(y))\n",
        "X = df1[['Alcohol', 'OD280/OD315 of diluted wines']].values\n",
        "# 와인의 도수, 희석 와인의 OD280/OD315 비율 feature 만 사용 \n"
      ],
      "execution_count": null,
      "outputs": [
        {
          "output_type": "stream",
          "text": [
            "Counter({2: 71, 3: 48})\n"
          ],
          "name": "stdout"
        }
      ]
    },
    {
      "cell_type": "code",
      "metadata": {
        "id": "9_T6KEurhur_",
        "colab": {
          "base_uri": "https://localhost:8080/"
        },
        "outputId": "762fae55-965d-42fa-9d3d-94353dfd03d3"
      },
      "source": [
        "df1.shape"
      ],
      "execution_count": null,
      "outputs": [
        {
          "output_type": "execute_result",
          "data": {
            "text/plain": [
              "(119, 14)"
            ]
          },
          "metadata": {
            "tags": []
          },
          "execution_count": 19
        }
      ]
    },
    {
      "cell_type": "code",
      "metadata": {
        "id": "g9R9SC-P3Fcz",
        "colab": {
          "base_uri": "https://localhost:8080/",
          "height": 221
        },
        "outputId": "f1ef142b-2e24-473d-ef34-28b697a6fe9d"
      },
      "source": [
        "df1.head()"
      ],
      "execution_count": null,
      "outputs": [
        {
          "output_type": "execute_result",
          "data": {
            "text/html": [
              "<div>\n",
              "<style scoped>\n",
              "    .dataframe tbody tr th:only-of-type {\n",
              "        vertical-align: middle;\n",
              "    }\n",
              "\n",
              "    .dataframe tbody tr th {\n",
              "        vertical-align: top;\n",
              "    }\n",
              "\n",
              "    .dataframe thead th {\n",
              "        text-align: right;\n",
              "    }\n",
              "</style>\n",
              "<table border=\"1\" class=\"dataframe\">\n",
              "  <thead>\n",
              "    <tr style=\"text-align: right;\">\n",
              "      <th></th>\n",
              "      <th>Class label</th>\n",
              "      <th>Alcohol</th>\n",
              "      <th>Malic acid</th>\n",
              "      <th>Ash</th>\n",
              "      <th>Alcalinity of ash</th>\n",
              "      <th>Magnesium</th>\n",
              "      <th>Total phenols</th>\n",
              "      <th>Flavanoids</th>\n",
              "      <th>Nonflavanoid phenols</th>\n",
              "      <th>Proanthocyanins</th>\n",
              "      <th>Color intensity</th>\n",
              "      <th>Hue</th>\n",
              "      <th>OD280/OD315 of diluted wines</th>\n",
              "      <th>Proline</th>\n",
              "    </tr>\n",
              "  </thead>\n",
              "  <tbody>\n",
              "    <tr>\n",
              "      <th>59</th>\n",
              "      <td>2</td>\n",
              "      <td>12.37</td>\n",
              "      <td>0.94</td>\n",
              "      <td>1.36</td>\n",
              "      <td>10.6</td>\n",
              "      <td>88</td>\n",
              "      <td>1.98</td>\n",
              "      <td>0.57</td>\n",
              "      <td>0.28</td>\n",
              "      <td>0.42</td>\n",
              "      <td>1.95</td>\n",
              "      <td>1.05</td>\n",
              "      <td>1.82</td>\n",
              "      <td>520</td>\n",
              "    </tr>\n",
              "    <tr>\n",
              "      <th>60</th>\n",
              "      <td>2</td>\n",
              "      <td>12.33</td>\n",
              "      <td>1.10</td>\n",
              "      <td>2.28</td>\n",
              "      <td>16.0</td>\n",
              "      <td>101</td>\n",
              "      <td>2.05</td>\n",
              "      <td>1.09</td>\n",
              "      <td>0.63</td>\n",
              "      <td>0.41</td>\n",
              "      <td>3.27</td>\n",
              "      <td>1.25</td>\n",
              "      <td>1.67</td>\n",
              "      <td>680</td>\n",
              "    </tr>\n",
              "    <tr>\n",
              "      <th>61</th>\n",
              "      <td>2</td>\n",
              "      <td>12.64</td>\n",
              "      <td>1.36</td>\n",
              "      <td>2.02</td>\n",
              "      <td>16.8</td>\n",
              "      <td>100</td>\n",
              "      <td>2.02</td>\n",
              "      <td>1.41</td>\n",
              "      <td>0.53</td>\n",
              "      <td>0.62</td>\n",
              "      <td>5.75</td>\n",
              "      <td>0.98</td>\n",
              "      <td>1.59</td>\n",
              "      <td>450</td>\n",
              "    </tr>\n",
              "    <tr>\n",
              "      <th>62</th>\n",
              "      <td>2</td>\n",
              "      <td>13.67</td>\n",
              "      <td>1.25</td>\n",
              "      <td>1.92</td>\n",
              "      <td>18.0</td>\n",
              "      <td>94</td>\n",
              "      <td>2.10</td>\n",
              "      <td>1.79</td>\n",
              "      <td>0.32</td>\n",
              "      <td>0.73</td>\n",
              "      <td>3.80</td>\n",
              "      <td>1.23</td>\n",
              "      <td>2.46</td>\n",
              "      <td>630</td>\n",
              "    </tr>\n",
              "    <tr>\n",
              "      <th>63</th>\n",
              "      <td>2</td>\n",
              "      <td>12.37</td>\n",
              "      <td>1.13</td>\n",
              "      <td>2.16</td>\n",
              "      <td>19.0</td>\n",
              "      <td>87</td>\n",
              "      <td>3.50</td>\n",
              "      <td>3.10</td>\n",
              "      <td>0.19</td>\n",
              "      <td>1.87</td>\n",
              "      <td>4.45</td>\n",
              "      <td>1.22</td>\n",
              "      <td>2.87</td>\n",
              "      <td>420</td>\n",
              "    </tr>\n",
              "  </tbody>\n",
              "</table>\n",
              "</div>"
            ],
            "text/plain": [
              "    Class label  Alcohol  ...  OD280/OD315 of diluted wines  Proline\n",
              "59            2    12.37  ...                          1.82      520\n",
              "60            2    12.33  ...                          1.67      680\n",
              "61            2    12.64  ...                          1.59      450\n",
              "62            2    13.67  ...                          2.46      630\n",
              "63            2    12.37  ...                          2.87      420\n",
              "\n",
              "[5 rows x 14 columns]"
            ]
          },
          "metadata": {
            "tags": []
          },
          "execution_count": 20
        }
      ]
    },
    {
      "cell_type": "code",
      "metadata": {
        "colab": {
          "base_uri": "https://localhost:8080/"
        },
        "id": "04iYHSxK8Khd",
        "outputId": "236928f5-b633-4c90-e9d9-c25cb4062b18"
      },
      "source": [
        "df1.info()"
      ],
      "execution_count": null,
      "outputs": [
        {
          "output_type": "stream",
          "text": [
            "<class 'pandas.core.frame.DataFrame'>\n",
            "Int64Index: 119 entries, 59 to 177\n",
            "Data columns (total 14 columns):\n",
            " #   Column                        Non-Null Count  Dtype  \n",
            "---  ------                        --------------  -----  \n",
            " 0   Class label                   119 non-null    int64  \n",
            " 1   Alcohol                       119 non-null    float64\n",
            " 2   Malic acid                    119 non-null    float64\n",
            " 3   Ash                           119 non-null    float64\n",
            " 4   Alcalinity of ash             119 non-null    float64\n",
            " 5   Magnesium                     119 non-null    int64  \n",
            " 6   Total phenols                 119 non-null    float64\n",
            " 7   Flavanoids                    119 non-null    float64\n",
            " 8   Nonflavanoid phenols          119 non-null    float64\n",
            " 9   Proanthocyanins               119 non-null    float64\n",
            " 10  Color intensity               119 non-null    float64\n",
            " 11  Hue                           119 non-null    float64\n",
            " 12  OD280/OD315 of diluted wines  119 non-null    float64\n",
            " 13  Proline                       119 non-null    int64  \n",
            "dtypes: float64(11), int64(3)\n",
            "memory usage: 13.9 KB\n"
          ],
          "name": "stdout"
        }
      ]
    },
    {
      "cell_type": "markdown",
      "metadata": {
        "id": "UQJW-Bm_8kFs"
      },
      "source": [
        "# 전처리 및 데이터 분할"
      ]
    },
    {
      "cell_type": "code",
      "metadata": {
        "id": "5BdZ1JPj8Lji"
      },
      "source": [
        "from sklearn.preprocessing import LabelEncoder\n",
        "\n",
        "le = LabelEncoder() # 범주형 변수를 0부터 시작하는 정수형 숫자로 변환\n",
        "y = le.fit_transform(y)\n"
      ],
      "execution_count": null,
      "outputs": []
    },
    {
      "cell_type": "code",
      "metadata": {
        "colab": {
          "base_uri": "https://localhost:8080/"
        },
        "id": "Is1cn1Q-Bqel",
        "outputId": "388d276b-9c7c-4f0c-9b5b-f898b151db30"
      },
      "source": [
        "y"
      ],
      "execution_count": null,
      "outputs": [
        {
          "output_type": "execute_result",
          "data": {
            "text/plain": [
              "array([0, 0, 0, 0, 0, 0, 0, 0, 0, 0, 0, 0, 0, 0, 0, 0, 0, 0, 0, 0, 0, 0,\n",
              "       0, 0, 0, 0, 0, 0, 0, 0, 0, 0, 0, 0, 0, 0, 0, 0, 0, 0, 0, 0, 0, 0,\n",
              "       0, 0, 0, 0, 0, 0, 0, 0, 0, 0, 0, 0, 0, 0, 0, 0, 0, 0, 0, 0, 0, 0,\n",
              "       0, 0, 0, 0, 0, 1, 1, 1, 1, 1, 1, 1, 1, 1, 1, 1, 1, 1, 1, 1, 1, 1,\n",
              "       1, 1, 1, 1, 1, 1, 1, 1, 1, 1, 1, 1, 1, 1, 1, 1, 1, 1, 1, 1, 1, 1,\n",
              "       1, 1, 1, 1, 1, 1, 1, 1, 1])"
            ]
          },
          "metadata": {
            "tags": []
          },
          "execution_count": 23
        }
      ]
    },
    {
      "cell_type": "markdown",
      "metadata": {
        "id": "OHEKpWiV_Y9Q"
      },
      "source": [
        "## train data , test data split"
      ]
    },
    {
      "cell_type": "code",
      "metadata": {
        "id": "4q0qz4Xc-AfR"
      },
      "source": [
        "X_train, X_test, y_train, y_test = train_test_split(X,y, test_size=0.3, random_state=1234, stratify=y)"
      ],
      "execution_count": null,
      "outputs": []
    },
    {
      "cell_type": "markdown",
      "metadata": {
        "id": "-9EDGVvd-GAx"
      },
      "source": [
        "# 모델"
      ]
    },
    {
      "cell_type": "markdown",
      "metadata": {
        "id": "8gjLAsrW-JWc"
      },
      "source": [
        "##  voting"
      ]
    },
    {
      "cell_type": "markdown",
      "metadata": {
        "id": "AsFYR-zK-lzn"
      },
      "source": [
        "logistic(로지스틱 회귀분석), tree(의사결정나무), knn(k-최근접 이웃)에 대한 모델링을 시행한다. 보팅 유형에는 예측한 결괏값 중 다수의 분류기가 결정한 예측값을 최종 보팅 결괏값으로 선정하는 하드 보팅(Hard Voting)과 분류기들의 레이블 값 결정 확률을 모두 더하여 이를 평균 내어 확률 값이 가장 높은 레이블을 최종 보팅 결괏값으로 선정하는 소프트 보팅(Soft Voting)이 있다. (일반적으로소프트 보팅 방법이 적용된다.)\n"
      ]
    },
    {
      "cell_type": "code",
      "metadata": {
        "id": "O2miBjoW-Eu2"
      },
      "source": [
        "logistic = LogisticRegression(solver='liblinear',penalty='l2',C=100,random_state=1)\n",
        "tree = DecisionTreeClassifier(max_depth=1,criterion='entropy',random_state=1)\n",
        "knn = KNeighborsClassifier(n_neighbors=1,p=2,metric='minkowski')\n",
        "\n",
        "voting_estimators = [('logistic', logistic), ('tree', tree), ('knn', knn)]\n",
        "\n",
        "voting = VotingClassifier(estimators = voting_estimators,voting='soft')\n",
        "\n",
        "clf_labels = ['Logistic regression', 'Decision tree', 'KNN', 'Majority voting']\n",
        "\n",
        "all_clf = [logistic, tree, knn, voting]"
      ],
      "execution_count": null,
      "outputs": []
    },
    {
      "cell_type": "markdown",
      "metadata": {
        "id": "s-y2wJXhHQ9E"
      },
      "source": [
        "### AUC 검정"
      ]
    },
    {
      "cell_type": "markdown",
      "metadata": {
        "id": "g0MOfqwAHcQQ"
      },
      "source": [
        "AUC 결과, 로지스틱 회귀분석은 97.8%, 의사결정 나무는 91%, KNNdms 85.7%, 투표 기법을 사용한 결과는 98%로 Voting 기법을 사용했을 때 모델 성능이 가장 좋다는 것을 알 수 있다."
      ]
    },
    {
      "cell_type": "code",
      "metadata": {
        "colab": {
          "base_uri": "https://localhost:8080/"
        },
        "id": "VG4xWnLPHPvt",
        "outputId": "b980dae3-a67f-4dc8-a6ae-3df55f8a2fa1"
      },
      "source": [
        "for clf, label in zip(all_clf, clf_labels):\n",
        "  scores = cross_val_score(estimator=clf,X=X_train,y=y_train,cv=10,scoring='roc_auc')\n",
        "  print(\"ROC AUC: %0.3f (+/- %0.3f) [%s]\"\n",
        "  % (scores.mean(), scores.std(), label))"
      ],
      "execution_count": null,
      "outputs": [
        {
          "output_type": "stream",
          "text": [
            "ROC AUC: 0.978 (+/- 0.047) [Logistic regression]\n",
            "ROC AUC: 0.911 (+/- 0.088) [Decision tree]\n",
            "ROC AUC: 0.857 (+/- 0.109) [KNN]\n",
            "ROC AUC: 0.980 (+/- 0.046) [Majority voting]\n"
          ],
          "name": "stdout"
        }
      ]
    },
    {
      "cell_type": "markdown",
      "metadata": {
        "id": "NlFBV-_dKdKd"
      },
      "source": [
        "### ROC 커브"
      ]
    },
    {
      "cell_type": "code",
      "metadata": {
        "colab": {
          "base_uri": "https://localhost:8080/",
          "height": 279
        },
        "id": "Tz_TkkMbIQT6",
        "outputId": "7ae2b544-2d71-469f-b4fd-b338a0aba863"
      },
      "source": [
        "colors = ['black', 'orange', 'blue', 'green']\n",
        "linestyles = [':', '--', '-.', '-']\n",
        "for clf, label, clr, ls \\\n",
        "        in zip(all_clf, clf_labels, colors, linestyles):\n",
        "\n",
        "  clf.fit(X_train, y_train)\n",
        "  y_pred = clf.predict_proba(X_test)[:, 1]\n",
        "  fpr, tpr, thresholds = roc_curve(y_true=y_test,\n",
        "                                  y_score=y_pred)\n",
        "  roc_auc = auc(x=fpr, y=tpr) # 교차검증 X\n",
        "  plt.plot(fpr, tpr,\n",
        "            color=clr,\n",
        "            linestyle=ls,\n",
        "            label='%s (auc = %0.3f)' % (label, roc_auc))\n",
        "  \n",
        "plt.legend(loc='lower right')\n",
        "plt.plot([0, 1], [0, 1],\n",
        "          linestyle='--',\n",
        "          color='gray',\n",
        "          linewidth=2)\n",
        "\n",
        "plt.xlim([-0.1, 1.1])\n",
        "plt.ylim([-0.1, 1.1])\n",
        "plt.grid(alpha=0.5)\n",
        "plt.xlabel('False positive rate (FPR)')\n",
        "plt.ylabel('True positive rate (TPR)')\n",
        "\n",
        "plt.show()"
      ],
      "execution_count": null,
      "outputs": [
        {
          "output_type": "display_data",
          "data": {
            "image/png": "[encoded data removed]",
            "text/plain": [
              "<Figure size 432x288 with 1 Axes>"
            ]
          },
          "metadata": {
            "tags": [],
            "needs_background": "light"
          }
        }
      ]
    },
    {
      "cell_type": "markdown",
      "metadata": {
        "id": "aB-V1ksqJAQ2"
      },
      "source": [
        "### 정오 분류표로 검정"
      ]
    },
    {
      "cell_type": "code",
      "metadata": {
        "colab": {
          "base_uri": "https://localhost:8080/"
        },
        "id": "1D-SUH9zI_t7",
        "outputId": "55049a07-29f5-46c4-dd93-31dcb474126f"
      },
      "source": [
        "voting.fit(X_train, y_train)\n",
        "y_pred = voting.predict(X_test)\n",
        "\n",
        "print('잘못 분류된 샘플 개수: %d' % (y_test != y_pred).sum())\n",
        "print('정확도: %.3f' % accuracy_score(y_test, y_pred))\n",
        "print('정밀도: %.3f' % precision_score(y_true=y_test, y_pred=y_pred))\n",
        "print('재현율: %.3f' % recall_score(y_true=y_test, y_pred=y_pred))\n",
        "print('F1: %.3f' % f1_score(y_true=y_test, y_pred=y_pred))"
      ],
      "execution_count": null,
      "outputs": [
        {
          "output_type": "stream",
          "text": [
            "잘못 분류된 샘플 개수: 3\n",
            "정확도: 0.917\n",
            "정밀도: 0.875\n",
            "재현율: 0.933\n",
            "F1: 0.903\n"
          ],
          "name": "stdout"
        }
      ]
    },
    {
      "cell_type": "markdown",
      "metadata": {
        "id": "zxCXcpwgZKv8"
      },
      "source": [
        "### 오답 확인"
      ]
    },
    {
      "cell_type": "markdown",
      "metadata": {
        "id": "zvuIzajIGYot"
      },
      "source": [
        "참고 <알콜 평균>\n",
        "- 라벨 0  :  12.27\n",
        "- 라벨 1  :  13.15\n",
        "\n",
        "     <희석비율 평균>\n",
        "- 라벨 0 : 2.7\n",
        "- 라벨 1 : 1.68"
      ]
    },
    {
      "cell_type": "code",
      "metadata": {
        "colab": {
          "base_uri": "https://localhost:8080/",
          "height": 142
        },
        "id": "E_51yCkfY8xi",
        "outputId": "1500f3b3-b3a8-422e-9601-da70c6011a2b"
      },
      "source": [
        "test = pd.DataFrame(np.column_stack([X_test,y_test]), columns=['Alcohol', '희석한 와인 비율','label'])\n",
        "test[y_test != y_pred]"
      ],
      "execution_count": null,
      "outputs": [
        {
          "output_type": "execute_result",
          "data": {
            "text/html": [
              "<div>\n",
              "<style scoped>\n",
              "    .dataframe tbody tr th:only-of-type {\n",
              "        vertical-align: middle;\n",
              "    }\n",
              "\n",
              "    .dataframe tbody tr th {\n",
              "        vertical-align: top;\n",
              "    }\n",
              "\n",
              "    .dataframe thead th {\n",
              "        text-align: right;\n",
              "    }\n",
              "</style>\n",
              "<table border=\"1\" class=\"dataframe\">\n",
              "  <thead>\n",
              "    <tr style=\"text-align: right;\">\n",
              "      <th></th>\n",
              "      <th>Alcohol</th>\n",
              "      <th>희석한 와인 비율</th>\n",
              "      <th>label</th>\n",
              "    </tr>\n",
              "  </thead>\n",
              "  <tbody>\n",
              "    <tr>\n",
              "      <th>1</th>\n",
              "      <td>12.93</td>\n",
              "      <td>2.31</td>\n",
              "      <td>1.0</td>\n",
              "    </tr>\n",
              "    <tr>\n",
              "      <th>22</th>\n",
              "      <td>13.05</td>\n",
              "      <td>2.01</td>\n",
              "      <td>0.0</td>\n",
              "    </tr>\n",
              "    <tr>\n",
              "      <th>29</th>\n",
              "      <td>13.34</td>\n",
              "      <td>1.93</td>\n",
              "      <td>0.0</td>\n",
              "    </tr>\n",
              "  </tbody>\n",
              "</table>\n",
              "</div>"
            ],
            "text/plain": [
              "    Alcohol  희석한 와인 비율  label\n",
              "1     12.93       2.31    1.0\n",
              "22    13.05       2.01    0.0\n",
              "29    13.34       1.93    0.0"
            ]
          },
          "metadata": {
            "tags": []
          },
          "execution_count": 29
        }
      ]
    },
    {
      "cell_type": "markdown",
      "metadata": {
        "id": "MyMC8oc_-s_Y"
      },
      "source": [
        "## Bagging"
      ]
    },
    {
      "cell_type": "markdown",
      "metadata": {
        "id": "6jO077e9-32X"
      },
      "source": [
        "배깅 기법은 여러 가지 분류 모델 들 중 한 가지 모델에만 집중하여 모델을 구축한 것인데, 이때 의사결정 나무만을 구축 하게 되면 '랜덤 포레스트'라고 부르게 된다.랜덤 포레스트 모델을 구축 시 n_estimators는 '데이터 샘플을 몇 개까지 만들 것인가?'라는 의미이며 n_estimators = 500이라는 것은 의사결정나무를 500개 만든다고 이해하면 된다."
      ]
    },
    {
      "cell_type": "code",
      "metadata": {
        "id": "XwD2rYWd-sFY"
      },
      "source": [
        "tree = DecisionTreeClassifier(max_depth=None,criterion='entropy',random_state=1)\n",
        "\n",
        "forest = RandomForestClassifier(criterion='entropy',n_estimators=500,random_state=1)\n",
        "\n",
        "clf_labels = ['Decision tree', 'Random forest']\n",
        "\n",
        "all_clf = [tree, forest]"
      ],
      "execution_count": null,
      "outputs": []
    },
    {
      "cell_type": "markdown",
      "metadata": {
        "id": "GTX9sxYbHUMF"
      },
      "source": [
        "### AUC 검정"
      ]
    },
    {
      "cell_type": "markdown",
      "metadata": {
        "id": "eQalPw97HiYR"
      },
      "source": [
        "의사결정나무만을 사용했을 때는 AUC값이 86%인 반면, 랜덤 포레스트를 적용했을 때는 AUC값이 96%로 증가함을 알\n",
        "수 있다.\n"
      ]
    },
    {
      "cell_type": "code",
      "metadata": {
        "colab": {
          "base_uri": "https://localhost:8080/"
        },
        "id": "1IlC4ojfHO_h",
        "outputId": "547cf1a3-85e5-4f52-d7aa-e88465e1087f"
      },
      "source": [
        "for clf, label in zip(all_clf, clf_labels):\n",
        "  scores = cross_val_score(estimator=clf,X=X_train,y=y_train,cv=10,scoring='roc_auc') # 10 cv 결과 \n",
        "  print(\"ROC AUC: %0.3f (+/- %0.3f) [%s]\"\n",
        "  % (scores.mean(), scores.std(), label))"
      ],
      "execution_count": null,
      "outputs": [
        {
          "output_type": "stream",
          "text": [
            "ROC AUC: 0.863 (+/- 0.138) [Decision tree]\n",
            "ROC AUC: 0.962 (+/- 0.051) [Random forest]\n"
          ],
          "name": "stdout"
        }
      ]
    },
    {
      "cell_type": "markdown",
      "metadata": {
        "id": "yDw5UlctKgmh"
      },
      "source": [
        "### ROC 커브"
      ]
    },
    {
      "cell_type": "code",
      "metadata": {
        "colab": {
          "base_uri": "https://localhost:8080/",
          "height": 279
        },
        "id": "GymxG6x7I13L",
        "outputId": "12f3b160-68e0-448a-bf51-d3285ddc85d1"
      },
      "source": [
        "colors = ['black', 'orange']\n",
        "linestyles = [':', '--']\n",
        "for clf, label, clr, ls \\\n",
        "        in zip(all_clf, clf_labels, colors, linestyles):\n",
        "\n",
        "  clf.fit(X_train, y_train)\n",
        "  y_pred = clf.predict_proba(X_test)[:, 1]\n",
        "  fpr, tpr, thresholds = roc_curve(y_true=y_test,\n",
        "                                  y_score=y_pred)\n",
        "  roc_auc = auc(x=fpr, y=tpr)\n",
        "  plt.plot(fpr, tpr,\n",
        "            color=clr,\n",
        "            linestyle=ls,\n",
        "            label='%s (auc = %0.3f)' % (label, roc_auc))\n",
        "  \n",
        "plt.legend(loc='lower right')\n",
        "plt.plot([0, 1], [0, 1],\n",
        "          linestyle='--',\n",
        "          color='gray',\n",
        "          linewidth=2)\n",
        "\n",
        "plt.xlim([-0.1, 1.1])\n",
        "plt.ylim([-0.1, 1.1])\n",
        "plt.grid(alpha=0.5)\n",
        "plt.xlabel('False positive rate (FPR)')\n",
        "plt.ylabel('True positive rate (TPR)')\n",
        "\n",
        "plt.show()"
      ],
      "execution_count": null,
      "outputs": [
        {
          "output_type": "display_data",
          "data": {
            "image/png": "[encoded data removed]",
            "text/plain": [
              "<Figure size 432x288 with 1 Axes>"
            ]
          },
          "metadata": {
            "tags": [],
            "needs_background": "light"
          }
        }
      ]
    },
    {
      "cell_type": "markdown",
      "metadata": {
        "id": "Me5Mx5tdJI5R"
      },
      "source": [
        "### 정오분류표로 검정"
      ]
    },
    {
      "cell_type": "code",
      "metadata": {
        "colab": {
          "base_uri": "https://localhost:8080/"
        },
        "id": "7LGcyJrmJK0V",
        "outputId": "bccd7da3-4048-49a1-bde0-0755cea202e3"
      },
      "source": [
        "forest.fit(X_train, y_train)\n",
        "\n",
        "y_pred = forest.predict(X_test)\n",
        "\n",
        "print('잘못 분류된 샘플 개수: %d' % (y_test != y_pred).sum())\n",
        "print('정확도: %.3f' % accuracy_score(y_test, y_pred))\n",
        "print('정밀도: %.3f' % precision_score(y_true=y_test, y_pred=y_pred))\n",
        "print('재현율: %.3f' % recall_score(y_true=y_test, y_pred=y_pred))\n",
        "print('F1: %.3f' % f1_score(y_true=y_test, y_pred=y_pred))\n"
      ],
      "execution_count": null,
      "outputs": [
        {
          "output_type": "stream",
          "text": [
            "잘못 분류된 샘플 개수: 3\n",
            "정확도: 0.917\n",
            "정밀도: 0.875\n",
            "재현율: 0.933\n",
            "F1: 0.903\n"
          ],
          "name": "stdout"
        }
      ]
    },
    {
      "cell_type": "markdown",
      "metadata": {
        "id": "gVxY9g-BZIlg"
      },
      "source": [
        "### 오답 확인"
      ]
    },
    {
      "cell_type": "markdown",
      "metadata": {
        "id": "0GRjermQGiu-"
      },
      "source": [
        "참고 <알콜 평균>\n",
        "- 라벨 0  :  12.27\n",
        "- 라벨 1  :  13.15\n",
        "\n",
        "     <희석비율 평균>\n",
        "- 라벨 0 : 2.7\n",
        "- 라벨 1 : 1.68"
      ]
    },
    {
      "cell_type": "code",
      "metadata": {
        "colab": {
          "base_uri": "https://localhost:8080/",
          "height": 142
        },
        "id": "wsfWMTm8Y3uK",
        "outputId": "5898b64c-aea7-4b25-854f-eed295631208"
      },
      "source": [
        "test = pd.DataFrame(np.column_stack([X_test,y_test]), columns=['Alcohol', '희석한 와인 비율','label'])\n",
        "test[y_test != y_pred]"
      ],
      "execution_count": null,
      "outputs": [
        {
          "output_type": "execute_result",
          "data": {
            "text/html": [
              "<div>\n",
              "<style scoped>\n",
              "    .dataframe tbody tr th:only-of-type {\n",
              "        vertical-align: middle;\n",
              "    }\n",
              "\n",
              "    .dataframe tbody tr th {\n",
              "        vertical-align: top;\n",
              "    }\n",
              "\n",
              "    .dataframe thead th {\n",
              "        text-align: right;\n",
              "    }\n",
              "</style>\n",
              "<table border=\"1\" class=\"dataframe\">\n",
              "  <thead>\n",
              "    <tr style=\"text-align: right;\">\n",
              "      <th></th>\n",
              "      <th>Alcohol</th>\n",
              "      <th>희석한 와인 비율</th>\n",
              "      <th>label</th>\n",
              "    </tr>\n",
              "  </thead>\n",
              "  <tbody>\n",
              "    <tr>\n",
              "      <th>1</th>\n",
              "      <td>12.93</td>\n",
              "      <td>2.31</td>\n",
              "      <td>1.0</td>\n",
              "    </tr>\n",
              "    <tr>\n",
              "      <th>22</th>\n",
              "      <td>13.05</td>\n",
              "      <td>2.01</td>\n",
              "      <td>0.0</td>\n",
              "    </tr>\n",
              "    <tr>\n",
              "      <th>29</th>\n",
              "      <td>13.34</td>\n",
              "      <td>1.93</td>\n",
              "      <td>0.0</td>\n",
              "    </tr>\n",
              "  </tbody>\n",
              "</table>\n",
              "</div>"
            ],
            "text/plain": [
              "    Alcohol  희석한 와인 비율  label\n",
              "1     12.93       2.31    1.0\n",
              "22    13.05       2.01    0.0\n",
              "29    13.34       1.93    0.0"
            ]
          },
          "metadata": {
            "tags": []
          },
          "execution_count": 34
        }
      ]
    },
    {
      "cell_type": "markdown",
      "metadata": {
        "id": "D2t--HdmF7uc"
      },
      "source": [
        "## Boosting - ADABOOST"
      ]
    },
    {
      "cell_type": "markdown",
      "metadata": {
        "id": "2Vk3_hNzGN8I"
      },
      "source": [
        "의사결정나무와 AdaBoost 기법을 이용하여 모델을 구축"
      ]
    },
    {
      "cell_type": "code",
      "metadata": {
        "id": "xYMdAX87-78T"
      },
      "source": [
        "tree = DecisionTreeClassifier(max_depth=1, \n",
        "                              criterion='entropy',\n",
        "                                random_state=1)\n",
        "\n",
        "adaboost = AdaBoostClassifier(base_estimator=tree, \n",
        "                                n_estimators=700,\n",
        "                                learning_rate = 0.01, \n",
        "                                random_state=1)\n",
        "\n",
        "clf_labels = ['Decision tree', 'Ada boost']\n",
        "\n",
        "all_clf = [tree, adaboost]"
      ],
      "execution_count": null,
      "outputs": []
    },
    {
      "cell_type": "markdown",
      "metadata": {
        "id": "KNDIc35KGXEl"
      },
      "source": [
        "###  AUC 검정"
      ]
    },
    {
      "cell_type": "markdown",
      "metadata": {
        "id": "dFYj9j59Hm8U"
      },
      "source": [
        "의사결정나무만을 사용했을때는 AUC값이 91%인 반면, AdaBoost를 적용했을때는 AUC값이 98%로 증가했음을 알 수 있다.\n"
      ]
    },
    {
      "cell_type": "code",
      "metadata": {
        "colab": {
          "base_uri": "https://localhost:8080/"
        },
        "id": "HLnjNbLSGZ8y",
        "outputId": "613e0c7e-db1c-416c-c919-84ed776b0fb4"
      },
      "source": [
        "for clf, label in zip(all_clf, clf_labels):\n",
        "  scores = cross_val_score(estimator=clf,X=X_train,y=y_train,cv=10,scoring='roc_auc')\n",
        "  print(\"ROC AUC: %0.3f (+/- %0.3f) [%s]\"\n",
        "  % (scores.mean(), scores.std(), label))\n"
      ],
      "execution_count": null,
      "outputs": [
        {
          "output_type": "stream",
          "text": [
            "ROC AUC: 0.911 (+/- 0.088) [Decision tree]\n",
            "ROC AUC: 0.978 (+/- 0.033) [Ada boost]\n"
          ],
          "name": "stdout"
        }
      ]
    },
    {
      "cell_type": "markdown",
      "metadata": {
        "id": "iWoNU7vpKjqd"
      },
      "source": [
        "### ROC 커브"
      ]
    },
    {
      "cell_type": "code",
      "metadata": {
        "colab": {
          "base_uri": "https://localhost:8080/",
          "height": 279
        },
        "id": "Mvbn-umbI5t5",
        "outputId": "f9a10d8c-d209-4945-fb36-32eb98572d5d"
      },
      "source": [
        "colors = ['black', 'orange']\n",
        "linestyles = [':', '--']\n",
        "for clf, label, clr, ls \\\n",
        "        in zip(all_clf, clf_labels, colors, linestyles):\n",
        "\n",
        "  clf.fit(X_train, y_train)\n",
        "  y_pred = clf.predict_proba(X_test)[:, 1]\n",
        "  fpr, tpr, thresholds = roc_curve(y_true=y_test,\n",
        "                                  y_score=y_pred)\n",
        "  roc_auc = auc(x=fpr, y=tpr)\n",
        "  plt.plot(fpr, tpr,\n",
        "            color=clr,\n",
        "            linestyle=ls,\n",
        "            label='%s (auc = %0.3f)' % (label, roc_auc))\n",
        "  \n",
        "plt.legend(loc='lower right')\n",
        "plt.plot([0, 1], [0, 1],\n",
        "          linestyle='--',\n",
        "          color='gray',\n",
        "          linewidth=2)\n",
        "\n",
        "plt.xlim([-0.1, 1.1])\n",
        "plt.ylim([-0.1, 1.1])\n",
        "plt.grid(alpha=0.5)\n",
        "plt.xlabel('False positive rate (FPR)')\n",
        "plt.ylabel('True positive rate (TPR)')\n",
        "\n",
        "plt.show()"
      ],
      "execution_count": null,
      "outputs": [
        {
          "output_type": "display_data",
          "data": {
            "image/png": "[encoded data removed]",
            "text/plain": [
              "<Figure size 432x288 with 1 Axes>"
            ]
          },
          "metadata": {
            "tags": [],
            "needs_background": "light"
          }
        }
      ]
    },
    {
      "cell_type": "markdown",
      "metadata": {
        "id": "kX9pfYvlJYRA"
      },
      "source": [
        "### 정오 분류표로 검정"
      ]
    },
    {
      "cell_type": "code",
      "metadata": {
        "colab": {
          "base_uri": "https://localhost:8080/"
        },
        "id": "66gSnURuJZzm",
        "outputId": "11cc532e-3c84-401e-ec95-2babeeaa12e1"
      },
      "source": [
        "adaboost.fit(X_train, y_train)\n",
        "y_pred = adaboost.predict(X_test)\n",
        "\n",
        "print('잘못 분류된 샘플 개수: %d' % (y_test != y_pred).sum())\n",
        "print('정확도: %.3f' % accuracy_score(y_test, y_pred))\n",
        "print('정밀도: %.3f' % precision_score(y_true=y_test, y_pred=y_pred))\n",
        "print('재현율: %.3f' % recall_score(y_true=y_test, y_pred=y_pred))\n",
        "print('F1: %.3f' % f1_score(y_true=y_test, y_pred=y_pred))"
      ],
      "execution_count": null,
      "outputs": [
        {
          "output_type": "stream",
          "text": [
            "잘못 분류된 샘플 개수: 3\n",
            "정확도: 0.917\n",
            "정밀도: 0.875\n",
            "재현율: 0.933\n",
            "F1: 0.903\n"
          ],
          "name": "stdout"
        }
      ]
    },
    {
      "cell_type": "markdown",
      "metadata": {
        "id": "a2QpU9OFZEff"
      },
      "source": [
        "### 오답 확인"
      ]
    },
    {
      "cell_type": "markdown",
      "metadata": {
        "id": "8sITaVP5Gj59"
      },
      "source": [
        "참고 <알콜 평균>\n",
        "- 라벨 0  :  12.27\n",
        "- 라벨 1  :  13.15\n",
        "\n",
        "     <희석비율 평균>\n",
        "- 라벨 0 : 2.7\n",
        "- 라벨 1 : 1.68"
      ]
    },
    {
      "cell_type": "code",
      "metadata": {
        "colab": {
          "base_uri": "https://localhost:8080/",
          "height": 142
        },
        "id": "fCQc-V0QYcrP",
        "outputId": "fc4b3937-10e5-48f8-92a1-872cbcec3c0a"
      },
      "source": [
        "test = pd.DataFrame(np.column_stack([X_test,y_test]), columns=['Alcohol', '희석한 와인 비율','label'])\n",
        "test[y_test != y_pred]"
      ],
      "execution_count": null,
      "outputs": [
        {
          "output_type": "execute_result",
          "data": {
            "text/html": [
              "<div>\n",
              "<style scoped>\n",
              "    .dataframe tbody tr th:only-of-type {\n",
              "        vertical-align: middle;\n",
              "    }\n",
              "\n",
              "    .dataframe tbody tr th {\n",
              "        vertical-align: top;\n",
              "    }\n",
              "\n",
              "    .dataframe thead th {\n",
              "        text-align: right;\n",
              "    }\n",
              "</style>\n",
              "<table border=\"1\" class=\"dataframe\">\n",
              "  <thead>\n",
              "    <tr style=\"text-align: right;\">\n",
              "      <th></th>\n",
              "      <th>Alcohol</th>\n",
              "      <th>희석한 와인 비율</th>\n",
              "      <th>label</th>\n",
              "    </tr>\n",
              "  </thead>\n",
              "  <tbody>\n",
              "    <tr>\n",
              "      <th>5</th>\n",
              "      <td>12.53</td>\n",
              "      <td>1.69</td>\n",
              "      <td>1.0</td>\n",
              "    </tr>\n",
              "    <tr>\n",
              "      <th>22</th>\n",
              "      <td>13.05</td>\n",
              "      <td>2.01</td>\n",
              "      <td>0.0</td>\n",
              "    </tr>\n",
              "    <tr>\n",
              "      <th>29</th>\n",
              "      <td>13.34</td>\n",
              "      <td>1.93</td>\n",
              "      <td>0.0</td>\n",
              "    </tr>\n",
              "  </tbody>\n",
              "</table>\n",
              "</div>"
            ],
            "text/plain": [
              "    Alcohol  희석한 와인 비율  label\n",
              "5     12.53       1.69    1.0\n",
              "22    13.05       2.01    0.0\n",
              "29    13.34       1.93    0.0"
            ]
          },
          "metadata": {
            "tags": []
          },
          "execution_count": 39
        }
      ]
    },
    {
      "cell_type": "markdown",
      "metadata": {
        "id": "bVaGDrqOKADO"
      },
      "source": [
        "# 시각화"
      ]
    },
    {
      "cell_type": "code",
      "metadata": {
        "id": "NO1MuoTlJ_MO"
      },
      "source": [
        "# 결정 경계 영역을 살펴보기 위한 코드\n",
        "# X축은 희석 비율, Y축은 도수, 그래프 안의 기호는 와인 클래스에 해당\n",
        "x_min, x_max = X_train[:, 0].min() - 1, X_train[:, 0].max() + 1\n",
        "y_min, y_max = X_train[:, 1].min() - 1, X_train[:, 1].max() + 1\n",
        "xx, yy = np.meshgrid(np.arange(x_min, x_max, 0.1),\n",
        " np.arange(y_min, y_max, 0.1))\n",
        "# 2차원 평면에 x,y Grid를 생성\n",
        "#print(xx)\n"
      ],
      "execution_count": null,
      "outputs": []
    },
    {
      "cell_type": "code",
      "metadata": {
        "colab": {
          "base_uri": "https://localhost:8080/",
          "height": 427
        },
        "id": "yuOiNUF4OF2N",
        "outputId": "d3ad45c1-7c69-4660-caaa-cf375c8c956e"
      },
      "source": [
        "  f, axarr = plt.subplots(1, 2, sharex='col', sharey='row', figsize=(8, 3))\n",
        "  for idx, clf, tt in zip([0, 1],[tree, adaboost],[' Tree','ADABOOST']):\n",
        "      clf.fit(X_train, y_train)\n",
        "      Z = clf.predict(np.c_[xx.ravel(), yy.ravel()])\n",
        "    # 위에서의 다차원 배열을 1차원으로 변환한 후(ravel), column기준 세로로 붙여 2차원 배열 생성\n",
        "    # 데이터 셋에 대해 예측\n",
        "\n",
        "      Z = Z.reshape(xx.shape) # 예측값을 다시 2차원 형태로 변환 (그래프 적용 위함)\n",
        "      axarr[idx].contourf(xx, yy, Z, alpha=0.3) # 등고선 그리는 함수 중 하나\n",
        "      axarr[idx].scatter(X_train[y_train == 0, 0],\n",
        "      X_train[y_train == 0, 1],\n",
        "      c='blue', marker='^')\n",
        "      axarr[idx].scatter(X_train[y_train == 1, 0],\n",
        "      X_train[y_train == 1, 1],\n",
        "      c='green', marker='o')\n",
        "      axarr[idx].set_title(tt)\n",
        "\n",
        "  axarr[0].set_ylabel('Alcohol', fontsize=12)\n",
        "\n",
        "  plt.text(10.2, -0.5,\n",
        "          s='OD280/OD315 of diluted wines',\n",
        "          ha='center', va='center', fontsize=12)\n",
        "\n",
        "  plt.tight_layout()\n",
        "  plt.show()\n",
        "  # 단일 모델에 비해 유연한 분류 결과를 확인할 수 있음.\n",
        "  f, axarr = plt.subplots(1, 2, sharex='col', sharey='row', figsize=(8, 3))\n",
        "  for idx, clf, tt in zip([0, 1],[voting, forest],[' Voting','RandomForest']):\n",
        "      clf.fit(X_train, y_train)\n",
        "      Z = clf.predict(np.c_[xx.ravel(), yy.ravel()])\n",
        "    # 위에서의 다차원 배열을 1차원으로 변환한 후(ravel), column기준 세로로 붙여 2차원 배열 생성\n",
        "    # 데이터 셋에 대해 예측\n",
        "\n",
        "      Z = Z.reshape(xx.shape) # 예측값을 다시 2차원 형태로 변환 (그래프 적용 위함)\n",
        "      axarr[idx].contourf(xx, yy, Z, alpha=0.3) # 등고선 그리는 함수 중 하나\n",
        "      axarr[idx].scatter(X_train[y_train == 0, 0],\n",
        "      X_train[y_train == 0, 1],\n",
        "      c='blue', marker='^')\n",
        "      axarr[idx].scatter(X_train[y_train == 1, 0],\n",
        "      X_train[y_train == 1, 1],\n",
        "      c='green', marker='o')\n",
        "      axarr[idx].set_title(tt)\n",
        "\n",
        "  axarr[0].set_ylabel('Alcohol', fontsize=12)\n",
        "\n",
        "  plt.text(10.2, -0.5,\n",
        "          s='OD280/OD315 of diluted wines',\n",
        "          ha='center', va='center', fontsize=12)\n",
        "\n",
        "  plt.tight_layout()\n",
        "  plt.show()\n",
        "  # 단일 모델에 비해 유연한 분류 결과를 확인할 수 있음."
      ],
      "execution_count": null,
      "outputs": [
        {
          "output_type": "display_data",
          "data": {
            "image/png": "[encoded data removed]",
            "text/plain": [
              "<Figure size 576x216 with 2 Axes>"
            ]
          },
          "metadata": {
            "tags": [],
            "needs_background": "light"
          }
        },
        {
          "output_type": "display_data",
          "data": {
            "image/png": "[encoded data removed]",
            "text/plain": [
              "<Figure size 576x216 with 2 Axes>"
            ]
          },
          "metadata": {
            "tags": [],
            "needs_background": "light"
          }
        }
      ]
    },
    {
      "cell_type": "markdown",
      "metadata": {
        "id": "NngS-eLxV4um"
      },
      "source": [
        "# AUC 다른 이유"
      ]
    },
    {
      "cell_type": "markdown",
      "metadata": {
        "id": "luam_YhnWvln"
      },
      "source": [
        "* ROC곡선은 분류 결정 임계값에 따라 FPR이 변할때 TPR이 어떻게 변하는지를 나타내는 곡선. \n",
        "* AUC =  ROC 곡선 면적. 최적 모형 AUC = 1 (정사각형)"
      ]
    },
    {
      "cell_type": "markdown",
      "metadata": {
        "id": "7FI1sz0KXHy2"
      },
      "source": [
        "$TPR = TP / (FN + TP)$   민감도"
      ]
    },
    {
      "cell_type": "markdown",
      "metadata": {
        "id": "MkbAooDAXMwm"
      },
      "source": [
        "$FPR = FP / (FP + TN ) = 1- TNR = 1- ( TN / FP + TN)$   1-특이도"
      ]
    },
    {
      "cell_type": "markdown",
      "metadata": {
        "id": "dr28XVlzWcFM"
      },
      "source": [
        "##### roc_curve() \n",
        "\n",
        "* 입력값 : 1)실제 클래스 값 array , 2) predict_prob()의 반환값 array에서 양성 클래스 예측 확률\n",
        "* 반환값 :  1)FPR, 2)TPR, 3) 임계값을 담은 넘파이 ndarray"
      ]
    },
    {
      "cell_type": "markdown",
      "metadata": {
        "id": "3uAAwvAKR5ku"
      },
      "source": [
        "AUC가 다른 이유를 알아보기위해 사이킷런이 제공하는 roc_curve() API를 사용하여 FPR ,TPR, 임계값들을 프린트해보기로한다."
      ]
    },
    {
      "cell_type": "markdown",
      "metadata": {
        "id": "WzM7IIVqRwsd"
      },
      "source": [
        "### voting "
      ]
    },
    {
      "cell_type": "code",
      "metadata": {
        "colab": {
          "base_uri": "https://localhost:8080/"
        },
        "id": "zXUuEQupVR6p",
        "outputId": "5c4f8cd2-da70-4239-a436-59a8d446bdb8"
      },
      "source": [
        "from sklearn.metrics import roc_curve\n",
        "\n",
        "# 레이블 값이 1일때의 예측 확률을 추출 \n",
        "pred_proba_class1 = voting.predict_proba(X_test)[:, 1] \n",
        "\n",
        "fprs , tprs , thresholds = roc_curve(y_test, pred_proba_class1)\n",
        "# 반환된 임곗값 배열 로우가 8건\n",
        "thr_index = np.arange(0, thresholds.shape[0], 1)\n",
        "print( '반환된 임곗값 배열 로우 : ', thresholds.shape[0])\n",
        "print('샘플 추출을 위한 임곗값 배열의 index 8개:', thr_index)\n",
        "print('샘플용 8개의 임곗값: ', np.round(thresholds[thr_index], 1))\n",
        "\n",
        "# 1 step 단위로 추출된 임계값에 따른 FPR, TPR 값\n",
        "print('샘플 임곗값별 FPR: ', np.round(fprs[thr_index], 1))\n",
        "print('샘플 임곗값별 TPR: ', np.round(tprs[thr_index], 1))"
      ],
      "execution_count": null,
      "outputs": [
        {
          "output_type": "stream",
          "text": [
            "반환된 임곗값 배열 로우 :  8\n",
            "샘플 추출을 위한 임곗값 배열의 index 8개: [0 1 2 3 4 5 6 7]\n",
            "샘플용 8개의 임곗값:  [1.9 0.9 0.9 0.9 0.9 0.8 0.4 0. ]\n",
            "샘플 임곗값별 FPR:  [0.  0.  0.  0.  0.  0.1 0.1 1. ]\n",
            "샘플 임곗값별 TPR:  [0.  0.1 0.9 0.9 0.9 0.9 1.  1. ]\n"
          ],
          "name": "stdout"
        }
      ]
    },
    {
      "cell_type": "markdown",
      "metadata": {
        "id": "lwoPpaz9R0gB"
      },
      "source": [
        "### RF"
      ]
    },
    {
      "cell_type": "code",
      "metadata": {
        "colab": {
          "base_uri": "https://localhost:8080/"
        },
        "id": "Qmoj0ClwVxkJ",
        "outputId": "fc4ea1ca-c204-4c0f-c55e-dff0b4901a9f"
      },
      "source": [
        "from sklearn.metrics import roc_curve\n",
        "\n",
        "# 레이블 값이 1일때의 예측 확률을 추출 \n",
        "pred_proba_class1 = forest.predict_proba(X_test)[:, 1] \n",
        "\n",
        "fprs , tprs , thresholds = roc_curve(y_test, pred_proba_class1)\n",
        "# 반환된 임곗값 배열 로우가 13건이므로 7건만 추출하기위해 임계값을 2step으로 추출\n",
        "thr_index = np.arange(0, thresholds.shape[0], 2)\n",
        "print( '반환된 임곗값 배열 로우 : ', thresholds.shape[0])\n",
        "print('샘플 추출을 위한 임곗값 배열의 index 7개:', thr_index)\n",
        "print('샘플용 8개의 임곗값: ', np.round(thresholds[thr_index], 1))\n",
        "\n",
        "# 2 step 단위로 추출된 임계값에 따른 FPR, TPR 값\n",
        "print('샘플 임곗값별 FPR: ', np.round(fprs[thr_index], 1))\n",
        "print('샘플 임곗값별 TPR: ', np.round(tprs[thr_index], 1))"
      ],
      "execution_count": null,
      "outputs": [
        {
          "output_type": "stream",
          "text": [
            "반환된 임곗값 배열 로우 :  13\n",
            "샘플 추출을 위한 임곗값 배열의 index 7개: [ 0  2  4  6  8 10 12]\n",
            "샘플용 8개의 임곗값:  [2.  1.  0.9 0.4 0.  0.  0. ]\n",
            "샘플 임곗값별 FPR:  [0.  0.  0.  0.1 0.4 0.6 1. ]\n",
            "샘플 임곗값별 TPR:  [0.  0.1 0.7 1.  1.  1.  1. ]\n"
          ],
          "name": "stdout"
        }
      ]
    },
    {
      "cell_type": "markdown",
      "metadata": {
        "id": "1JszYFadR3hh"
      },
      "source": [
        "### adaboost"
      ]
    },
    {
      "cell_type": "code",
      "metadata": {
        "colab": {
          "base_uri": "https://localhost:8080/"
        },
        "id": "Glhb9DczV_6i",
        "outputId": "ede22974-68f8-4545-a263-be2f8fb0803b"
      },
      "source": [
        "from sklearn.metrics import roc_curve\n",
        "\n",
        "# 레이블 값이 1일때의 예측 확률을 추출 \n",
        "pred_proba_class1 = adaboost.predict_proba(X_test)[:, 1] \n",
        "\n",
        "fprs , tprs , thresholds = roc_curve(y_test, pred_proba_class1)\n",
        "# 반환된 임곗값 배열 로우가 13건이므로 7건만 추출하기위해 임계값을 2step으로 추출\n",
        "thr_index = np.arange(0, thresholds.shape[0], 2)\n",
        "print( '반환된 임곗값 배열 로우 : ', thresholds.shape[0])\n",
        "print('샘플 추출을 위한 임곗값 배열의 index 7개:', thr_index)\n",
        "print('샘플용 8개의 임곗값: ', np.round(thresholds[thr_index], 1))\n",
        "\n",
        "# 2 step 단위로 추출된 임계값에 따른 FPR, TPR 값\n",
        "print('샘플 임곗값별 FPR: ', np.round(fprs[thr_index], 1))\n",
        "print('샘플 임곗값별 TPR: ', np.round(tprs[thr_index], 1))"
      ],
      "execution_count": null,
      "outputs": [
        {
          "output_type": "stream",
          "text": [
            "반환된 임곗값 배열 로우 :  13\n",
            "샘플 추출을 위한 임곗값 배열의 index 7개: [ 0  2  4  6  8 10 12]\n",
            "샘플용 8개의 임곗값:  [1.8 0.7 0.7 0.4 0.3 0.2 0.2]\n",
            "샘플 임곗값별 FPR:  [0.  0.  0.1 0.1 0.3 0.9 1. ]\n",
            "샘플 임곗값별 TPR:  [0.  0.2 0.9 1.  1.  1.  1. ]\n"
          ],
          "name": "stdout"
        }
      ]
    }
  ]
}