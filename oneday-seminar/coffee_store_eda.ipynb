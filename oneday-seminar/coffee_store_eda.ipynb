{
  "nbformat": 4,
  "nbformat_minor": 0,
  "metadata": {
    "kernelspec": {
      "display_name": "Python 3",
      "language": "python",
      "name": "python3"
    },
    "language_info": {
      "codemirror_mode": {
        "name": "ipython",
        "version": 3
      },
      "file_extension": ".py",
      "mimetype": "text/x-python",
      "name": "python",
      "nbconvert_exporter": "python",
      "pygments_lexer": "ipython3",
      "version": "3.6.1"
    },
    "varInspector": {
      "cols": {
        "lenName": 16,
        "lenType": 16,
        "lenVar": 40
      },
      "kernels_config": {
        "python": {
          "delete_cmd_postfix": "",
          "delete_cmd_prefix": "del ",
          "library": "var_list.py",
          "varRefreshCmd": "print(var_dic_list())"
        },
        "r": {
          "delete_cmd_postfix": ") ",
          "delete_cmd_prefix": "rm(",
          "library": "var_list.r",
          "varRefreshCmd": "cat(var_dic_list()) "
        }
      },
      "types_to_exclude": [
        "module",
        "function",
        "builtin_function_or_method",
        "instance",
        "_Feature"
      ],
      "window_display": false
    },
    "colab": {
      "name": "coffee-store-eda.ipynb의 사본",
      "provenance": [],
      "toc_visible": true,
      "include_colab_link": true
    }
  },
  "cells": [
    {
      "cell_type": "markdown",
      "metadata": {
        "id": "view-in-github",
        "colab_type": "text"
      },
      "source": [
        "<a href=\"https://colab.research.google.com/github/hijyun/Machine-Learning/blob/main/coffee_store_eda.ipynb\" target=\"_parent\"><img src=\"https://colab.research.google.com/assets/colab-badge.svg\" alt=\"Open In Colab\"/></a>"
      ]
    },
    {
      "cell_type": "markdown",
      "metadata": {
        "id": "U6qpu6ajt8xg"
      },
      "source": [
        "# 소상공인시장진흥공단 상가업소정보로 스타벅스, 이디야 위치 분석하기\n",
        "* https://www.data.go.kr/dataset/15012005/fileData.do\n",
        "* [[비즈&빅데이터]스타벅스 '쏠림' vs 이디야 '분산'](http://news.bizwatch.co.kr/article/consumer/2018/01/19/0015)"
      ]
    },
    {
      "cell_type": "code",
      "metadata": {
        "id": "lVr_jF33t8xr"
      },
      "source": [
        "# warning 메시지 제거, warning 메시지는 라이브러리 업데이트나 사용법에 대한 안내 등이 있습니다.\n",
        "# 코딩을 처음 시작할 때는  warning 메시지가 나오면 당황하실 수도 있어서 제거를 하고 보도록 합니다.\n",
        "# warning 메시지는 제거하고 보셔도 되지만 Error 메시지를 꼭 고쳐주셔야 합니다.\n",
        "import warnings\n",
        "warnings.filterwarnings('ignore')"
      ],
      "execution_count": null,
      "outputs": []
    },
    {
      "cell_type": "markdown",
      "metadata": {
        "id": "vZRKzfbst8x9"
      },
      "source": [
        "## 필요한 라이브러리 불러오기"
      ]
    },
    {
      "cell_type": "code",
      "metadata": {
        "id": "0mCNZZb6t8yD"
      },
      "source": [
        "import pandas as pd\n",
        "import numpy as np\n",
        "import seaborn as sns\n",
        "# 지도 시각화를 위해\n",
        "import folium\n",
        "\n",
        "# 노트북 안에서 그래프를 표시하기 위해\n",
        "%matplotlib inline"
      ],
      "execution_count": null,
      "outputs": []
    },
    {
      "cell_type": "code",
      "metadata": {
        "id": "VxdJpXUIt8yT"
      },
      "source": [
        "import matplotlib.pyplot as plt\n",
        "from IPython.display import set_matplotlib_formats\n",
        "# Window 의 한글 폰트 설정\n",
        "# plt.rc('font',family='Malgun Gothic')\n",
        "# Mac 의 한글 폰트 설정\n",
        "plt.rc('font', family='AppleGothic') \n",
        "plt.rc('axes', unicode_minus=False)\n",
        "\n",
        "set_matplotlib_formats('retina')\n",
        "\n",
        "# 그래프가 노트북 안에 보이게 하기 위해\n",
        "%matplotlib inline"
      ],
      "execution_count": null,
      "outputs": []
    },
    {
      "cell_type": "markdown",
      "metadata": {
        "id": "A4omrXJJt8ye"
      },
      "source": [
        "## Colab 에서 실행을 위한 코드\n",
        "\n",
        "* 아래의 코드는 google colaboratory 에서 실행을 위한 코드로 로컬 아나콘다에서는 주석처리합니다.\n",
        "* google colaboratory 에서는 주석을 풀고 폰트 설정과 csv 파일을 불러옵니다."
      ]
    },
    {
      "cell_type": "code",
      "metadata": {
        "id": "MU5M4YD5t8yk",
        "colab": {
          "base_uri": "https://localhost:8080/",
          "height": 70
        },
        "outputId": "d082df19-c588-4186-f0fb-29ef336cd0d5"
      },
      "source": [
        "# 나눔고딕 설치\n",
        "!apt -qq -y install fonts-nanum > /dev/null\n",
        "\n",
        "import matplotlib.font_manager as fm\n",
        "\n",
        "fontpath = '/usr/share/fonts/truetype/nanum/NanumBarunGothic.ttf'\n",
        "font = fm.FontProperties(fname=fontpath, size=9)\n",
        "fm._rebuild()\n",
        "\n",
        "# 그래프에 retina display 적용\n",
        "%config InlineBackend.figure_format = 'retina'\n",
        "\n",
        "# Colab 의 한글 폰트 설정\n",
        "plt.rc('font', family='NanumBarunGothic') "
      ],
      "execution_count": null,
      "outputs": [
        {
          "output_type": "stream",
          "text": [
            "\n",
            "WARNING: apt does not have a stable CLI interface. Use with caution in scripts.\n",
            "\n"
          ],
          "name": "stdout"
        }
      ]
    },
    {
      "cell_type": "code",
      "metadata": {
        "id": "A3IP_Lcst8yy"
      },
      "source": [
        "# 구글 드라이브에서 csv 파일을 읽어오기 위해 gauth 인증\n",
        "!pip install -U -q PyDrive\n",
        "from pydrive.auth import GoogleAuth\n",
        "from pydrive.drive import GoogleDrive\n",
        "from google.colab import auth\n",
        "from oauth2client.client import GoogleCredentials\n",
        "\n",
        "# PyDrive client 인증\n",
        "auth.authenticate_user()\n",
        "gauth = GoogleAuth()\n",
        "gauth.credentials = GoogleCredentials.get_application_default()\n",
        "drive = GoogleDrive(gauth)"
      ],
      "execution_count": null,
      "outputs": []
    },
    {
      "cell_type": "code",
      "metadata": {
        "id": "x9XKMifFt8y9",
        "colab": {
          "base_uri": "https://localhost:8080/",
          "height": 34
        },
        "outputId": "a7f89501-5af4-4137-c3bc-8c2b1065613a"
      },
      "source": [
        "# 공유 가능한 링크로 파일 가져오기\n",
        "url = 'https://drive.google.com/open?id=1xvJs9ZxUHoBBAUXq1IWEaRXgcop8KjrT'\n",
        "id = url.split('=')[1]\n",
        "print(id)\n",
        "downloaded = drive.CreateFile({'id':id}) \n",
        "# data 폴더에 파일을 관리하며, 폴더가 없다면 만들어서 파일을 관리하도록 한다.\n",
        "%mkdir data\n",
        "downloaded.GetContentFile('data/store_201906_01.csv')  "
      ],
      "execution_count": null,
      "outputs": [
        {
          "output_type": "stream",
          "text": [
            "1xvJs9ZxUHoBBAUXq1IWEaRXgcop8KjrT\n"
          ],
          "name": "stdout"
        }
      ]
    },
    {
      "cell_type": "markdown",
      "metadata": {
        "id": "FBmRPujNt8zF"
      },
      "source": [
        "## 데이터 불러오기\n",
        "* 데이터 다운로드 위치 : https://www.data.go.kr/dataset/15012005/fileData.do\n",
        "* 공공데이터 포털에서 소상공인시장진흥공단 상가업소정보를 다운로드 받아 사용했습니다.\n",
        "* 구글드라이브에서 받기 : https://drive.google.com/open?id=1xvJs9ZxUHoBBAUXq1IWEaRXgcop8KjrT"
      ]
    },
    {
      "cell_type": "code",
      "metadata": {
        "id": "ss_E44rOt8zH"
      },
      "source": [
        "#데이터를 불러와 df_store 라는 변수에 담아주세요.\n",
        "df_store = pd.read_csv('data/store_201906_01.csv')"
      ],
      "execution_count": null,
      "outputs": []
    },
    {
      "cell_type": "markdown",
      "metadata": {
        "id": "dyQRK-Ust8zN"
      },
      "source": [
        "## 데이터 크기 보기"
      ]
    },
    {
      "cell_type": "code",
      "metadata": {
        "id": "cyKecWGyt8zP",
        "colab": {
          "base_uri": "https://localhost:8080/",
          "height": 34
        },
        "outputId": "a791b012-8775-43f9-9126-82a10e53a743"
      },
      "source": [
        "df_store.shape"
      ],
      "execution_count": null,
      "outputs": [
        {
          "output_type": "execute_result",
          "data": {
            "text/plain": [
              "(565016, 39)"
            ]
          },
          "metadata": {
            "tags": []
          },
          "execution_count": 10
        }
      ]
    },
    {
      "cell_type": "markdown",
      "metadata": {
        "id": "pfMTE3HZt8zV"
      },
      "source": [
        "## info 보기"
      ]
    },
    {
      "cell_type": "code",
      "metadata": {
        "scrolled": true,
        "id": "8HdjE_k4t8zX",
        "colab": {
          "base_uri": "https://localhost:8080/",
          "height": 791
        },
        "outputId": "3e5e3cbe-05f7-4c18-c645-be3644ba139e"
      },
      "source": [
        "df_store.info()"
      ],
      "execution_count": null,
      "outputs": [
        {
          "output_type": "stream",
          "text": [
            "<class 'pandas.core.frame.DataFrame'>\n",
            "RangeIndex: 565016 entries, 0 to 565015\n",
            "Data columns (total 39 columns):\n",
            "상가업소번호       565016 non-null int64\n",
            "상호명          565015 non-null object\n",
            "지점명          75524 non-null object\n",
            "상권업종대분류코드    565016 non-null object\n",
            "상권업종대분류명     565016 non-null object\n",
            "상권업종중분류코드    565016 non-null object\n",
            "상권업종중분류명     565016 non-null object\n",
            "상권업종소분류코드    565016 non-null object\n",
            "상권업종소분류명     565016 non-null object\n",
            "표준산업분류코드     532064 non-null object\n",
            "표준산업분류명      532064 non-null object\n",
            "시도코드         565016 non-null int64\n",
            "시도명          565016 non-null object\n",
            "시군구코드        565016 non-null int64\n",
            "시군구명         565016 non-null object\n",
            "행정동코드        565016 non-null int64\n",
            "행정동명         565016 non-null object\n",
            "법정동코드        565016 non-null int64\n",
            "법정동명         565016 non-null object\n",
            "지번코드         565016 non-null int64\n",
            "대지구분코드       565016 non-null int64\n",
            "대지구분명        565016 non-null object\n",
            "지번본번지        565016 non-null int64\n",
            "지번부번지        467893 non-null float64\n",
            "지번주소         565016 non-null object\n",
            "도로명코드        565016 non-null int64\n",
            "도로명          565016 non-null object\n",
            "건물본번지        565016 non-null int64\n",
            "건물부번지        70852 non-null float64\n",
            "건물관리번호       565016 non-null object\n",
            "건물명          261208 non-null object\n",
            "도로명주소        565016 non-null object\n",
            "구우편번호        565016 non-null int64\n",
            "신우편번호        565007 non-null float64\n",
            "동정보          50214 non-null object\n",
            "층정보          344553 non-null object\n",
            "호정보          83136 non-null object\n",
            "경도           565016 non-null float64\n",
            "위도           565016 non-null float64\n",
            "dtypes: float64(5), int64(11), object(23)\n",
            "memory usage: 168.1+ MB\n"
          ],
          "name": "stdout"
        }
      ]
    },
    {
      "cell_type": "markdown",
      "metadata": {
        "id": "Iq-4VGwyt8zc"
      },
      "source": [
        "## 결측치 보기"
      ]
    },
    {
      "cell_type": "code",
      "metadata": {
        "id": "5mQRMX3Yt8zd",
        "colab": {
          "base_uri": "https://localhost:8080/",
          "height": 721
        },
        "outputId": "bf9f9886-6128-4ead-e022-2589c0c65df5"
      },
      "source": [
        "df_store.isnull().sum()"
      ],
      "execution_count": null,
      "outputs": [
        {
          "output_type": "execute_result",
          "data": {
            "text/plain": [
              "상가업소번호            0\n",
              "상호명               1\n",
              "지점명          489492\n",
              "상권업종대분류코드         0\n",
              "상권업종대분류명          0\n",
              "상권업종중분류코드         0\n",
              "상권업종중분류명          0\n",
              "상권업종소분류코드         0\n",
              "상권업종소분류명          0\n",
              "표준산업분류코드      32952\n",
              "표준산업분류명       32952\n",
              "시도코드              0\n",
              "시도명               0\n",
              "시군구코드             0\n",
              "시군구명              0\n",
              "행정동코드             0\n",
              "행정동명              0\n",
              "법정동코드             0\n",
              "법정동명              0\n",
              "지번코드              0\n",
              "대지구분코드            0\n",
              "대지구분명             0\n",
              "지번본번지             0\n",
              "지번부번지         97123\n",
              "지번주소              0\n",
              "도로명코드             0\n",
              "도로명               0\n",
              "건물본번지             0\n",
              "건물부번지        494164\n",
              "건물관리번호            0\n",
              "건물명          303808\n",
              "도로명주소             0\n",
              "구우편번호             0\n",
              "신우편번호             9\n",
              "동정보          514802\n",
              "층정보          220463\n",
              "호정보          481880\n",
              "경도                0\n",
              "위도                0\n",
              "dtype: int64"
            ]
          },
          "metadata": {
            "tags": []
          },
          "execution_count": 13
        }
      ]
    },
    {
      "cell_type": "markdown",
      "metadata": {
        "id": "YxcUxnQxt8zg"
      },
      "source": [
        "## 사용하지 않는 컬럼 제거하기"
      ]
    },
    {
      "cell_type": "code",
      "metadata": {
        "id": "21DYt-Awt8zh",
        "colab": {
          "base_uri": "https://localhost:8080/",
          "height": 127
        },
        "outputId": "a8ab7203-7a84-46b9-bf5e-021d1da2f76f"
      },
      "source": [
        "drop_columns = [\"상권업종중분류코드\", \"상권업종소분류코드\", \n",
        "                \"건물관리번호\", \"표준산업분류코드\", \"표준산업분류명\", \n",
        "                \"지번부번지\", \"층정보\", \"건물명\", \"호정보\", \n",
        "                \"지점명\", \"건물부번지\", \"동정보\"]\n",
        "df_store[drop_columns].sample()"
      ],
      "execution_count": null,
      "outputs": [
        {
          "output_type": "execute_result",
          "data": {
            "text/html": [
              "<div>\n",
              "<style scoped>\n",
              "    .dataframe tbody tr th:only-of-type {\n",
              "        vertical-align: middle;\n",
              "    }\n",
              "\n",
              "    .dataframe tbody tr th {\n",
              "        vertical-align: top;\n",
              "    }\n",
              "\n",
              "    .dataframe thead th {\n",
              "        text-align: right;\n",
              "    }\n",
              "</style>\n",
              "<table border=\"1\" class=\"dataframe\">\n",
              "  <thead>\n",
              "    <tr style=\"text-align: right;\">\n",
              "      <th></th>\n",
              "      <th>상권업종중분류코드</th>\n",
              "      <th>상권업종소분류코드</th>\n",
              "      <th>건물관리번호</th>\n",
              "      <th>표준산업분류코드</th>\n",
              "      <th>표준산업분류명</th>\n",
              "      <th>지번부번지</th>\n",
              "      <th>층정보</th>\n",
              "      <th>건물명</th>\n",
              "      <th>호정보</th>\n",
              "      <th>지점명</th>\n",
              "      <th>건물부번지</th>\n",
              "      <th>동정보</th>\n",
              "    </tr>\n",
              "  </thead>\n",
              "  <tbody>\n",
              "    <tr>\n",
              "      <th>136722</th>\n",
              "      <td>D01</td>\n",
              "      <td>D01A07</td>\n",
              "      <td>1162010100117060000033069</td>\n",
              "      <td>G47219</td>\n",
              "      <td>기타 식료품 소매업</td>\n",
              "      <td>NaN</td>\n",
              "      <td>1</td>\n",
              "      <td>봉천우성아파트</td>\n",
              "      <td>NaN</td>\n",
              "      <td>NaN</td>\n",
              "      <td>NaN</td>\n",
              "      <td>NaN</td>\n",
              "    </tr>\n",
              "  </tbody>\n",
              "</table>\n",
              "</div>"
            ],
            "text/plain": [
              "       상권업종중분류코드 상권업종소분류코드                     건물관리번호  ...  지점명 건물부번지  동정보\n",
              "136722       D01    D01A07  1162010100117060000033069  ...  NaN   NaN  NaN\n",
              "\n",
              "[1 rows x 12 columns]"
            ]
          },
          "metadata": {
            "tags": []
          },
          "execution_count": 15
        }
      ]
    },
    {
      "cell_type": "code",
      "metadata": {
        "id": "4_OddBbzt8zk",
        "colab": {
          "base_uri": "https://localhost:8080/",
          "height": 1000
        },
        "outputId": "1a7a588d-7902-4456-f5dd-e890aa33e6f8"
      },
      "source": [
        "df_store = df_store.drop(drop_columns, axis =1 )\n",
        "df_store"
      ],
      "execution_count": null,
      "outputs": [
        {
          "output_type": "execute_result",
          "data": {
            "text/html": [
              "<div>\n",
              "<style scoped>\n",
              "    .dataframe tbody tr th:only-of-type {\n",
              "        vertical-align: middle;\n",
              "    }\n",
              "\n",
              "    .dataframe tbody tr th {\n",
              "        vertical-align: top;\n",
              "    }\n",
              "\n",
              "    .dataframe thead th {\n",
              "        text-align: right;\n",
              "    }\n",
              "</style>\n",
              "<table border=\"1\" class=\"dataframe\">\n",
              "  <thead>\n",
              "    <tr style=\"text-align: right;\">\n",
              "      <th></th>\n",
              "      <th>상가업소번호</th>\n",
              "      <th>상호명</th>\n",
              "      <th>상권업종대분류코드</th>\n",
              "      <th>상권업종대분류명</th>\n",
              "      <th>상권업종중분류명</th>\n",
              "      <th>상권업종소분류명</th>\n",
              "      <th>시도코드</th>\n",
              "      <th>시도명</th>\n",
              "      <th>시군구코드</th>\n",
              "      <th>시군구명</th>\n",
              "      <th>행정동코드</th>\n",
              "      <th>행정동명</th>\n",
              "      <th>법정동코드</th>\n",
              "      <th>법정동명</th>\n",
              "      <th>지번코드</th>\n",
              "      <th>대지구분코드</th>\n",
              "      <th>대지구분명</th>\n",
              "      <th>지번본번지</th>\n",
              "      <th>지번주소</th>\n",
              "      <th>도로명코드</th>\n",
              "      <th>도로명</th>\n",
              "      <th>건물본번지</th>\n",
              "      <th>도로명주소</th>\n",
              "      <th>구우편번호</th>\n",
              "      <th>신우편번호</th>\n",
              "      <th>경도</th>\n",
              "      <th>위도</th>\n",
              "    </tr>\n",
              "  </thead>\n",
              "  <tbody>\n",
              "    <tr>\n",
              "      <th>0</th>\n",
              "      <td>19911397</td>\n",
              "      <td>커피빈코리아선릉로93길점</td>\n",
              "      <td>Q</td>\n",
              "      <td>음식</td>\n",
              "      <td>커피점/카페</td>\n",
              "      <td>커피전문점/카페/다방</td>\n",
              "      <td>11</td>\n",
              "      <td>서울특별시</td>\n",
              "      <td>11680</td>\n",
              "      <td>강남구</td>\n",
              "      <td>1168064000</td>\n",
              "      <td>역삼1동</td>\n",
              "      <td>1168010100</td>\n",
              "      <td>역삼동</td>\n",
              "      <td>1168010100206960042</td>\n",
              "      <td>1</td>\n",
              "      <td>대지</td>\n",
              "      <td>696</td>\n",
              "      <td>서울특별시 강남구 역삼동 696-42</td>\n",
              "      <td>116804166502</td>\n",
              "      <td>서울특별시 강남구 선릉로93길</td>\n",
              "      <td>6</td>\n",
              "      <td>서울특별시 강남구 선릉로93길 6</td>\n",
              "      <td>135080</td>\n",
              "      <td>6149.0</td>\n",
              "      <td>127.047883</td>\n",
              "      <td>37.505675</td>\n",
              "    </tr>\n",
              "    <tr>\n",
              "      <th>1</th>\n",
              "      <td>19911801</td>\n",
              "      <td>프로포즈</td>\n",
              "      <td>Q</td>\n",
              "      <td>음식</td>\n",
              "      <td>유흥주점</td>\n",
              "      <td>호프/맥주</td>\n",
              "      <td>11</td>\n",
              "      <td>서울특별시</td>\n",
              "      <td>11545</td>\n",
              "      <td>금천구</td>\n",
              "      <td>1154563000</td>\n",
              "      <td>독산3동</td>\n",
              "      <td>1154510200</td>\n",
              "      <td>독산동</td>\n",
              "      <td>1154510200201620001</td>\n",
              "      <td>1</td>\n",
              "      <td>대지</td>\n",
              "      <td>162</td>\n",
              "      <td>서울특별시 금천구 독산동 162-1</td>\n",
              "      <td>115453117003</td>\n",
              "      <td>서울특별시 금천구 가산로</td>\n",
              "      <td>34</td>\n",
              "      <td>서울특별시 금천구 가산로 34-6</td>\n",
              "      <td>153010</td>\n",
              "      <td>8545.0</td>\n",
              "      <td>126.899220</td>\n",
              "      <td>37.471711</td>\n",
              "    </tr>\n",
              "    <tr>\n",
              "      <th>2</th>\n",
              "      <td>19912201</td>\n",
              "      <td>싱싱커피&amp;토스트</td>\n",
              "      <td>Q</td>\n",
              "      <td>음식</td>\n",
              "      <td>패스트푸드</td>\n",
              "      <td>토스트전문</td>\n",
              "      <td>26</td>\n",
              "      <td>부산광역시</td>\n",
              "      <td>26530</td>\n",
              "      <td>사상구</td>\n",
              "      <td>2653062000</td>\n",
              "      <td>괘법동</td>\n",
              "      <td>2653010400</td>\n",
              "      <td>괘법동</td>\n",
              "      <td>2653010400205780000</td>\n",
              "      <td>1</td>\n",
              "      <td>대지</td>\n",
              "      <td>578</td>\n",
              "      <td>부산광역시 사상구 괘법동 578</td>\n",
              "      <td>265303139004</td>\n",
              "      <td>부산광역시 사상구 괘감로</td>\n",
              "      <td>37</td>\n",
              "      <td>부산광역시 사상구 괘감로 37</td>\n",
              "      <td>617726</td>\n",
              "      <td>46977.0</td>\n",
              "      <td>128.980455</td>\n",
              "      <td>35.159774</td>\n",
              "    </tr>\n",
              "    <tr>\n",
              "      <th>3</th>\n",
              "      <td>19905471</td>\n",
              "      <td>와라와라호프</td>\n",
              "      <td>Q</td>\n",
              "      <td>음식</td>\n",
              "      <td>유흥주점</td>\n",
              "      <td>호프/맥주</td>\n",
              "      <td>11</td>\n",
              "      <td>서울특별시</td>\n",
              "      <td>11680</td>\n",
              "      <td>강남구</td>\n",
              "      <td>1168060000</td>\n",
              "      <td>대치1동</td>\n",
              "      <td>1168010600</td>\n",
              "      <td>대치동</td>\n",
              "      <td>1168010600206040000</td>\n",
              "      <td>1</td>\n",
              "      <td>대지</td>\n",
              "      <td>604</td>\n",
              "      <td>서울특별시 강남구 대치동 604</td>\n",
              "      <td>116802000003</td>\n",
              "      <td>서울특별시 강남구 남부순환로</td>\n",
              "      <td>2933</td>\n",
              "      <td>서울특별시 강남구 남부순환로 2933</td>\n",
              "      <td>135280</td>\n",
              "      <td>6280.0</td>\n",
              "      <td>127.061026</td>\n",
              "      <td>37.493922</td>\n",
              "    </tr>\n",
              "    <tr>\n",
              "      <th>4</th>\n",
              "      <td>19932756</td>\n",
              "      <td>가락사우나내스낵</td>\n",
              "      <td>F</td>\n",
              "      <td>생활서비스</td>\n",
              "      <td>대중목욕탕/휴게</td>\n",
              "      <td>사우나/증기탕/온천</td>\n",
              "      <td>11</td>\n",
              "      <td>서울특별시</td>\n",
              "      <td>11710</td>\n",
              "      <td>송파구</td>\n",
              "      <td>1171060000</td>\n",
              "      <td>석촌동</td>\n",
              "      <td>1171010500</td>\n",
              "      <td>석촌동</td>\n",
              "      <td>1171010500202560000</td>\n",
              "      <td>1</td>\n",
              "      <td>대지</td>\n",
              "      <td>256</td>\n",
              "      <td>서울특별시 송파구 석촌동 256</td>\n",
              "      <td>117103123001</td>\n",
              "      <td>서울특별시 송파구 가락로</td>\n",
              "      <td>71</td>\n",
              "      <td>서울특별시 송파구 가락로 71</td>\n",
              "      <td>138846</td>\n",
              "      <td>5690.0</td>\n",
              "      <td>127.104071</td>\n",
              "      <td>37.500249</td>\n",
              "    </tr>\n",
              "    <tr>\n",
              "      <th>5</th>\n",
              "      <td>19964615</td>\n",
              "      <td>석봉토스트</td>\n",
              "      <td>Q</td>\n",
              "      <td>음식</td>\n",
              "      <td>패스트푸드</td>\n",
              "      <td>토스트전문</td>\n",
              "      <td>11</td>\n",
              "      <td>서울특별시</td>\n",
              "      <td>11215</td>\n",
              "      <td>광진구</td>\n",
              "      <td>1121586000</td>\n",
              "      <td>구의2동</td>\n",
              "      <td>1121510300</td>\n",
              "      <td>구의동</td>\n",
              "      <td>1121510300200770047</td>\n",
              "      <td>1</td>\n",
              "      <td>대지</td>\n",
              "      <td>77</td>\n",
              "      <td>서울특별시 광진구 구의동 77-47</td>\n",
              "      <td>112154112444</td>\n",
              "      <td>서울특별시 광진구 자양로39길</td>\n",
              "      <td>20</td>\n",
              "      <td>서울특별시 광진구 자양로39길 20</td>\n",
              "      <td>143200</td>\n",
              "      <td>4992.0</td>\n",
              "      <td>127.088387</td>\n",
              "      <td>37.549245</td>\n",
              "    </tr>\n",
              "    <tr>\n",
              "      <th>6</th>\n",
              "      <td>19975850</td>\n",
              "      <td>허술한집</td>\n",
              "      <td>Q</td>\n",
              "      <td>음식</td>\n",
              "      <td>분식</td>\n",
              "      <td>라면김밥분식</td>\n",
              "      <td>11</td>\n",
              "      <td>서울특별시</td>\n",
              "      <td>11500</td>\n",
              "      <td>강서구</td>\n",
              "      <td>1150062000</td>\n",
              "      <td>공항동</td>\n",
              "      <td>1150010800</td>\n",
              "      <td>공항동</td>\n",
              "      <td>1150010800200450089</td>\n",
              "      <td>1</td>\n",
              "      <td>대지</td>\n",
              "      <td>45</td>\n",
              "      <td>서울특별시 강서구 공항동 45-89</td>\n",
              "      <td>115004145181</td>\n",
              "      <td>서울특별시 강서구 공항대로3길</td>\n",
              "      <td>9</td>\n",
              "      <td>서울특별시 강서구 공항대로3길 9</td>\n",
              "      <td>157812</td>\n",
              "      <td>7619.0</td>\n",
              "      <td>126.809957</td>\n",
              "      <td>37.562013</td>\n",
              "    </tr>\n",
              "    <tr>\n",
              "      <th>7</th>\n",
              "      <td>19977290</td>\n",
              "      <td>피자마루</td>\n",
              "      <td>Q</td>\n",
              "      <td>음식</td>\n",
              "      <td>패스트푸드</td>\n",
              "      <td>피자전문</td>\n",
              "      <td>11</td>\n",
              "      <td>서울특별시</td>\n",
              "      <td>11140</td>\n",
              "      <td>중구</td>\n",
              "      <td>1114063500</td>\n",
              "      <td>약수동</td>\n",
              "      <td>1114016200</td>\n",
              "      <td>신당동</td>\n",
              "      <td>1114016200203720095</td>\n",
              "      <td>1</td>\n",
              "      <td>대지</td>\n",
              "      <td>372</td>\n",
              "      <td>서울특별시 중구 신당동 372-95</td>\n",
              "      <td>111404103114</td>\n",
              "      <td>서울특별시 중구 동호로7길</td>\n",
              "      <td>37</td>\n",
              "      <td>서울특별시 중구 동호로7길 37</td>\n",
              "      <td>100450</td>\n",
              "      <td>4596.0</td>\n",
              "      <td>127.010861</td>\n",
              "      <td>37.552153</td>\n",
              "    </tr>\n",
              "    <tr>\n",
              "      <th>8</th>\n",
              "      <td>19979960</td>\n",
              "      <td>홍능갈비</td>\n",
              "      <td>Q</td>\n",
              "      <td>음식</td>\n",
              "      <td>한식</td>\n",
              "      <td>갈비/삼겹살</td>\n",
              "      <td>11</td>\n",
              "      <td>서울특별시</td>\n",
              "      <td>11500</td>\n",
              "      <td>강서구</td>\n",
              "      <td>1150054000</td>\n",
              "      <td>화곡1동</td>\n",
              "      <td>1150010300</td>\n",
              "      <td>화곡동</td>\n",
              "      <td>1150010300210860003</td>\n",
              "      <td>1</td>\n",
              "      <td>대지</td>\n",
              "      <td>1086</td>\n",
              "      <td>서울특별시 강서구 화곡동 1086-3</td>\n",
              "      <td>115004145499</td>\n",
              "      <td>서울특별시 강서구 화곡로18길</td>\n",
              "      <td>31</td>\n",
              "      <td>서울특별시 강서구 화곡로18길 31</td>\n",
              "      <td>157010</td>\n",
              "      <td>7718.0</td>\n",
              "      <td>126.836078</td>\n",
              "      <td>37.538927</td>\n",
              "    </tr>\n",
              "    <tr>\n",
              "      <th>9</th>\n",
              "      <td>19983535</td>\n",
              "      <td>초밥왕</td>\n",
              "      <td>Q</td>\n",
              "      <td>음식</td>\n",
              "      <td>일식/수산물</td>\n",
              "      <td>음식점-초밥전문</td>\n",
              "      <td>11</td>\n",
              "      <td>서울특별시</td>\n",
              "      <td>11710</td>\n",
              "      <td>송파구</td>\n",
              "      <td>1171071000</td>\n",
              "      <td>잠실6동</td>\n",
              "      <td>1171010200</td>\n",
              "      <td>신천동</td>\n",
              "      <td>1171010200200070028</td>\n",
              "      <td>1</td>\n",
              "      <td>대지</td>\n",
              "      <td>7</td>\n",
              "      <td>서울특별시 송파구 신천동 7-28</td>\n",
              "      <td>117103123023</td>\n",
              "      <td>서울특별시 송파구 올림픽로</td>\n",
              "      <td>293</td>\n",
              "      <td>서울특별시 송파구 올림픽로 293-19</td>\n",
              "      <td>138735</td>\n",
              "      <td>5510.0</td>\n",
              "      <td>127.102490</td>\n",
              "      <td>37.515149</td>\n",
              "    </tr>\n",
              "    <tr>\n",
              "      <th>10</th>\n",
              "      <td>20020124</td>\n",
              "      <td>스완카페트</td>\n",
              "      <td>Q</td>\n",
              "      <td>음식</td>\n",
              "      <td>커피점/카페</td>\n",
              "      <td>커피전문점/카페/다방</td>\n",
              "      <td>11</td>\n",
              "      <td>서울특별시</td>\n",
              "      <td>11560</td>\n",
              "      <td>영등포구</td>\n",
              "      <td>1156072000</td>\n",
              "      <td>대림3동</td>\n",
              "      <td>1156013300</td>\n",
              "      <td>대림동</td>\n",
              "      <td>1156013300206040056</td>\n",
              "      <td>1</td>\n",
              "      <td>대지</td>\n",
              "      <td>604</td>\n",
              "      <td>서울특별시 영등포구 대림동 604-56</td>\n",
              "      <td>115604154302</td>\n",
              "      <td>서울특별시 영등포구 도신로10가길</td>\n",
              "      <td>11</td>\n",
              "      <td>서울특별시 영등포구 도신로10가길 11-1</td>\n",
              "      <td>150070</td>\n",
              "      <td>7379.0</td>\n",
              "      <td>126.897710</td>\n",
              "      <td>37.503693</td>\n",
              "    </tr>\n",
              "    <tr>\n",
              "      <th>11</th>\n",
              "      <td>19969945</td>\n",
              "      <td>에브리돈</td>\n",
              "      <td>Q</td>\n",
              "      <td>음식</td>\n",
              "      <td>한식</td>\n",
              "      <td>한식/백반/한정식</td>\n",
              "      <td>11</td>\n",
              "      <td>서울특별시</td>\n",
              "      <td>11410</td>\n",
              "      <td>서대문구</td>\n",
              "      <td>1141072000</td>\n",
              "      <td>북가좌2동</td>\n",
              "      <td>1141011900</td>\n",
              "      <td>북가좌동</td>\n",
              "      <td>1141011900203070002</td>\n",
              "      <td>1</td>\n",
              "      <td>대지</td>\n",
              "      <td>307</td>\n",
              "      <td>서울특별시 서대문구 북가좌동 307-2</td>\n",
              "      <td>114103005055</td>\n",
              "      <td>서울특별시 서대문구 응암로</td>\n",
              "      <td>65</td>\n",
              "      <td>서울특별시 서대문구 응암로 65</td>\n",
              "      <td>120130</td>\n",
              "      <td>3681.0</td>\n",
              "      <td>126.910288</td>\n",
              "      <td>37.579029</td>\n",
              "    </tr>\n",
              "    <tr>\n",
              "      <th>12</th>\n",
              "      <td>19969947</td>\n",
              "      <td>대왕농산</td>\n",
              "      <td>D</td>\n",
              "      <td>소매</td>\n",
              "      <td>음/식료품소매</td>\n",
              "      <td>청과물소매</td>\n",
              "      <td>11</td>\n",
              "      <td>서울특별시</td>\n",
              "      <td>11230</td>\n",
              "      <td>동대문구</td>\n",
              "      <td>1123054500</td>\n",
              "      <td>제기동</td>\n",
              "      <td>1123010300</td>\n",
              "      <td>제기동</td>\n",
              "      <td>1123010300206350018</td>\n",
              "      <td>1</td>\n",
              "      <td>대지</td>\n",
              "      <td>635</td>\n",
              "      <td>서울특별시 동대문구 제기동 635-18</td>\n",
              "      <td>112304115290</td>\n",
              "      <td>서울특별시 동대문구 왕산로35길</td>\n",
              "      <td>7</td>\n",
              "      <td>서울특별시 동대문구 왕산로35길 7</td>\n",
              "      <td>130862</td>\n",
              "      <td>2572.0</td>\n",
              "      <td>127.043189</td>\n",
              "      <td>37.580073</td>\n",
              "    </tr>\n",
              "    <tr>\n",
              "      <th>13</th>\n",
              "      <td>19970556</td>\n",
              "      <td>솔로몬피자</td>\n",
              "      <td>Q</td>\n",
              "      <td>음식</td>\n",
              "      <td>패스트푸드</td>\n",
              "      <td>피자전문</td>\n",
              "      <td>11</td>\n",
              "      <td>서울특별시</td>\n",
              "      <td>11215</td>\n",
              "      <td>광진구</td>\n",
              "      <td>1121573000</td>\n",
              "      <td>군자동</td>\n",
              "      <td>1121510900</td>\n",
              "      <td>군자동</td>\n",
              "      <td>1121510900201000017</td>\n",
              "      <td>1</td>\n",
              "      <td>대지</td>\n",
              "      <td>100</td>\n",
              "      <td>서울특별시 광진구 군자동 100-17</td>\n",
              "      <td>112153104005</td>\n",
              "      <td>서울특별시 광진구 군자로</td>\n",
              "      <td>99</td>\n",
              "      <td>서울특별시 광진구 군자로 99-2</td>\n",
              "      <td>143839</td>\n",
              "      <td>5001.0</td>\n",
              "      <td>127.071184</td>\n",
              "      <td>37.552103</td>\n",
              "    </tr>\n",
              "    <tr>\n",
              "      <th>14</th>\n",
              "      <td>19971398</td>\n",
              "      <td>우리식당</td>\n",
              "      <td>Q</td>\n",
              "      <td>음식</td>\n",
              "      <td>한식</td>\n",
              "      <td>한식/백반/한정식</td>\n",
              "      <td>11</td>\n",
              "      <td>서울특별시</td>\n",
              "      <td>11215</td>\n",
              "      <td>광진구</td>\n",
              "      <td>1121571000</td>\n",
              "      <td>화양동</td>\n",
              "      <td>1121510700</td>\n",
              "      <td>화양동</td>\n",
              "      <td>1121510700205070003</td>\n",
              "      <td>1</td>\n",
              "      <td>대지</td>\n",
              "      <td>507</td>\n",
              "      <td>서울특별시 광진구 화양동 507-3</td>\n",
              "      <td>112154112018</td>\n",
              "      <td>서울특별시 광진구 광나루로26길</td>\n",
              "      <td>16</td>\n",
              "      <td>서울특별시 광진구 광나루로26길 16</td>\n",
              "      <td>143926</td>\n",
              "      <td>5022.0</td>\n",
              "      <td>127.076812</td>\n",
              "      <td>37.545461</td>\n",
              "    </tr>\n",
              "    <tr>\n",
              "      <th>15</th>\n",
              "      <td>19971658</td>\n",
              "      <td>크리스피크림</td>\n",
              "      <td>Q</td>\n",
              "      <td>음식</td>\n",
              "      <td>패스트푸드</td>\n",
              "      <td>도너츠전문</td>\n",
              "      <td>11</td>\n",
              "      <td>서울특별시</td>\n",
              "      <td>11230</td>\n",
              "      <td>동대문구</td>\n",
              "      <td>1123056000</td>\n",
              "      <td>전농1동</td>\n",
              "      <td>1123010400</td>\n",
              "      <td>전농동</td>\n",
              "      <td>1123056000206200069</td>\n",
              "      <td>1</td>\n",
              "      <td>대지</td>\n",
              "      <td>620</td>\n",
              "      <td>서울특별시 동대문구 전농동 620-69</td>\n",
              "      <td>112303105008</td>\n",
              "      <td>서울특별시 동대문구 왕산로</td>\n",
              "      <td>200</td>\n",
              "      <td>서울특별시 동대문구 왕산로 200</td>\n",
              "      <td>130796</td>\n",
              "      <td>2559.0</td>\n",
              "      <td>127.045022</td>\n",
              "      <td>37.580196</td>\n",
              "    </tr>\n",
              "    <tr>\n",
              "      <th>16</th>\n",
              "      <td>19973708</td>\n",
              "      <td>왕실</td>\n",
              "      <td>Q</td>\n",
              "      <td>음식</td>\n",
              "      <td>커피점/카페</td>\n",
              "      <td>커피전문점/카페/다방</td>\n",
              "      <td>11</td>\n",
              "      <td>서울특별시</td>\n",
              "      <td>11140</td>\n",
              "      <td>중구</td>\n",
              "      <td>1114055000</td>\n",
              "      <td>명동</td>\n",
              "      <td>1114012700</td>\n",
              "      <td>명동2가</td>\n",
              "      <td>1114012700201050000</td>\n",
              "      <td>1</td>\n",
              "      <td>대지</td>\n",
              "      <td>105</td>\n",
              "      <td>서울특별시 중구 명동2가 105</td>\n",
              "      <td>111403101001</td>\n",
              "      <td>서울특별시 중구 남대문로</td>\n",
              "      <td>52</td>\n",
              "      <td>서울특별시 중구 남대문로 52-13</td>\n",
              "      <td>100810</td>\n",
              "      <td>4535.0</td>\n",
              "      <td>126.982419</td>\n",
              "      <td>37.562274</td>\n",
              "    </tr>\n",
              "    <tr>\n",
              "      <th>17</th>\n",
              "      <td>19974666</td>\n",
              "      <td>신호건강원</td>\n",
              "      <td>D</td>\n",
              "      <td>소매</td>\n",
              "      <td>건강/미용식품</td>\n",
              "      <td>건강원</td>\n",
              "      <td>11</td>\n",
              "      <td>서울특별시</td>\n",
              "      <td>11500</td>\n",
              "      <td>강서구</td>\n",
              "      <td>1150054000</td>\n",
              "      <td>화곡1동</td>\n",
              "      <td>1150010300</td>\n",
              "      <td>화곡동</td>\n",
              "      <td>1150010300203690053</td>\n",
              "      <td>1</td>\n",
              "      <td>대지</td>\n",
              "      <td>369</td>\n",
              "      <td>서울특별시 강서구 화곡동 369-53</td>\n",
              "      <td>115004145011</td>\n",
              "      <td>서울특별시 강서구 가로공원로82길</td>\n",
              "      <td>42</td>\n",
              "      <td>서울특별시 강서구 가로공원로82길 42-3</td>\n",
              "      <td>157010</td>\n",
              "      <td>7765.0</td>\n",
              "      <td>126.840285</td>\n",
              "      <td>37.535419</td>\n",
              "    </tr>\n",
              "    <tr>\n",
              "      <th>18</th>\n",
              "      <td>19989422</td>\n",
              "      <td>Mr.피터팬</td>\n",
              "      <td>Q</td>\n",
              "      <td>음식</td>\n",
              "      <td>분식</td>\n",
              "      <td>라면김밥분식</td>\n",
              "      <td>11</td>\n",
              "      <td>서울특별시</td>\n",
              "      <td>11710</td>\n",
              "      <td>송파구</td>\n",
              "      <td>1171052000</td>\n",
              "      <td>풍납2동</td>\n",
              "      <td>1171010300</td>\n",
              "      <td>풍납동</td>\n",
              "      <td>1171010300203990017</td>\n",
              "      <td>1</td>\n",
              "      <td>대지</td>\n",
              "      <td>399</td>\n",
              "      <td>서울특별시 송파구 풍납동 399-17</td>\n",
              "      <td>117104169436</td>\n",
              "      <td>서울특별시 송파구 올림픽로45길</td>\n",
              "      <td>22</td>\n",
              "      <td>서울특별시 송파구 올림픽로45길 22</td>\n",
              "      <td>138040</td>\n",
              "      <td>5537.0</td>\n",
              "      <td>127.115873</td>\n",
              "      <td>37.527477</td>\n",
              "    </tr>\n",
              "    <tr>\n",
              "      <th>19</th>\n",
              "      <td>19999875</td>\n",
              "      <td>제이씨코퍼레이션</td>\n",
              "      <td>D</td>\n",
              "      <td>소매</td>\n",
              "      <td>선물/팬시/기념품</td>\n",
              "      <td>토산품/기념품점</td>\n",
              "      <td>11</td>\n",
              "      <td>서울특별시</td>\n",
              "      <td>11560</td>\n",
              "      <td>영등포구</td>\n",
              "      <td>1156061000</td>\n",
              "      <td>양평1동</td>\n",
              "      <td>1156012700</td>\n",
              "      <td>양평동3가</td>\n",
              "      <td>1156012700200240000</td>\n",
              "      <td>1</td>\n",
              "      <td>대지</td>\n",
              "      <td>24</td>\n",
              "      <td>서울특별시 영등포구 양평동3가 24</td>\n",
              "      <td>115603118013</td>\n",
              "      <td>서울특별시 영등포구 선유서로</td>\n",
              "      <td>115</td>\n",
              "      <td>서울특별시 영등포구 선유서로 115</td>\n",
              "      <td>150103</td>\n",
              "      <td>7269.0</td>\n",
              "      <td>126.885320</td>\n",
              "      <td>37.526139</td>\n",
              "    </tr>\n",
              "    <tr>\n",
              "      <th>20</th>\n",
              "      <td>20004707</td>\n",
              "      <td>커피빈</td>\n",
              "      <td>Q</td>\n",
              "      <td>음식</td>\n",
              "      <td>커피점/카페</td>\n",
              "      <td>커피전문점/카페/다방</td>\n",
              "      <td>11</td>\n",
              "      <td>서울특별시</td>\n",
              "      <td>11650</td>\n",
              "      <td>서초구</td>\n",
              "      <td>1165051000</td>\n",
              "      <td>서초1동</td>\n",
              "      <td>1165010800</td>\n",
              "      <td>서초동</td>\n",
              "      <td>1165010800216570005</td>\n",
              "      <td>1</td>\n",
              "      <td>대지</td>\n",
              "      <td>1657</td>\n",
              "      <td>서울특별시 서초구 서초동 1657-5</td>\n",
              "      <td>116503121024</td>\n",
              "      <td>서울특별시 서초구 서초중앙로</td>\n",
              "      <td>118</td>\n",
              "      <td>서울특별시 서초구 서초중앙로 118</td>\n",
              "      <td>137070</td>\n",
              "      <td>6634.0</td>\n",
              "      <td>127.014217</td>\n",
              "      <td>37.492388</td>\n",
              "    </tr>\n",
              "    <tr>\n",
              "      <th>21</th>\n",
              "      <td>20006330</td>\n",
              "      <td>코롱식당</td>\n",
              "      <td>Q</td>\n",
              "      <td>음식</td>\n",
              "      <td>한식</td>\n",
              "      <td>한식/백반/한정식</td>\n",
              "      <td>11</td>\n",
              "      <td>서울특별시</td>\n",
              "      <td>11545</td>\n",
              "      <td>금천구</td>\n",
              "      <td>1154551000</td>\n",
              "      <td>가산동</td>\n",
              "      <td>1154510100</td>\n",
              "      <td>가산동</td>\n",
              "      <td>1154510100200600004</td>\n",
              "      <td>1</td>\n",
              "      <td>대지</td>\n",
              "      <td>60</td>\n",
              "      <td>서울특별시 금천구 가산동 60-4</td>\n",
              "      <td>115454151195</td>\n",
              "      <td>서울특별시 금천구 디지털로9길</td>\n",
              "      <td>56</td>\n",
              "      <td>서울특별시 금천구 디지털로9길 56</td>\n",
              "      <td>153770</td>\n",
              "      <td>8512.0</td>\n",
              "      <td>126.886859</td>\n",
              "      <td>37.480390</td>\n",
              "    </tr>\n",
              "    <tr>\n",
              "      <th>22</th>\n",
              "      <td>19993199</td>\n",
              "      <td>고려대학교교육관쎄리오점</td>\n",
              "      <td>Q</td>\n",
              "      <td>음식</td>\n",
              "      <td>커피점/카페</td>\n",
              "      <td>커피전문점/카페/다방</td>\n",
              "      <td>11</td>\n",
              "      <td>서울특별시</td>\n",
              "      <td>11290</td>\n",
              "      <td>성북구</td>\n",
              "      <td>1129060000</td>\n",
              "      <td>안암동</td>\n",
              "      <td>1129012500</td>\n",
              "      <td>안암동5가</td>\n",
              "      <td>1129012500200010002</td>\n",
              "      <td>1</td>\n",
              "      <td>대지</td>\n",
              "      <td>1</td>\n",
              "      <td>서울특별시 성북구 안암동5가 1-2</td>\n",
              "      <td>112903005035</td>\n",
              "      <td>서울특별시 성북구 안암로</td>\n",
              "      <td>145</td>\n",
              "      <td>서울특별시 성북구 안암로 145</td>\n",
              "      <td>136701</td>\n",
              "      <td>2841.0</td>\n",
              "      <td>127.031702</td>\n",
              "      <td>37.588485</td>\n",
              "    </tr>\n",
              "    <tr>\n",
              "      <th>23</th>\n",
              "      <td>19996819</td>\n",
              "      <td>전주식당</td>\n",
              "      <td>Q</td>\n",
              "      <td>음식</td>\n",
              "      <td>한식</td>\n",
              "      <td>한식/백반/한정식</td>\n",
              "      <td>11</td>\n",
              "      <td>서울특별시</td>\n",
              "      <td>11530</td>\n",
              "      <td>구로구</td>\n",
              "      <td>1153051000</td>\n",
              "      <td>신도림동</td>\n",
              "      <td>1153010100</td>\n",
              "      <td>신도림동</td>\n",
              "      <td>1153010100204060001</td>\n",
              "      <td>1</td>\n",
              "      <td>대지</td>\n",
              "      <td>406</td>\n",
              "      <td>서울특별시 구로구 신도림동 406-1</td>\n",
              "      <td>115303000028</td>\n",
              "      <td>서울특별시 구로구 경인로</td>\n",
              "      <td>577</td>\n",
              "      <td>서울특별시 구로구 경인로 577</td>\n",
              "      <td>152887</td>\n",
              "      <td>8212.0</td>\n",
              "      <td>126.880898</td>\n",
              "      <td>37.504067</td>\n",
              "    </tr>\n",
              "    <tr>\n",
              "      <th>24</th>\n",
              "      <td>19987359</td>\n",
              "      <td>아구본가첨벙</td>\n",
              "      <td>Q</td>\n",
              "      <td>음식</td>\n",
              "      <td>일식/수산물</td>\n",
              "      <td>아구전문</td>\n",
              "      <td>11</td>\n",
              "      <td>서울특별시</td>\n",
              "      <td>11290</td>\n",
              "      <td>성북구</td>\n",
              "      <td>1129068500</td>\n",
              "      <td>길음2동</td>\n",
              "      <td>1129013400</td>\n",
              "      <td>길음동</td>\n",
              "      <td>1129013400200200001</td>\n",
              "      <td>1</td>\n",
              "      <td>대지</td>\n",
              "      <td>20</td>\n",
              "      <td>서울특별시 성북구 길음동 20-1</td>\n",
              "      <td>112903107003</td>\n",
              "      <td>서울특별시 성북구 동소문로</td>\n",
              "      <td>315</td>\n",
              "      <td>서울특별시 성북구 동소문로 315</td>\n",
              "      <td>136719</td>\n",
              "      <td>2730.0</td>\n",
              "      <td>127.028726</td>\n",
              "      <td>37.608392</td>\n",
              "    </tr>\n",
              "    <tr>\n",
              "      <th>25</th>\n",
              "      <td>20013190</td>\n",
              "      <td>청암회관</td>\n",
              "      <td>Q</td>\n",
              "      <td>음식</td>\n",
              "      <td>한식</td>\n",
              "      <td>한식/백반/한정식</td>\n",
              "      <td>11</td>\n",
              "      <td>서울특별시</td>\n",
              "      <td>11350</td>\n",
              "      <td>노원구</td>\n",
              "      <td>1135061900</td>\n",
              "      <td>중계본동</td>\n",
              "      <td>1135010600</td>\n",
              "      <td>중계동</td>\n",
              "      <td>1135010600203640014</td>\n",
              "      <td>1</td>\n",
              "      <td>대지</td>\n",
              "      <td>364</td>\n",
              "      <td>서울특별시 노원구 중계동 364-14</td>\n",
              "      <td>113504130431</td>\n",
              "      <td>서울특별시 노원구 한글비석로8길</td>\n",
              "      <td>29</td>\n",
              "      <td>서울특별시 노원구 한글비석로8길 29</td>\n",
              "      <td>139220</td>\n",
              "      <td>1737.0</td>\n",
              "      <td>127.078464</td>\n",
              "      <td>37.648247</td>\n",
              "    </tr>\n",
              "    <tr>\n",
              "      <th>26</th>\n",
              "      <td>20014818</td>\n",
              "      <td>쉼터</td>\n",
              "      <td>Q</td>\n",
              "      <td>음식</td>\n",
              "      <td>분식</td>\n",
              "      <td>라면김밥분식</td>\n",
              "      <td>11</td>\n",
              "      <td>서울특별시</td>\n",
              "      <td>11680</td>\n",
              "      <td>강남구</td>\n",
              "      <td>1168058000</td>\n",
              "      <td>삼성1동</td>\n",
              "      <td>1168010500</td>\n",
              "      <td>삼성동</td>\n",
              "      <td>1168010500201590000</td>\n",
              "      <td>1</td>\n",
              "      <td>대지</td>\n",
              "      <td>159</td>\n",
              "      <td>서울특별시 강남구 삼성동 159</td>\n",
              "      <td>116803122004</td>\n",
              "      <td>서울특별시 강남구 봉은사로</td>\n",
              "      <td>524</td>\n",
              "      <td>서울특별시 강남구 봉은사로 524</td>\n",
              "      <td>135798</td>\n",
              "      <td>6164.0</td>\n",
              "      <td>127.057100</td>\n",
              "      <td>37.512939</td>\n",
              "    </tr>\n",
              "    <tr>\n",
              "      <th>27</th>\n",
              "      <td>20015136</td>\n",
              "      <td>배제현의웰빙낙지한마리수제비</td>\n",
              "      <td>Q</td>\n",
              "      <td>음식</td>\n",
              "      <td>일식/수산물</td>\n",
              "      <td>낙지/오징어</td>\n",
              "      <td>11</td>\n",
              "      <td>서울특별시</td>\n",
              "      <td>11680</td>\n",
              "      <td>강남구</td>\n",
              "      <td>1168051000</td>\n",
              "      <td>신사동</td>\n",
              "      <td>1168010700</td>\n",
              "      <td>신사동</td>\n",
              "      <td>1168010700205120013</td>\n",
              "      <td>1</td>\n",
              "      <td>대지</td>\n",
              "      <td>512</td>\n",
              "      <td>서울특별시 강남구 신사동 512-13</td>\n",
              "      <td>116804166021</td>\n",
              "      <td>서울특별시 강남구 강남대로152길</td>\n",
              "      <td>19</td>\n",
              "      <td>서울특별시 강남구 강남대로152길 19</td>\n",
              "      <td>135887</td>\n",
              "      <td>6035.0</td>\n",
              "      <td>127.020945</td>\n",
              "      <td>37.517574</td>\n",
              "    </tr>\n",
              "    <tr>\n",
              "      <th>28</th>\n",
              "      <td>20031733</td>\n",
              "      <td>동해제일산오징어</td>\n",
              "      <td>Q</td>\n",
              "      <td>음식</td>\n",
              "      <td>일식/수산물</td>\n",
              "      <td>낙지/오징어</td>\n",
              "      <td>26</td>\n",
              "      <td>부산광역시</td>\n",
              "      <td>26260</td>\n",
              "      <td>동래구</td>\n",
              "      <td>2626057000</td>\n",
              "      <td>온천3동</td>\n",
              "      <td>2626010800</td>\n",
              "      <td>온천동</td>\n",
              "      <td>2626010800213800002</td>\n",
              "      <td>1</td>\n",
              "      <td>대지</td>\n",
              "      <td>1380</td>\n",
              "      <td>부산광역시 동래구 온천동 1380-2</td>\n",
              "      <td>262604190330</td>\n",
              "      <td>부산광역시 동래구 아시아드대로220번길</td>\n",
              "      <td>30</td>\n",
              "      <td>부산광역시 동래구 아시아드대로220번길 30</td>\n",
              "      <td>607060</td>\n",
              "      <td>47838.0</td>\n",
              "      <td>129.068324</td>\n",
              "      <td>35.202902</td>\n",
              "    </tr>\n",
              "    <tr>\n",
              "      <th>29</th>\n",
              "      <td>20033259</td>\n",
              "      <td>리지호프소주</td>\n",
              "      <td>Q</td>\n",
              "      <td>음식</td>\n",
              "      <td>양식</td>\n",
              "      <td>정통양식/경양식</td>\n",
              "      <td>26</td>\n",
              "      <td>부산광역시</td>\n",
              "      <td>26230</td>\n",
              "      <td>부산진구</td>\n",
              "      <td>2623077000</td>\n",
              "      <td>범천1동</td>\n",
              "      <td>2623010400</td>\n",
              "      <td>범천동</td>\n",
              "      <td>2623077000208470015</td>\n",
              "      <td>1</td>\n",
              "      <td>대지</td>\n",
              "      <td>847</td>\n",
              "      <td>부산광역시 부산진구 범천동 847-15</td>\n",
              "      <td>262303127051</td>\n",
              "      <td>부산광역시 부산진구 범일로</td>\n",
              "      <td>166</td>\n",
              "      <td>부산광역시 부산진구 범일로 166</td>\n",
              "      <td>614020</td>\n",
              "      <td>47361.0</td>\n",
              "      <td>129.059574</td>\n",
              "      <td>35.144776</td>\n",
              "    </tr>\n",
              "    <tr>\n",
              "      <th>...</th>\n",
              "      <td>...</td>\n",
              "      <td>...</td>\n",
              "      <td>...</td>\n",
              "      <td>...</td>\n",
              "      <td>...</td>\n",
              "      <td>...</td>\n",
              "      <td>...</td>\n",
              "      <td>...</td>\n",
              "      <td>...</td>\n",
              "      <td>...</td>\n",
              "      <td>...</td>\n",
              "      <td>...</td>\n",
              "      <td>...</td>\n",
              "      <td>...</td>\n",
              "      <td>...</td>\n",
              "      <td>...</td>\n",
              "      <td>...</td>\n",
              "      <td>...</td>\n",
              "      <td>...</td>\n",
              "      <td>...</td>\n",
              "      <td>...</td>\n",
              "      <td>...</td>\n",
              "      <td>...</td>\n",
              "      <td>...</td>\n",
              "      <td>...</td>\n",
              "      <td>...</td>\n",
              "      <td>...</td>\n",
              "    </tr>\n",
              "    <tr>\n",
              "      <th>564986</th>\n",
              "      <td>16310414</td>\n",
              "      <td>이마트24</td>\n",
              "      <td>D</td>\n",
              "      <td>소매</td>\n",
              "      <td>종합소매점</td>\n",
              "      <td>할인점</td>\n",
              "      <td>11</td>\n",
              "      <td>서울특별시</td>\n",
              "      <td>11710</td>\n",
              "      <td>송파구</td>\n",
              "      <td>1171071000</td>\n",
              "      <td>잠실6동</td>\n",
              "      <td>1171010200</td>\n",
              "      <td>신천동</td>\n",
              "      <td>1171010200200070019</td>\n",
              "      <td>1</td>\n",
              "      <td>대지</td>\n",
              "      <td>7</td>\n",
              "      <td>서울특별시 송파구 신천동 7-19</td>\n",
              "      <td>117103123023</td>\n",
              "      <td>서울특별시 송파구 올림픽로</td>\n",
              "      <td>289</td>\n",
              "      <td>서울특별시 송파구 올림픽로 289</td>\n",
              "      <td>138734</td>\n",
              "      <td>5510.0</td>\n",
              "      <td>127.102496</td>\n",
              "      <td>37.514609</td>\n",
              "    </tr>\n",
              "    <tr>\n",
              "      <th>564987</th>\n",
              "      <td>16310431</td>\n",
              "      <td>이마트24</td>\n",
              "      <td>D</td>\n",
              "      <td>소매</td>\n",
              "      <td>종합소매점</td>\n",
              "      <td>할인점</td>\n",
              "      <td>11</td>\n",
              "      <td>서울특별시</td>\n",
              "      <td>11710</td>\n",
              "      <td>송파구</td>\n",
              "      <td>1171057000</td>\n",
              "      <td>오금동</td>\n",
              "      <td>1171011200</td>\n",
              "      <td>오금동</td>\n",
              "      <td>1171011200200720002</td>\n",
              "      <td>1</td>\n",
              "      <td>대지</td>\n",
              "      <td>72</td>\n",
              "      <td>서울특별시 송파구 오금동 72-2</td>\n",
              "      <td>117104169296</td>\n",
              "      <td>서울특별시 송파구 성내천로6길</td>\n",
              "      <td>16</td>\n",
              "      <td>서울특별시 송파구 성내천로6길 16-1</td>\n",
              "      <td>138857</td>\n",
              "      <td>5728.0</td>\n",
              "      <td>127.134831</td>\n",
              "      <td>37.504307</td>\n",
              "    </tr>\n",
              "    <tr>\n",
              "      <th>564988</th>\n",
              "      <td>16291301</td>\n",
              "      <td>우주최강족발</td>\n",
              "      <td>Q</td>\n",
              "      <td>음식</td>\n",
              "      <td>한식</td>\n",
              "      <td>족발/보쌈전문</td>\n",
              "      <td>11</td>\n",
              "      <td>서울특별시</td>\n",
              "      <td>11410</td>\n",
              "      <td>서대문구</td>\n",
              "      <td>1141066000</td>\n",
              "      <td>홍은1동</td>\n",
              "      <td>1141011800</td>\n",
              "      <td>홍은동</td>\n",
              "      <td>1141011800200110452</td>\n",
              "      <td>1</td>\n",
              "      <td>대지</td>\n",
              "      <td>11</td>\n",
              "      <td>서울특별시 서대문구 홍은동 11-452</td>\n",
              "      <td>114103112012</td>\n",
              "      <td>서울특별시 서대문구 홍은중앙로</td>\n",
              "      <td>93</td>\n",
              "      <td>서울특별시 서대문구 홍은중앙로 93</td>\n",
              "      <td>120842</td>\n",
              "      <td>3603.0</td>\n",
              "      <td>126.947738</td>\n",
              "      <td>37.599282</td>\n",
              "    </tr>\n",
              "    <tr>\n",
              "      <th>564989</th>\n",
              "      <td>16288713</td>\n",
              "      <td>김s비어</td>\n",
              "      <td>Q</td>\n",
              "      <td>음식</td>\n",
              "      <td>한식</td>\n",
              "      <td>족발/보쌈전문</td>\n",
              "      <td>26</td>\n",
              "      <td>부산광역시</td>\n",
              "      <td>26260</td>\n",
              "      <td>동래구</td>\n",
              "      <td>2626057000</td>\n",
              "      <td>온천3동</td>\n",
              "      <td>2626010800</td>\n",
              "      <td>온천동</td>\n",
              "      <td>2626010800212530025</td>\n",
              "      <td>1</td>\n",
              "      <td>대지</td>\n",
              "      <td>1253</td>\n",
              "      <td>부산광역시 동래구 온천동 1253-25</td>\n",
              "      <td>262604190329</td>\n",
              "      <td>부산광역시 동래구 아시아드대로219번길</td>\n",
              "      <td>17</td>\n",
              "      <td>부산광역시 동래구 아시아드대로219번길 17</td>\n",
              "      <td>607841</td>\n",
              "      <td>47850.0</td>\n",
              "      <td>129.065922</td>\n",
              "      <td>35.203978</td>\n",
              "    </tr>\n",
              "    <tr>\n",
              "      <th>564990</th>\n",
              "      <td>16289850</td>\n",
              "      <td>최가면반</td>\n",
              "      <td>Q</td>\n",
              "      <td>음식</td>\n",
              "      <td>한식</td>\n",
              "      <td>보리밥전문</td>\n",
              "      <td>11</td>\n",
              "      <td>서울특별시</td>\n",
              "      <td>11440</td>\n",
              "      <td>마포구</td>\n",
              "      <td>1144066000</td>\n",
              "      <td>서교동</td>\n",
              "      <td>1144012000</td>\n",
              "      <td>서교동</td>\n",
              "      <td>1144012000204090010</td>\n",
              "      <td>1</td>\n",
              "      <td>대지</td>\n",
              "      <td>409</td>\n",
              "      <td>서울특별시 마포구 서교동 409-10</td>\n",
              "      <td>114404139453</td>\n",
              "      <td>서울특별시 마포구 와우산로15길</td>\n",
              "      <td>28</td>\n",
              "      <td>서울특별시 마포구 와우산로15길 28</td>\n",
              "      <td>121895</td>\n",
              "      <td>4049.0</td>\n",
              "      <td>126.921732</td>\n",
              "      <td>37.549373</td>\n",
              "    </tr>\n",
              "    <tr>\n",
              "      <th>564991</th>\n",
              "      <td>16288850</td>\n",
              "      <td>스튜디오에이엠</td>\n",
              "      <td>F</td>\n",
              "      <td>생활서비스</td>\n",
              "      <td>사진</td>\n",
              "      <td>사진관</td>\n",
              "      <td>11</td>\n",
              "      <td>서울특별시</td>\n",
              "      <td>11410</td>\n",
              "      <td>서대문구</td>\n",
              "      <td>1141058500</td>\n",
              "      <td>신촌동</td>\n",
              "      <td>1141011600</td>\n",
              "      <td>창천동</td>\n",
              "      <td>1141011600200720031</td>\n",
              "      <td>1</td>\n",
              "      <td>대지</td>\n",
              "      <td>72</td>\n",
              "      <td>서울특별시 서대문구 창천동 72-31</td>\n",
              "      <td>114104136243</td>\n",
              "      <td>서울특별시 서대문구 연세로5다길</td>\n",
              "      <td>41</td>\n",
              "      <td>서울특별시 서대문구 연세로5다길 41</td>\n",
              "      <td>120834</td>\n",
              "      <td>3787.0</td>\n",
              "      <td>126.933236</td>\n",
              "      <td>37.556884</td>\n",
              "    </tr>\n",
              "    <tr>\n",
              "      <th>564992</th>\n",
              "      <td>16288527</td>\n",
              "      <td>위아클래스</td>\n",
              "      <td>F</td>\n",
              "      <td>생활서비스</td>\n",
              "      <td>사진</td>\n",
              "      <td>사진관</td>\n",
              "      <td>11</td>\n",
              "      <td>서울특별시</td>\n",
              "      <td>11440</td>\n",
              "      <td>마포구</td>\n",
              "      <td>1144066000</td>\n",
              "      <td>서교동</td>\n",
              "      <td>1144012000</td>\n",
              "      <td>서교동</td>\n",
              "      <td>1144012000203510028</td>\n",
              "      <td>1</td>\n",
              "      <td>대지</td>\n",
              "      <td>351</td>\n",
              "      <td>서울특별시 마포구 서교동 351-28</td>\n",
              "      <td>114403112014</td>\n",
              "      <td>서울특별시 마포구 동교로</td>\n",
              "      <td>162</td>\n",
              "      <td>서울특별시 마포구 동교로 162-5</td>\n",
              "      <td>121838</td>\n",
              "      <td>4031.0</td>\n",
              "      <td>126.920283</td>\n",
              "      <td>37.555622</td>\n",
              "    </tr>\n",
              "    <tr>\n",
              "      <th>564993</th>\n",
              "      <td>16284500</td>\n",
              "      <td>이연</td>\n",
              "      <td>D</td>\n",
              "      <td>소매</td>\n",
              "      <td>가방/신발/액세서리</td>\n",
              "      <td>신발소매</td>\n",
              "      <td>11</td>\n",
              "      <td>서울특별시</td>\n",
              "      <td>11650</td>\n",
              "      <td>서초구</td>\n",
              "      <td>1165065200</td>\n",
              "      <td>양재2동</td>\n",
              "      <td>1165010200</td>\n",
              "      <td>양재동</td>\n",
              "      <td>1165010200203920004</td>\n",
              "      <td>1</td>\n",
              "      <td>대지</td>\n",
              "      <td>392</td>\n",
              "      <td>서울특별시 서초구 양재동 392-4</td>\n",
              "      <td>116503121005</td>\n",
              "      <td>서울특별시 서초구 동산로</td>\n",
              "      <td>82</td>\n",
              "      <td>서울특별시 서초구 동산로 82</td>\n",
              "      <td>137899</td>\n",
              "      <td>6783.0</td>\n",
              "      <td>127.047623</td>\n",
              "      <td>37.472757</td>\n",
              "    </tr>\n",
              "    <tr>\n",
              "      <th>564994</th>\n",
              "      <td>16283894</td>\n",
              "      <td>미셀프리미엄아울렛부산</td>\n",
              "      <td>D</td>\n",
              "      <td>소매</td>\n",
              "      <td>가방/신발/액세서리</td>\n",
              "      <td>신발소매</td>\n",
              "      <td>26</td>\n",
              "      <td>부산광역시</td>\n",
              "      <td>26710</td>\n",
              "      <td>기장군</td>\n",
              "      <td>2671025300</td>\n",
              "      <td>장안읍</td>\n",
              "      <td>2671025321</td>\n",
              "      <td>장안읍</td>\n",
              "      <td>2671025321205450000</td>\n",
              "      <td>1</td>\n",
              "      <td>대지</td>\n",
              "      <td>545</td>\n",
              "      <td>부산광역시 기장군 장안읍 좌천리 545</td>\n",
              "      <td>267103140047</td>\n",
              "      <td>부산광역시 기장군 장안읍 정관로</td>\n",
              "      <td>1133</td>\n",
              "      <td>부산광역시 기장군 장안읍 정관로 1133</td>\n",
              "      <td>619953</td>\n",
              "      <td>46029.0</td>\n",
              "      <td>129.234971</td>\n",
              "      <td>35.323748</td>\n",
              "    </tr>\n",
              "    <tr>\n",
              "      <th>564995</th>\n",
              "      <td>16282583</td>\n",
              "      <td>팀투팍짐</td>\n",
              "      <td>P</td>\n",
              "      <td>스포츠</td>\n",
              "      <td>실내운동시설</td>\n",
              "      <td>체육관</td>\n",
              "      <td>26</td>\n",
              "      <td>부산광역시</td>\n",
              "      <td>26260</td>\n",
              "      <td>동래구</td>\n",
              "      <td>2626074000</td>\n",
              "      <td>안락1동</td>\n",
              "      <td>2626010200</td>\n",
              "      <td>안락동</td>\n",
              "      <td>2626010200206330044</td>\n",
              "      <td>1</td>\n",
              "      <td>대지</td>\n",
              "      <td>633</td>\n",
              "      <td>부산광역시 동래구 안락동 633-44</td>\n",
              "      <td>262603130029</td>\n",
              "      <td>부산광역시 동래구 안연로</td>\n",
              "      <td>56</td>\n",
              "      <td>부산광역시 동래구 안연로 56</td>\n",
              "      <td>607829</td>\n",
              "      <td>47901.0</td>\n",
              "      <td>129.099447</td>\n",
              "      <td>35.192392</td>\n",
              "    </tr>\n",
              "    <tr>\n",
              "      <th>564996</th>\n",
              "      <td>16287786</td>\n",
              "      <td>창대종합상사</td>\n",
              "      <td>D</td>\n",
              "      <td>소매</td>\n",
              "      <td>사무/문구/컴퓨터</td>\n",
              "      <td>사무/문구용품</td>\n",
              "      <td>11</td>\n",
              "      <td>서울특별시</td>\n",
              "      <td>11560</td>\n",
              "      <td>영등포구</td>\n",
              "      <td>1156065000</td>\n",
              "      <td>신길3동</td>\n",
              "      <td>1156013200</td>\n",
              "      <td>신길동</td>\n",
              "      <td>1156013200249330000</td>\n",
              "      <td>1</td>\n",
              "      <td>대지</td>\n",
              "      <td>4933</td>\n",
              "      <td>서울특별시 영등포구 신길동 4933</td>\n",
              "      <td>115603118006</td>\n",
              "      <td>서울특별시 영등포구 도신로</td>\n",
              "      <td>98</td>\n",
              "      <td>서울특별시 영등포구 도신로 98</td>\n",
              "      <td>150776</td>\n",
              "      <td>7382.0</td>\n",
              "      <td>126.903076</td>\n",
              "      <td>37.507221</td>\n",
              "    </tr>\n",
              "    <tr>\n",
              "      <th>564997</th>\n",
              "      <td>16290018</td>\n",
              "      <td>컬러버스</td>\n",
              "      <td>D</td>\n",
              "      <td>소매</td>\n",
              "      <td>예술품/골동품/수석/분재</td>\n",
              "      <td>예술품/골동품소매</td>\n",
              "      <td>11</td>\n",
              "      <td>서울특별시</td>\n",
              "      <td>11440</td>\n",
              "      <td>마포구</td>\n",
              "      <td>1144071000</td>\n",
              "      <td>연남동</td>\n",
              "      <td>1144012400</td>\n",
              "      <td>연남동</td>\n",
              "      <td>1144012400205610004</td>\n",
              "      <td>1</td>\n",
              "      <td>대지</td>\n",
              "      <td>561</td>\n",
              "      <td>서울특별시 마포구 연남동 561-4</td>\n",
              "      <td>114404139112</td>\n",
              "      <td>서울특별시 마포구 동교로27길</td>\n",
              "      <td>78</td>\n",
              "      <td>서울특별시 마포구 동교로27길 78</td>\n",
              "      <td>121869</td>\n",
              "      <td>3988.0</td>\n",
              "      <td>126.920431</td>\n",
              "      <td>37.561074</td>\n",
              "    </tr>\n",
              "    <tr>\n",
              "      <th>564998</th>\n",
              "      <td>16289520</td>\n",
              "      <td>구름나무</td>\n",
              "      <td>D</td>\n",
              "      <td>소매</td>\n",
              "      <td>예술품/골동품/수석/분재</td>\n",
              "      <td>예술품/골동품소매</td>\n",
              "      <td>11</td>\n",
              "      <td>서울특별시</td>\n",
              "      <td>11500</td>\n",
              "      <td>강서구</td>\n",
              "      <td>1150060500</td>\n",
              "      <td>가양3동</td>\n",
              "      <td>1150010400</td>\n",
              "      <td>가양동</td>\n",
              "      <td>1150010400214850000</td>\n",
              "      <td>1</td>\n",
              "      <td>대지</td>\n",
              "      <td>1485</td>\n",
              "      <td>서울특별시 강서구 가양동 1485</td>\n",
              "      <td>115003115013</td>\n",
              "      <td>서울특별시 강서구 허준로</td>\n",
              "      <td>175</td>\n",
              "      <td>서울특별시 강서구 허준로 175</td>\n",
              "      <td>157746</td>\n",
              "      <td>7531.0</td>\n",
              "      <td>126.859924</td>\n",
              "      <td>37.562380</td>\n",
              "    </tr>\n",
              "    <tr>\n",
              "      <th>564999</th>\n",
              "      <td>16288168</td>\n",
              "      <td>아틀리에아바</td>\n",
              "      <td>D</td>\n",
              "      <td>소매</td>\n",
              "      <td>예술품/골동품/수석/분재</td>\n",
              "      <td>예술품/골동품소매</td>\n",
              "      <td>26</td>\n",
              "      <td>부산광역시</td>\n",
              "      <td>26260</td>\n",
              "      <td>동래구</td>\n",
              "      <td>2626075000</td>\n",
              "      <td>안락2동</td>\n",
              "      <td>2626010200</td>\n",
              "      <td>안락동</td>\n",
              "      <td>2626010200212580000</td>\n",
              "      <td>1</td>\n",
              "      <td>대지</td>\n",
              "      <td>1258</td>\n",
              "      <td>부산광역시 동래구 안락동 1258</td>\n",
              "      <td>262604190420</td>\n",
              "      <td>부산광역시 동래구 온천천로471번길</td>\n",
              "      <td>10</td>\n",
              "      <td>부산광역시 동래구 온천천로471번길 10</td>\n",
              "      <td>607830</td>\n",
              "      <td>47899.0</td>\n",
              "      <td>129.105252</td>\n",
              "      <td>35.192087</td>\n",
              "    </tr>\n",
              "    <tr>\n",
              "      <th>565000</th>\n",
              "      <td>16283416</td>\n",
              "      <td>원뮤직스튜디오</td>\n",
              "      <td>R</td>\n",
              "      <td>학문/교육</td>\n",
              "      <td>학원-음악미술무용</td>\n",
              "      <td>피아노/바이올린/기타</td>\n",
              "      <td>11</td>\n",
              "      <td>서울특별시</td>\n",
              "      <td>11440</td>\n",
              "      <td>마포구</td>\n",
              "      <td>1144072000</td>\n",
              "      <td>성산1동</td>\n",
              "      <td>1144012500</td>\n",
              "      <td>성산동</td>\n",
              "      <td>1144012500202320004</td>\n",
              "      <td>1</td>\n",
              "      <td>대지</td>\n",
              "      <td>232</td>\n",
              "      <td>서울특별시 마포구 성산동 232-4</td>\n",
              "      <td>114403113019</td>\n",
              "      <td>서울특별시 마포구 월드컵북로</td>\n",
              "      <td>69</td>\n",
              "      <td>서울특별시 마포구 월드컵북로 69</td>\n",
              "      <td>121846</td>\n",
              "      <td>3999.0</td>\n",
              "      <td>126.916328</td>\n",
              "      <td>37.559919</td>\n",
              "    </tr>\n",
              "    <tr>\n",
              "      <th>565001</th>\n",
              "      <td>16289625</td>\n",
              "      <td>주신에어컨</td>\n",
              "      <td>F</td>\n",
              "      <td>생활서비스</td>\n",
              "      <td>개인/가정용품수리</td>\n",
              "      <td>에어컨수리/설치</td>\n",
              "      <td>11</td>\n",
              "      <td>서울특별시</td>\n",
              "      <td>11200</td>\n",
              "      <td>성동구</td>\n",
              "      <td>1120054000</td>\n",
              "      <td>마장동</td>\n",
              "      <td>1120010500</td>\n",
              "      <td>마장동</td>\n",
              "      <td>1120010500208220000</td>\n",
              "      <td>1</td>\n",
              "      <td>대지</td>\n",
              "      <td>822</td>\n",
              "      <td>서울특별시 성동구 마장동 822</td>\n",
              "      <td>112004109186</td>\n",
              "      <td>서울특별시 성동구 마장로39길</td>\n",
              "      <td>43</td>\n",
              "      <td>서울특별시 성동구 마장로39길 43</td>\n",
              "      <td>133735</td>\n",
              "      <td>4753.0</td>\n",
              "      <td>127.043517</td>\n",
              "      <td>37.568605</td>\n",
              "    </tr>\n",
              "    <tr>\n",
              "      <th>565002</th>\n",
              "      <td>16288463</td>\n",
              "      <td>씽씽에어컨</td>\n",
              "      <td>F</td>\n",
              "      <td>생활서비스</td>\n",
              "      <td>개인/가정용품수리</td>\n",
              "      <td>에어컨수리/설치</td>\n",
              "      <td>26</td>\n",
              "      <td>부산광역시</td>\n",
              "      <td>26200</td>\n",
              "      <td>영도구</td>\n",
              "      <td>2620066000</td>\n",
              "      <td>동삼2동</td>\n",
              "      <td>2620012100</td>\n",
              "      <td>동삼동</td>\n",
              "      <td>2620012100209700006</td>\n",
              "      <td>1</td>\n",
              "      <td>대지</td>\n",
              "      <td>970</td>\n",
              "      <td>부산광역시 영도구 동삼동 970-6</td>\n",
              "      <td>262004184359</td>\n",
              "      <td>부산광역시 영도구 태종로802번길</td>\n",
              "      <td>17</td>\n",
              "      <td>부산광역시 영도구 태종로802번길 17</td>\n",
              "      <td>606804</td>\n",
              "      <td>49126.0</td>\n",
              "      <td>129.080019</td>\n",
              "      <td>35.064948</td>\n",
              "    </tr>\n",
              "    <tr>\n",
              "      <th>565003</th>\n",
              "      <td>16289082</td>\n",
              "      <td>호중정원</td>\n",
              "      <td>Q</td>\n",
              "      <td>음식</td>\n",
              "      <td>중식</td>\n",
              "      <td>중국음식/중국집</td>\n",
              "      <td>11</td>\n",
              "      <td>서울특별시</td>\n",
              "      <td>11110</td>\n",
              "      <td>종로구</td>\n",
              "      <td>1111054000</td>\n",
              "      <td>삼청동</td>\n",
              "      <td>1111014200</td>\n",
              "      <td>소격동</td>\n",
              "      <td>1111014200200170001</td>\n",
              "      <td>1</td>\n",
              "      <td>대지</td>\n",
              "      <td>17</td>\n",
              "      <td>서울특별시 종로구 소격동 17-1</td>\n",
              "      <td>111104100150</td>\n",
              "      <td>서울특별시 종로구 삼청로2길</td>\n",
              "      <td>3</td>\n",
              "      <td>서울특별시 종로구 삼청로2길 3-8</td>\n",
              "      <td>110230</td>\n",
              "      <td>3053.0</td>\n",
              "      <td>126.981176</td>\n",
              "      <td>37.581212</td>\n",
              "    </tr>\n",
              "    <tr>\n",
              "      <th>565004</th>\n",
              "      <td>16283641</td>\n",
              "      <td>60계부산</td>\n",
              "      <td>Q</td>\n",
              "      <td>음식</td>\n",
              "      <td>닭/오리요리</td>\n",
              "      <td>후라이드/양념치킨</td>\n",
              "      <td>26</td>\n",
              "      <td>부산광역시</td>\n",
              "      <td>26410</td>\n",
              "      <td>금정구</td>\n",
              "      <td>2641059000</td>\n",
              "      <td>부곡3동</td>\n",
              "      <td>2641010900</td>\n",
              "      <td>부곡동</td>\n",
              "      <td>2641010900200250004</td>\n",
              "      <td>1</td>\n",
              "      <td>대지</td>\n",
              "      <td>25</td>\n",
              "      <td>부산광역시 금정구 부곡동 25-4</td>\n",
              "      <td>264103135058</td>\n",
              "      <td>부산광역시 금정구 기찰로</td>\n",
              "      <td>117</td>\n",
              "      <td>부산광역시 금정구 기찰로 117</td>\n",
              "      <td>609817</td>\n",
              "      <td>46253.0</td>\n",
              "      <td>129.094033</td>\n",
              "      <td>35.241413</td>\n",
              "    </tr>\n",
              "    <tr>\n",
              "      <th>565005</th>\n",
              "      <td>16283480</td>\n",
              "      <td>팔삼육숯불바베큐치킨</td>\n",
              "      <td>Q</td>\n",
              "      <td>음식</td>\n",
              "      <td>닭/오리요리</td>\n",
              "      <td>후라이드/양념치킨</td>\n",
              "      <td>26</td>\n",
              "      <td>부산광역시</td>\n",
              "      <td>26410</td>\n",
              "      <td>금정구</td>\n",
              "      <td>2641059100</td>\n",
              "      <td>부곡4동</td>\n",
              "      <td>2641010900</td>\n",
              "      <td>부곡동</td>\n",
              "      <td>2641010900203860012</td>\n",
              "      <td>1</td>\n",
              "      <td>대지</td>\n",
              "      <td>386</td>\n",
              "      <td>부산광역시 금정구 부곡동 386-12</td>\n",
              "      <td>264103006035</td>\n",
              "      <td>부산광역시 금정구 부곡로</td>\n",
              "      <td>44</td>\n",
              "      <td>부산광역시 금정구 부곡로 44</td>\n",
              "      <td>609824</td>\n",
              "      <td>46307.0</td>\n",
              "      <td>129.088556</td>\n",
              "      <td>35.220479</td>\n",
              "    </tr>\n",
              "    <tr>\n",
              "      <th>565006</th>\n",
              "      <td>16283157</td>\n",
              "      <td>꿀닭</td>\n",
              "      <td>Q</td>\n",
              "      <td>음식</td>\n",
              "      <td>닭/오리요리</td>\n",
              "      <td>후라이드/양념치킨</td>\n",
              "      <td>11</td>\n",
              "      <td>서울특별시</td>\n",
              "      <td>11440</td>\n",
              "      <td>마포구</td>\n",
              "      <td>1144074000</td>\n",
              "      <td>상암동</td>\n",
              "      <td>1144012700</td>\n",
              "      <td>상암동</td>\n",
              "      <td>1144012700200330012</td>\n",
              "      <td>1</td>\n",
              "      <td>대지</td>\n",
              "      <td>33</td>\n",
              "      <td>서울특별시 마포구 상암동 33-12</td>\n",
              "      <td>114404139543</td>\n",
              "      <td>서울특별시 마포구 월드컵북로44길</td>\n",
              "      <td>19</td>\n",
              "      <td>서울특별시 마포구 월드컵북로44길 19</td>\n",
              "      <td>121830</td>\n",
              "      <td>3930.0</td>\n",
              "      <td>126.895967</td>\n",
              "      <td>37.575940</td>\n",
              "    </tr>\n",
              "    <tr>\n",
              "      <th>565007</th>\n",
              "      <td>16287768</td>\n",
              "      <td>황금유통</td>\n",
              "      <td>D</td>\n",
              "      <td>소매</td>\n",
              "      <td>종합소매점</td>\n",
              "      <td>잡화점</td>\n",
              "      <td>26</td>\n",
              "      <td>부산광역시</td>\n",
              "      <td>26410</td>\n",
              "      <td>금정구</td>\n",
              "      <td>2641055000</td>\n",
              "      <td>금사동</td>\n",
              "      <td>2641011200</td>\n",
              "      <td>회동동</td>\n",
              "      <td>2641011200205510000</td>\n",
              "      <td>1</td>\n",
              "      <td>대지</td>\n",
              "      <td>551</td>\n",
              "      <td>부산광역시 금정구 회동동 551</td>\n",
              "      <td>264103135010</td>\n",
              "      <td>부산광역시 금정구 금사로</td>\n",
              "      <td>156</td>\n",
              "      <td>부산광역시 금정구 금사로 156</td>\n",
              "      <td>609808</td>\n",
              "      <td>46329.0</td>\n",
              "      <td>129.116277</td>\n",
              "      <td>35.225049</td>\n",
              "    </tr>\n",
              "    <tr>\n",
              "      <th>565008</th>\n",
              "      <td>16290087</td>\n",
              "      <td>서초종합공사인테리어</td>\n",
              "      <td>D</td>\n",
              "      <td>소매</td>\n",
              "      <td>가정/주방/인테리어</td>\n",
              "      <td>인테리어/욕실용품/커튼</td>\n",
              "      <td>11</td>\n",
              "      <td>서울특별시</td>\n",
              "      <td>11650</td>\n",
              "      <td>서초구</td>\n",
              "      <td>1165053000</td>\n",
              "      <td>서초3동</td>\n",
              "      <td>1165010800</td>\n",
              "      <td>서초동</td>\n",
              "      <td>1165010800214800013</td>\n",
              "      <td>1</td>\n",
              "      <td>대지</td>\n",
              "      <td>1480</td>\n",
              "      <td>서울특별시 서초구 서초동 1480-13</td>\n",
              "      <td>116504163068</td>\n",
              "      <td>서울특별시 서초구 남부순환로315길</td>\n",
              "      <td>88</td>\n",
              "      <td>서울특별시 서초구 남부순환로315길 88-3</td>\n",
              "      <td>137868</td>\n",
              "      <td>6709.0</td>\n",
              "      <td>127.007440</td>\n",
              "      <td>37.482410</td>\n",
              "    </tr>\n",
              "    <tr>\n",
              "      <th>565009</th>\n",
              "      <td>16291444</td>\n",
              "      <td>대성모바일</td>\n",
              "      <td>D</td>\n",
              "      <td>소매</td>\n",
              "      <td>가전제품소매</td>\n",
              "      <td>전화기판매</td>\n",
              "      <td>26</td>\n",
              "      <td>부산광역시</td>\n",
              "      <td>26140</td>\n",
              "      <td>서구</td>\n",
              "      <td>2614054000</td>\n",
              "      <td>서대신1동</td>\n",
              "      <td>2614010500</td>\n",
              "      <td>서대신동2가</td>\n",
              "      <td>2614010500202670004</td>\n",
              "      <td>1</td>\n",
              "      <td>대지</td>\n",
              "      <td>267</td>\n",
              "      <td>부산광역시 서구 서대신동2가 267-4</td>\n",
              "      <td>261403125009</td>\n",
              "      <td>부산광역시 서구 대영로</td>\n",
              "      <td>19</td>\n",
              "      <td>부산광역시 서구 대영로 19-2</td>\n",
              "      <td>602819</td>\n",
              "      <td>49234.0</td>\n",
              "      <td>129.014195</td>\n",
              "      <td>35.110118</td>\n",
              "    </tr>\n",
              "    <tr>\n",
              "      <th>565010</th>\n",
              "      <td>16284293</td>\n",
              "      <td>전설의짬뽕</td>\n",
              "      <td>Q</td>\n",
              "      <td>음식</td>\n",
              "      <td>중식</td>\n",
              "      <td>중국음식/중국집</td>\n",
              "      <td>11</td>\n",
              "      <td>서울특별시</td>\n",
              "      <td>11650</td>\n",
              "      <td>서초구</td>\n",
              "      <td>1165054000</td>\n",
              "      <td>잠원동</td>\n",
              "      <td>1165010600</td>\n",
              "      <td>잠원동</td>\n",
              "      <td>1165010600200140010</td>\n",
              "      <td>1</td>\n",
              "      <td>대지</td>\n",
              "      <td>14</td>\n",
              "      <td>서울특별시 서초구 잠원동 14-10</td>\n",
              "      <td>116504163048</td>\n",
              "      <td>서울특별시 서초구 나루터로15길</td>\n",
              "      <td>7</td>\n",
              "      <td>서울특별시 서초구 나루터로15길 7-2</td>\n",
              "      <td>137902</td>\n",
              "      <td>6525.0</td>\n",
              "      <td>127.018305</td>\n",
              "      <td>37.516146</td>\n",
              "    </tr>\n",
              "    <tr>\n",
              "      <th>565011</th>\n",
              "      <td>16284103</td>\n",
              "      <td>서동수타짬뽕</td>\n",
              "      <td>Q</td>\n",
              "      <td>음식</td>\n",
              "      <td>중식</td>\n",
              "      <td>중국음식/중국집</td>\n",
              "      <td>26</td>\n",
              "      <td>부산광역시</td>\n",
              "      <td>26410</td>\n",
              "      <td>금정구</td>\n",
              "      <td>2641052000</td>\n",
              "      <td>서2동</td>\n",
              "      <td>2641011000</td>\n",
              "      <td>서동</td>\n",
              "      <td>2641011000202180001</td>\n",
              "      <td>1</td>\n",
              "      <td>대지</td>\n",
              "      <td>218</td>\n",
              "      <td>부산광역시 금정구 서동 218-1</td>\n",
              "      <td>264103130027</td>\n",
              "      <td>부산광역시 금정구 서동중심로</td>\n",
              "      <td>14</td>\n",
              "      <td>부산광역시 금정구 서동중심로 14</td>\n",
              "      <td>609831</td>\n",
              "      <td>46328.0</td>\n",
              "      <td>129.104354</td>\n",
              "      <td>35.210961</td>\n",
              "    </tr>\n",
              "    <tr>\n",
              "      <th>565012</th>\n",
              "      <td>16282701</td>\n",
              "      <td>주방</td>\n",
              "      <td>Q</td>\n",
              "      <td>음식</td>\n",
              "      <td>중식</td>\n",
              "      <td>중국음식/중국집</td>\n",
              "      <td>11</td>\n",
              "      <td>서울특별시</td>\n",
              "      <td>11440</td>\n",
              "      <td>마포구</td>\n",
              "      <td>1144069000</td>\n",
              "      <td>망원1동</td>\n",
              "      <td>1144012300</td>\n",
              "      <td>망원동</td>\n",
              "      <td>1144012300200570138</td>\n",
              "      <td>1</td>\n",
              "      <td>대지</td>\n",
              "      <td>57</td>\n",
              "      <td>서울특별시 마포구 망원동 57-138</td>\n",
              "      <td>114404139490</td>\n",
              "      <td>서울특별시 마포구 월드컵로19길</td>\n",
              "      <td>42</td>\n",
              "      <td>서울특별시 마포구 월드컵로19길 42</td>\n",
              "      <td>121820</td>\n",
              "      <td>4012.0</td>\n",
              "      <td>126.907641</td>\n",
              "      <td>37.555677</td>\n",
              "    </tr>\n",
              "    <tr>\n",
              "      <th>565013</th>\n",
              "      <td>16283091</td>\n",
              "      <td>원클래스독서실</td>\n",
              "      <td>R</td>\n",
              "      <td>학문/교육</td>\n",
              "      <td>도서관/독서실</td>\n",
              "      <td>독서실</td>\n",
              "      <td>26</td>\n",
              "      <td>부산광역시</td>\n",
              "      <td>26260</td>\n",
              "      <td>동래구</td>\n",
              "      <td>2626057000</td>\n",
              "      <td>온천3동</td>\n",
              "      <td>2626010800</td>\n",
              "      <td>온천동</td>\n",
              "      <td>2626010800212480004</td>\n",
              "      <td>1</td>\n",
              "      <td>대지</td>\n",
              "      <td>1248</td>\n",
              "      <td>부산광역시 동래구 온천동 1248-4</td>\n",
              "      <td>262602006012</td>\n",
              "      <td>부산광역시 동래구 아시아드대로</td>\n",
              "      <td>239</td>\n",
              "      <td>부산광역시 동래구 아시아드대로 239-1</td>\n",
              "      <td>607841</td>\n",
              "      <td>47851.0</td>\n",
              "      <td>129.067468</td>\n",
              "      <td>35.205469</td>\n",
              "    </tr>\n",
              "    <tr>\n",
              "      <th>565014</th>\n",
              "      <td>16287899</td>\n",
              "      <td>에스에스엠</td>\n",
              "      <td>D</td>\n",
              "      <td>소매</td>\n",
              "      <td>가전제품소매</td>\n",
              "      <td>전화기판매</td>\n",
              "      <td>26</td>\n",
              "      <td>부산광역시</td>\n",
              "      <td>26380</td>\n",
              "      <td>사하구</td>\n",
              "      <td>2638056200</td>\n",
              "      <td>하단2동</td>\n",
              "      <td>2638010300</td>\n",
              "      <td>하단동</td>\n",
              "      <td>2638010300205220024</td>\n",
              "      <td>1</td>\n",
              "      <td>대지</td>\n",
              "      <td>522</td>\n",
              "      <td>부산광역시 사하구 하단동 522-24</td>\n",
              "      <td>263804202096</td>\n",
              "      <td>부산광역시 사하구 낙동남로1367번길</td>\n",
              "      <td>16</td>\n",
              "      <td>부산광역시 사하구 낙동남로1367번길 16</td>\n",
              "      <td>604853</td>\n",
              "      <td>49314.0</td>\n",
              "      <td>128.961386</td>\n",
              "      <td>35.107213</td>\n",
              "    </tr>\n",
              "    <tr>\n",
              "      <th>565015</th>\n",
              "      <td>16286754</td>\n",
              "      <td>천사통신</td>\n",
              "      <td>D</td>\n",
              "      <td>소매</td>\n",
              "      <td>가전제품소매</td>\n",
              "      <td>전화기판매</td>\n",
              "      <td>26</td>\n",
              "      <td>부산광역시</td>\n",
              "      <td>26140</td>\n",
              "      <td>서구</td>\n",
              "      <td>2614064000</td>\n",
              "      <td>충무동</td>\n",
              "      <td>2614011800</td>\n",
              "      <td>토성동5가</td>\n",
              "      <td>2614011800200170005</td>\n",
              "      <td>1</td>\n",
              "      <td>대지</td>\n",
              "      <td>17</td>\n",
              "      <td>부산광역시 서구 토성동5가 17-5</td>\n",
              "      <td>261404178016</td>\n",
              "      <td>부산광역시 서구 구덕로124번길</td>\n",
              "      <td>27</td>\n",
              "      <td>부산광역시 서구 구덕로124번길 27</td>\n",
              "      <td>602055</td>\n",
              "      <td>49246.0</td>\n",
              "      <td>129.022555</td>\n",
              "      <td>35.097951</td>\n",
              "    </tr>\n",
              "  </tbody>\n",
              "</table>\n",
              "<p>565016 rows × 27 columns</p>\n",
              "</div>"
            ],
            "text/plain": [
              "          상가업소번호             상호명 상권업종대분류코드  ...    신우편번호          경도         위도\n",
              "0       19911397   커피빈코리아선릉로93길점         Q  ...   6149.0  127.047883  37.505675\n",
              "1       19911801            프로포즈         Q  ...   8545.0  126.899220  37.471711\n",
              "2       19912201        싱싱커피&토스트         Q  ...  46977.0  128.980455  35.159774\n",
              "3       19905471          와라와라호프         Q  ...   6280.0  127.061026  37.493922\n",
              "4       19932756        가락사우나내스낵         F  ...   5690.0  127.104071  37.500249\n",
              "5       19964615           석봉토스트         Q  ...   4992.0  127.088387  37.549245\n",
              "6       19975850            허술한집         Q  ...   7619.0  126.809957  37.562013\n",
              "7       19977290            피자마루         Q  ...   4596.0  127.010861  37.552153\n",
              "8       19979960            홍능갈비         Q  ...   7718.0  126.836078  37.538927\n",
              "9       19983535             초밥왕         Q  ...   5510.0  127.102490  37.515149\n",
              "10      20020124           스완카페트         Q  ...   7379.0  126.897710  37.503693\n",
              "11      19969945            에브리돈         Q  ...   3681.0  126.910288  37.579029\n",
              "12      19969947            대왕농산         D  ...   2572.0  127.043189  37.580073\n",
              "13      19970556           솔로몬피자         Q  ...   5001.0  127.071184  37.552103\n",
              "14      19971398            우리식당         Q  ...   5022.0  127.076812  37.545461\n",
              "15      19971658          크리스피크림         Q  ...   2559.0  127.045022  37.580196\n",
              "16      19973708              왕실         Q  ...   4535.0  126.982419  37.562274\n",
              "17      19974666           신호건강원         D  ...   7765.0  126.840285  37.535419\n",
              "18      19989422          Mr.피터팬         Q  ...   5537.0  127.115873  37.527477\n",
              "19      19999875        제이씨코퍼레이션         D  ...   7269.0  126.885320  37.526139\n",
              "20      20004707             커피빈         Q  ...   6634.0  127.014217  37.492388\n",
              "21      20006330            코롱식당         Q  ...   8512.0  126.886859  37.480390\n",
              "22      19993199    고려대학교교육관쎄리오점         Q  ...   2841.0  127.031702  37.588485\n",
              "23      19996819            전주식당         Q  ...   8212.0  126.880898  37.504067\n",
              "24      19987359          아구본가첨벙         Q  ...   2730.0  127.028726  37.608392\n",
              "25      20013190            청암회관         Q  ...   1737.0  127.078464  37.648247\n",
              "26      20014818              쉼터         Q  ...   6164.0  127.057100  37.512939\n",
              "27      20015136  배제현의웰빙낙지한마리수제비         Q  ...   6035.0  127.020945  37.517574\n",
              "28      20031733        동해제일산오징어         Q  ...  47838.0  129.068324  35.202902\n",
              "29      20033259          리지호프소주         Q  ...  47361.0  129.059574  35.144776\n",
              "...          ...             ...       ...  ...      ...         ...        ...\n",
              "564986  16310414           이마트24         D  ...   5510.0  127.102496  37.514609\n",
              "564987  16310431           이마트24         D  ...   5728.0  127.134831  37.504307\n",
              "564988  16291301          우주최강족발         Q  ...   3603.0  126.947738  37.599282\n",
              "564989  16288713            김s비어         Q  ...  47850.0  129.065922  35.203978\n",
              "564990  16289850            최가면반         Q  ...   4049.0  126.921732  37.549373\n",
              "564991  16288850         스튜디오에이엠         F  ...   3787.0  126.933236  37.556884\n",
              "564992  16288527           위아클래스         F  ...   4031.0  126.920283  37.555622\n",
              "564993  16284500              이연         D  ...   6783.0  127.047623  37.472757\n",
              "564994  16283894     미셀프리미엄아울렛부산         D  ...  46029.0  129.234971  35.323748\n",
              "564995  16282583            팀투팍짐         P  ...  47901.0  129.099447  35.192392\n",
              "564996  16287786          창대종합상사         D  ...   7382.0  126.903076  37.507221\n",
              "564997  16290018            컬러버스         D  ...   3988.0  126.920431  37.561074\n",
              "564998  16289520            구름나무         D  ...   7531.0  126.859924  37.562380\n",
              "564999  16288168          아틀리에아바         D  ...  47899.0  129.105252  35.192087\n",
              "565000  16283416         원뮤직스튜디오         R  ...   3999.0  126.916328  37.559919\n",
              "565001  16289625           주신에어컨         F  ...   4753.0  127.043517  37.568605\n",
              "565002  16288463           씽씽에어컨         F  ...  49126.0  129.080019  35.064948\n",
              "565003  16289082            호중정원         Q  ...   3053.0  126.981176  37.581212\n",
              "565004  16283641           60계부산         Q  ...  46253.0  129.094033  35.241413\n",
              "565005  16283480      팔삼육숯불바베큐치킨         Q  ...  46307.0  129.088556  35.220479\n",
              "565006  16283157              꿀닭         Q  ...   3930.0  126.895967  37.575940\n",
              "565007  16287768            황금유통         D  ...  46329.0  129.116277  35.225049\n",
              "565008  16290087      서초종합공사인테리어         D  ...   6709.0  127.007440  37.482410\n",
              "565009  16291444           대성모바일         D  ...  49234.0  129.014195  35.110118\n",
              "565010  16284293           전설의짬뽕         Q  ...   6525.0  127.018305  37.516146\n",
              "565011  16284103          서동수타짬뽕         Q  ...  46328.0  129.104354  35.210961\n",
              "565012  16282701              주방         Q  ...   4012.0  126.907641  37.555677\n",
              "565013  16283091         원클래스독서실         R  ...  47851.0  129.067468  35.205469\n",
              "565014  16287899           에스에스엠         D  ...  49314.0  128.961386  35.107213\n",
              "565015  16286754            천사통신         D  ...  49246.0  129.022555  35.097951\n",
              "\n",
              "[565016 rows x 27 columns]"
            ]
          },
          "metadata": {
            "tags": []
          },
          "execution_count": 22
        }
      ]
    },
    {
      "cell_type": "markdown",
      "metadata": {
        "id": "2j-xt7HOt8zn"
      },
      "source": [
        "## 일부 컬럼만 보기"
      ]
    },
    {
      "cell_type": "code",
      "metadata": {
        "id": "VfPZ-2h4t8zp",
        "colab": {
          "base_uri": "https://localhost:8080/",
          "height": 122
        },
        "outputId": "839661db-03c5-44fc-9764-fd7b229bf734"
      },
      "source": [
        "# 상권업종대분류명 컬럼만 보기\n",
        "df_store[\"상권업종대분류명\"].head()"
      ],
      "execution_count": null,
      "outputs": [
        {
          "output_type": "execute_result",
          "data": {
            "text/plain": [
              "0       음식\n",
              "1       음식\n",
              "2       음식\n",
              "3       음식\n",
              "4    생활서비스\n",
              "Name: 상권업종대분류명, dtype: object"
            ]
          },
          "metadata": {
            "tags": []
          },
          "execution_count": 28
        }
      ]
    },
    {
      "cell_type": "code",
      "metadata": {
        "id": "OMQE85v1t8zx",
        "colab": {
          "base_uri": "https://localhost:8080/",
          "height": 122
        },
        "outputId": "6ce61b1f-695a-4e2d-f24b-bb32f2a6f73e"
      },
      "source": [
        "# 상권업종소분류명 컬럼만 보기\n",
        "df_store[\"상권업종소분류명\"].head()"
      ],
      "execution_count": null,
      "outputs": [
        {
          "output_type": "execute_result",
          "data": {
            "text/plain": [
              "0    커피전문점/카페/다방\n",
              "1          호프/맥주\n",
              "2          토스트전문\n",
              "3          호프/맥주\n",
              "4     사우나/증기탕/온천\n",
              "Name: 상권업종소분류명, dtype: object"
            ]
          },
          "metadata": {
            "tags": []
          },
          "execution_count": 27
        }
      ]
    },
    {
      "cell_type": "code",
      "metadata": {
        "id": "WyqlNaUst8z1",
        "colab": {
          "base_uri": "https://localhost:8080/",
          "height": 195
        },
        "outputId": "e3036f3c-cb88-4658-d657-d3ae59e374dd"
      },
      "source": [
        "# 상권업종대분류명, 상권업종소분류명 컬럼만 보기\n",
        "df_store[[\"상권업종대분류명\",\"상권업종소분류명\"]].head()"
      ],
      "execution_count": null,
      "outputs": [
        {
          "output_type": "execute_result",
          "data": {
            "text/html": [
              "<div>\n",
              "<style scoped>\n",
              "    .dataframe tbody tr th:only-of-type {\n",
              "        vertical-align: middle;\n",
              "    }\n",
              "\n",
              "    .dataframe tbody tr th {\n",
              "        vertical-align: top;\n",
              "    }\n",
              "\n",
              "    .dataframe thead th {\n",
              "        text-align: right;\n",
              "    }\n",
              "</style>\n",
              "<table border=\"1\" class=\"dataframe\">\n",
              "  <thead>\n",
              "    <tr style=\"text-align: right;\">\n",
              "      <th></th>\n",
              "      <th>상권업종대분류명</th>\n",
              "      <th>상권업종소분류명</th>\n",
              "    </tr>\n",
              "  </thead>\n",
              "  <tbody>\n",
              "    <tr>\n",
              "      <th>0</th>\n",
              "      <td>음식</td>\n",
              "      <td>커피전문점/카페/다방</td>\n",
              "    </tr>\n",
              "    <tr>\n",
              "      <th>1</th>\n",
              "      <td>음식</td>\n",
              "      <td>호프/맥주</td>\n",
              "    </tr>\n",
              "    <tr>\n",
              "      <th>2</th>\n",
              "      <td>음식</td>\n",
              "      <td>토스트전문</td>\n",
              "    </tr>\n",
              "    <tr>\n",
              "      <th>3</th>\n",
              "      <td>음식</td>\n",
              "      <td>호프/맥주</td>\n",
              "    </tr>\n",
              "    <tr>\n",
              "      <th>4</th>\n",
              "      <td>생활서비스</td>\n",
              "      <td>사우나/증기탕/온천</td>\n",
              "    </tr>\n",
              "  </tbody>\n",
              "</table>\n",
              "</div>"
            ],
            "text/plain": [
              "  상권업종대분류명     상권업종소분류명\n",
              "0       음식  커피전문점/카페/다방\n",
              "1       음식        호프/맥주\n",
              "2       음식        토스트전문\n",
              "3       음식        호프/맥주\n",
              "4    생활서비스   사우나/증기탕/온천"
            ]
          },
          "metadata": {
            "tags": []
          },
          "execution_count": 29
        }
      ]
    },
    {
      "cell_type": "code",
      "metadata": {
        "id": "rkbqXQ7Dt8z6"
      },
      "source": [
        "# 제거하는 방법도 있지만 사용할 컬럼만 남겨두는 방법도 있습니다.\n",
        "df_columns = ['상가업소번호', '상호명', '상권업종대분류명', \n",
        "       '상권업종중분류명',  '상권업종소분류명', \n",
        "       '시도명', '시군구명', '행정동명', '법정동명', \n",
        "       '지번주소', '도로명코드', '도로명주소', \n",
        "       '구우편번호', '신우편번호', '경도', '위도']\n",
        "# 위에 있는 컬럼만 따로 불러옵니다."
      ],
      "execution_count": null,
      "outputs": []
    },
    {
      "cell_type": "code",
      "metadata": {
        "id": "nPwH_z9fxaWj"
      },
      "source": [
        "df_store = df_store[df_columns].copy()"
      ],
      "execution_count": null,
      "outputs": []
    },
    {
      "cell_type": "code",
      "metadata": {
        "id": "cGOvEoFdx42d",
        "colab": {
          "base_uri": "https://localhost:8080/",
          "height": 34
        },
        "outputId": "35d597d8-86b1-4cb3-e5ef-0b5772550725"
      },
      "source": [
        "df_store.shape"
      ],
      "execution_count": null,
      "outputs": [
        {
          "output_type": "execute_result",
          "data": {
            "text/plain": [
              "(565016, 16)"
            ]
          },
          "metadata": {
            "tags": []
          },
          "execution_count": 39
        }
      ]
    },
    {
      "cell_type": "markdown",
      "metadata": {
        "id": "BE4XDqAgt8z_"
      },
      "source": [
        "## 일부 텍스트가 들어가는 데이터만 가져오기"
      ]
    },
    {
      "cell_type": "code",
      "metadata": {
        "id": "rZsJuXNyt80B"
      },
      "source": [
        "# 커피라는 텍스트가 들어가는 상권업소중소분류명만 가져옵니다.\n",
        "# Pandas Series의 str.contains 기능을 사용해 가져올 수 있습니다.\n",
        "# 가져온 데이터를 coffee 라는 데이터프레임에 담아봅니다.\n",
        "coffee = df_store[df_store[\"상권업종소분류명\"].str.contains(\"커피\")]"
      ],
      "execution_count": null,
      "outputs": []
    },
    {
      "cell_type": "code",
      "metadata": {
        "id": "-HRZetWGt80P",
        "colab": {
          "base_uri": "https://localhost:8080/",
          "height": 194
        },
        "outputId": "e7f8d9f6-1eac-4636-9413-ebb9b41a1f82"
      },
      "source": [
        "# 상호명으로 봤을 때 커피점의 수 보기\n",
        "coffee.shape\n",
        "coffee.sample()"
      ],
      "execution_count": null,
      "outputs": [
        {
          "output_type": "execute_result",
          "data": {
            "text/html": [
              "<div>\n",
              "<style scoped>\n",
              "    .dataframe tbody tr th:only-of-type {\n",
              "        vertical-align: middle;\n",
              "    }\n",
              "\n",
              "    .dataframe tbody tr th {\n",
              "        vertical-align: top;\n",
              "    }\n",
              "\n",
              "    .dataframe thead th {\n",
              "        text-align: right;\n",
              "    }\n",
              "</style>\n",
              "<table border=\"1\" class=\"dataframe\">\n",
              "  <thead>\n",
              "    <tr style=\"text-align: right;\">\n",
              "      <th></th>\n",
              "      <th>상가업소번호</th>\n",
              "      <th>상호명</th>\n",
              "      <th>상권업종대분류명</th>\n",
              "      <th>상권업종중분류명</th>\n",
              "      <th>상권업종소분류명</th>\n",
              "      <th>시도명</th>\n",
              "      <th>시군구명</th>\n",
              "      <th>행정동명</th>\n",
              "      <th>법정동명</th>\n",
              "      <th>지번주소</th>\n",
              "      <th>도로명코드</th>\n",
              "      <th>도로명주소</th>\n",
              "      <th>구우편번호</th>\n",
              "      <th>신우편번호</th>\n",
              "      <th>경도</th>\n",
              "      <th>위도</th>\n",
              "    </tr>\n",
              "  </thead>\n",
              "  <tbody>\n",
              "    <tr>\n",
              "      <th>470577</th>\n",
              "      <td>12653261</td>\n",
              "      <td>카페루스터</td>\n",
              "      <td>음식</td>\n",
              "      <td>커피점/카페</td>\n",
              "      <td>커피전문점/카페/다방</td>\n",
              "      <td>서울특별시</td>\n",
              "      <td>강남구</td>\n",
              "      <td>역삼2동</td>\n",
              "      <td>역삼동</td>\n",
              "      <td>서울특별시 강남구 역삼동 725-15</td>\n",
              "      <td>116804166202</td>\n",
              "      <td>서울특별시 강남구 논현로86길 22</td>\n",
              "      <td>135921</td>\n",
              "      <td>6223.0</td>\n",
              "      <td>127.039337</td>\n",
              "      <td>37.500019</td>\n",
              "    </tr>\n",
              "  </tbody>\n",
              "</table>\n",
              "</div>"
            ],
            "text/plain": [
              "          상가업소번호    상호명 상권업종대분류명  ...   신우편번호          경도         위도\n",
              "470577  12653261  카페루스터       음식  ...  6223.0  127.039337  37.500019\n",
              "\n",
              "[1 rows x 16 columns]"
            ]
          },
          "metadata": {
            "tags": []
          },
          "execution_count": 48
        }
      ]
    },
    {
      "cell_type": "code",
      "metadata": {
        "id": "0YQvWEiqt80W",
        "colab": {
          "base_uri": "https://localhost:8080/",
          "height": 34
        },
        "outputId": "12be8ffe-2eab-48a2-a4f5-e98e2715e2f8"
      },
      "source": [
        "coffee['상호명'].unique()\n",
        "coffee['상호명'].nunique()"
      ],
      "execution_count": null,
      "outputs": [
        {
          "output_type": "execute_result",
          "data": {
            "text/plain": [
              "15205"
            ]
          },
          "metadata": {
            "tags": []
          },
          "execution_count": 50
        }
      ]
    },
    {
      "cell_type": "markdown",
      "metadata": {
        "id": "zU5YqdK2t80a"
      },
      "source": [
        "## 특정 상호만 가져오기\n",
        "* 여기에서는 스타벅스 상호를 가져와서 실습합니다.\n",
        "* 위에서 커피를 가져왔던 내용을 활용해 봅니다."
      ]
    },
    {
      "cell_type": "code",
      "metadata": {
        "id": "fZMUv6HVt80c",
        "colab": {
          "base_uri": "https://localhost:8080/",
          "height": 122
        },
        "outputId": "e8014f45-4322-4097-92cc-92272915cc35"
      },
      "source": [
        "# 상호명을 보면 겹치는 문자가 많습니다. 스타벅스의 unique한 상호명만 가져옵니다.\n",
        "coffee.loc[coffee[\"상호명\"].str.contains(\"스타벅스\"), \"상호명\"].head()"
      ],
      "execution_count": null,
      "outputs": [
        {
          "output_type": "execute_result",
          "data": {
            "text/plain": [
              "1219               스타벅스\n",
              "1946          스타벅스종로3가점\n",
              "2840               스타벅스\n",
              "14939    스타벅스커피여의도IFC1F\n",
              "14951              스타벅스\n",
              "Name: 상호명, dtype: object"
            ]
          },
          "metadata": {
            "tags": []
          },
          "execution_count": 55
        }
      ]
    },
    {
      "cell_type": "markdown",
      "metadata": {
        "id": "LNBIS1FJt80j"
      },
      "source": [
        "## 시도별 데이터 보기\n",
        "* 시도와 구군 데이터가 있습니다. 어느 시도의 데이터가 있는지 봅니다."
      ]
    },
    {
      "cell_type": "code",
      "metadata": {
        "scrolled": true,
        "id": "Jx44AsBOt80l",
        "colab": {
          "base_uri": "https://localhost:8080/",
          "height": 34
        },
        "outputId": "6e604b92-1eaf-4e1e-ee1d-a0e3054efbad"
      },
      "source": [
        "# 시도에 결측치가 있는지 다시 봅니다.\n",
        "df_store[\"시도명\"].isnull().sum()"
      ],
      "execution_count": null,
      "outputs": [
        {
          "output_type": "execute_result",
          "data": {
            "text/plain": [
              "0"
            ]
          },
          "metadata": {
            "tags": []
          },
          "execution_count": 58
        }
      ]
    },
    {
      "cell_type": "code",
      "metadata": {
        "id": "t5gBpllct80w"
      },
      "source": [
        "# 어떤 시도가 있는지 봅니다.\n",
        "# 다른 지역을 참고하고 싶다면 같은 폴더에 있는 다른 파일을 참고해 주세요.\n",
        "# Pandas Series의 value_counts 기능을 사용합니다.\n"
      ],
      "execution_count": null,
      "outputs": []
    },
    {
      "cell_type": "code",
      "metadata": {
        "id": "ITqwrDMst806"
      },
      "source": [
        "# 시군구명의 unique 값만 봅니다.\n"
      ],
      "execution_count": null,
      "outputs": []
    },
    {
      "cell_type": "code",
      "metadata": {
        "id": "hw6u4gYSt81C"
      },
      "source": [
        "# coffee 데이터프레임에서 \"상권업종중분류명\" 을 봅니다. \n",
        "# Pandas Series의 value_counts 기능을 사용합니다.\n"
      ],
      "execution_count": null,
      "outputs": []
    },
    {
      "cell_type": "code",
      "metadata": {
        "id": "B_cXEQXwt81L"
      },
      "source": [
        "# 경도와 위도가 있습니다. 데이터를 그려봅니다.\n",
        "# Pandas의 plot.scatter 기능을 활용합니다.\n",
        "# df_store[:1000]\n"
      ],
      "execution_count": null,
      "outputs": []
    },
    {
      "cell_type": "markdown",
      "metadata": {
        "id": "kGl9wxcjt81T"
      },
      "source": [
        "## 서울만 따로 보기"
      ]
    },
    {
      "cell_type": "code",
      "metadata": {
        "id": "DqC6T49et81W"
      },
      "source": [
        "df_seoul = df_store.loc[df_store['시도명'].str.startswith('서울')].copy()\n",
        "df_seoul.shape"
      ],
      "execution_count": null,
      "outputs": []
    },
    {
      "cell_type": "code",
      "metadata": {
        "id": "1eMkmNe8t81f"
      },
      "source": [
        "# df_seoul 에서 상권업종대분류명의 value_counts 를 봅니다.\n"
      ],
      "execution_count": null,
      "outputs": []
    },
    {
      "cell_type": "code",
      "metadata": {
        "id": "ez8tnFIzt81m"
      },
      "source": [
        "# describe 를 활용해 요약해 봅니다.\n",
        "# np.object를 사용하면 object 데이터의 요약도 볼 수 있습니다.\n",
        "\n"
      ],
      "execution_count": null,
      "outputs": []
    },
    {
      "cell_type": "code",
      "metadata": {
        "id": "uQUC0Zj9t81t"
      },
      "source": [
        "# include=np.number 로 수치 데이터만 요약합니다.\n",
        "# 여기에서는 위도와 경도만 불러와서 봅니다.\n"
      ],
      "execution_count": null,
      "outputs": []
    },
    {
      "cell_type": "markdown",
      "metadata": {
        "id": "LYr6NKG7t811"
      },
      "source": [
        "### 분류별 countplot 그리기"
      ]
    },
    {
      "cell_type": "code",
      "metadata": {
        "id": "FRX7EanCt814"
      },
      "source": [
        "# seaborn 의 sns.countplot을 활용해서 상권업종대분류명 의 수량을 세어 막대그래프를 그려봅니다.\n",
        "\n"
      ],
      "execution_count": null,
      "outputs": []
    },
    {
      "cell_type": "code",
      "metadata": {
        "id": "yv1t-9fQt82D"
      },
      "source": [
        "# 아래의 코드를 활용해서 음식이라는 텍스트가 들어간 데이터만 df_food 라는 데이터프레임에 저장합니다.\n",
        "# df_seoul['상권업종대분류명'].str.contains('음식')\n",
        "\n",
        "# df_food 라는 데이터프레임을 만들어 주세요."
      ],
      "execution_count": null,
      "outputs": []
    },
    {
      "cell_type": "code",
      "metadata": {
        "scrolled": true,
        "id": "tlejUhe8t82K"
      },
      "source": [
        "# countplot 을 그리면 해당 카테코리에 해당되는 데이터의 수를 카운트해서 시각화 합니다.\n",
        "# 상권업종중분류명 으로 countplot을 그려주세요.\n",
        "\n"
      ],
      "execution_count": null,
      "outputs": []
    },
    {
      "cell_type": "code",
      "metadata": {
        "id": "HWw_T7hOt82T"
      },
      "source": [
        "# x, y축을 바꿔서 그리게 되면 위에서 글씨가 겹쳐 보이는 것을 보기 좋게 만들 수 있습니다.\n",
        "# 위 그래프의 x, y축을 바꿔주세요.\n",
        "\n"
      ],
      "execution_count": null,
      "outputs": []
    },
    {
      "cell_type": "markdown",
      "metadata": {
        "id": "sY9f9XLtt82b"
      },
      "source": [
        "## 특정 업종만 가져오기"
      ]
    },
    {
      "cell_type": "code",
      "metadata": {
        "id": "LQB6oWSQt82c"
      },
      "source": [
        "# 특정 업종만 가져오고 싶다면\n",
        "# df_food['상권업종중분류명'] == '패스트푸드' 를 활용해서 df_fast_food 라는 데이터 프레임을 만들어 봅니다.\n",
        "\n"
      ],
      "execution_count": null,
      "outputs": []
    },
    {
      "cell_type": "code",
      "metadata": {
        "scrolled": true,
        "id": "A-heVNf0t82i"
      },
      "source": [
        "# 해당 데이터에서 특정 컬럼만 가져오고 싶은데 컬럼명이 생각나지 않는다면 컬럼명만 가져와 봅니다.\n"
      ],
      "execution_count": null,
      "outputs": []
    },
    {
      "cell_type": "code",
      "metadata": {
        "id": "yc3Wpsy4t82q"
      },
      "source": [
        "# df_fast_food['상호명'] 의 unique 값만 가져옵니다.\n",
        "\n"
      ],
      "execution_count": null,
      "outputs": []
    },
    {
      "cell_type": "markdown",
      "metadata": {
        "id": "LlfCZzLct82u"
      },
      "source": [
        "## Folium 사용예제\n",
        "http://nbviewer.jupyter.org/github/python-visualization/folium/tree/master/examples/"
      ]
    },
    {
      "cell_type": "markdown",
      "metadata": {
        "id": "hQ0zOC--t82v"
      },
      "source": [
        "## 스타벅스, 이디야 위치 분석\n",
        "* 상호명에서 브랜드명을 추출합니다.\n",
        "* 대소문자가 섞여 있을 수도 있기 때문에 대소문자를 변환해 줍니다.\n",
        "* 오타를 방지하기 위해 스타벅스의 영문명은 STARBUCKS, 이디야는 EDIYA 입니다."
      ]
    },
    {
      "cell_type": "code",
      "metadata": {
        "id": "jZ_eabjct82y"
      },
      "source": [
        "# 상호명_소문자라는 새로운 컬럼에 df_seoul['상호명'].str.lower()로 모든 영문자를 소문자로 만들어 저장해 주세요.\n"
      ],
      "execution_count": null,
      "outputs": []
    },
    {
      "cell_type": "code",
      "metadata": {
        "id": "Sg-241zit824"
      },
      "source": [
        "# ediya 라는 상호가 들어가는 데이터만 가져와 주세요. 위에서 만든 상호명_소문자 컬럼을 사용합니다.\n",
        "# df_seoul['상호명_소문자']\n"
      ],
      "execution_count": null,
      "outputs": []
    },
    {
      "cell_type": "code",
      "metadata": {
        "id": "fzol6bH7t828"
      },
      "source": [
        "# '스타벅스|starbucks'라는 상호가 들어가는 데이터만 가져와 주세요. 위에서 만든 상호명_소문자 컬럼을 사용합니다.\n",
        "# 참고로 | 연산자는 or를 의미합니다.\n",
        "\n",
        "# df_seoul['상호명_소문자']\n"
      ],
      "execution_count": null,
      "outputs": []
    },
    {
      "cell_type": "code",
      "metadata": {
        "id": "JBKPW0p7t83J"
      },
      "source": [
        "# '이디야|ediya'라는 상호가 들어가는 데이터만 가져와 주세요. 위에서 만든 상호명_소문자 컬럼을 사용합니다.\n",
        "# 참고로 | 연산자는 or를 의미합니다.\n",
        "\n"
      ],
      "execution_count": null,
      "outputs": []
    },
    {
      "cell_type": "code",
      "metadata": {
        "id": "pBt0f-xxt83N"
      },
      "source": [
        "# '스타벅스|starbucks|이디야|ediya 라는 상호가 들어가는 데이터만 가져와 주세요. \n",
        "# 위에서 만든 상호명_소문자 컬럼을 사용합니다.\n",
        "# 결과를 df_cafe에 저장합니다.\n",
        "\n",
        "# df_seoul['상호명_소문자']"
      ],
      "execution_count": null,
      "outputs": []
    },
    {
      "cell_type": "code",
      "metadata": {
        "id": "IqdJGa9ft83T"
      },
      "source": [
        "# 브랜드명 이라는 컬럼을 만듭니다.\n",
        "# 스타벅스만 가져와서 저장합니다.\n",
        "# df_cafe['상호명_소문자'].str.contains('스타벅스|starbucks')를 활용합니다.\n",
        "\n"
      ],
      "execution_count": null,
      "outputs": []
    },
    {
      "cell_type": "code",
      "metadata": {
        "id": "WfWy_84Lt83X"
      },
      "source": [
        "# ~은 not을 의미합니다. 스타벅스가 아닌 데이터는 이디야로 넣어주어도 되지만\n",
        "# 아래 코드처럼 결측치를 이디야로 채워줘도 괜찮습니다.\n",
        "# df_cafe.loc[~df_cafe['상호명_소문자'].str.contains('스타벅스|starbucks|STARBUCKS'), '브랜드명'] = '이디야'"
      ],
      "execution_count": null,
      "outputs": []
    },
    {
      "cell_type": "code",
      "metadata": {
        "id": "YsvwKtaFt83d"
      },
      "source": [
        "# df_cafe['브랜드명'] = df_cafe['브랜드명'].fillna('이디야')"
      ],
      "execution_count": null,
      "outputs": []
    },
    {
      "cell_type": "code",
      "metadata": {
        "id": "UHBCHKH_t83h"
      },
      "source": [
        "# 혹시라도 상호명에 결측치가 있는지 확인합니다.\n",
        "# df_cafe['브랜드명'].isnull() 을 활용해서 '상호명' 이라는 컬럼을 가져옵니다.\n"
      ],
      "execution_count": null,
      "outputs": []
    },
    {
      "cell_type": "code",
      "metadata": {
        "id": "REPRwMy0t83l"
      },
      "source": [
        "# 상호명과 브랜드명이 제대로 변경되었는지 확인합니다.\n",
        "# 두 가지 컬럼을 가져옵니다.\n",
        "\n"
      ],
      "execution_count": null,
      "outputs": []
    },
    {
      "cell_type": "code",
      "metadata": {
        "id": "WSy-YhQut83p"
      },
      "source": [
        "# 브랜드별 수량을 세어봅니다.value_counts()를 활용해 주세요.\n"
      ],
      "execution_count": null,
      "outputs": []
    },
    {
      "cell_type": "markdown",
      "metadata": {
        "id": "RrV4rZsUt83t"
      },
      "source": [
        "## scatterplot\n",
        "* https://pandas.pydata.org/pandas-docs/stable/user_guide/visualization.html#scatter-plot"
      ]
    },
    {
      "cell_type": "code",
      "metadata": {
        "id": "aS6T55j3t83u"
      },
      "source": [
        "# pandas의 scatterplot 을 그립니다.\n",
        "# 스타벅스만 그리도록 되어 있는데 해당 코드를 활용해 이디야도 그리도록 합니다.\n",
        "# ax = df_cafe[df_cafe[\"브랜드명\"] == \"스타벅스\"].plot.scatter(\n",
        "#     x=\"경도\", y=\"위도\", color=\"g\", label=\"스타벅스\")"
      ],
      "execution_count": null,
      "outputs": []
    },
    {
      "cell_type": "code",
      "metadata": {
        "id": "u1gtH7sNt83y"
      },
      "source": [
        "# seaborn 을 통해 그려보세요.\n"
      ],
      "execution_count": null,
      "outputs": []
    },
    {
      "cell_type": "code",
      "metadata": {
        "id": "_IjnRKLPt830"
      },
      "source": [
        "geo_df = df_cafe"
      ],
      "execution_count": null,
      "outputs": []
    },
    {
      "cell_type": "code",
      "metadata": {
        "id": "EZe6BkC_t833"
      },
      "source": [
        "map = folium.Map(location=[geo_df['위도'].mean(), geo_df['경도'].mean()], \n",
        "                 zoom_start=12, tiles='Stamen Toner')\n",
        "\n",
        "for n in geo_df.index:\n",
        "    # 팝업에 들어갈 텍스트를 지정해 줍니다.\n",
        "    popup_name = geo_df.loc[n, '상호명'] + ' - ' + geo_df.loc[n, '도로명주소']\n",
        "    # 브랜드명에 따라 아이콘 색상을 달리해서 찍어줍니다.\n",
        "    if geo_df.loc[n, '브랜드명'] == '스타벅스' :\n",
        "        icon_color = 'green'\n",
        "    else:\n",
        "        icon_color = 'blue'    \n",
        "        \n",
        "    # folium.CircleMarker 혹은 folium.features.CircleMarker 오류가 날 경우\n",
        "    # --> folium.vector_layer.CircleMarker 를 사용합니다.\n",
        "    folium.CircleMarker(\n",
        "        location=[geo_df.loc[n,'위도'], geo_df.loc[n, '경도']],\n",
        "        radius=3,\n",
        "        popup=popup_name,\n",
        "        color= icon_color,\n",
        "        fill=True,\n",
        "        fill_color=icon_color\n",
        "    ).add_to(map)\n",
        "\n",
        "\n",
        "map"
      ],
      "execution_count": null,
      "outputs": []
    },
    {
      "cell_type": "markdown",
      "metadata": {
        "id": "vjQIHd7nt838"
      },
      "source": [
        "## 구별 브랜드별 점포수"
      ]
    },
    {
      "cell_type": "code",
      "metadata": {
        "id": "f8gChJXUt839"
      },
      "source": [
        "df_cafe_brand = pd.DataFrame(\n",
        "    df_cafe.groupby(['시군구명', '브랜드명'])['상호명'].count()\n",
        ").reset_index()\n",
        "df_cafe_brand.columns = ['구', '브랜드명', '매장수']\n",
        "df_cafe_brand"
      ],
      "execution_count": null,
      "outputs": []
    },
    {
      "cell_type": "markdown",
      "metadata": {
        "id": "N8PdVGAut84B"
      },
      "source": [
        "## 막대그래프로 시각화 하기"
      ]
    },
    {
      "cell_type": "code",
      "metadata": {
        "scrolled": true,
        "id": "WIahuY5Xt84C"
      },
      "source": [
        "# sns.barplot 을 활용해 df_cafe_brand 데이터 프레임으로 그려봅니다.\n",
        "#  x='구', y='매장수', hue='브랜드명' 옵션을 사용합니다.\n",
        "\n"
      ],
      "execution_count": null,
      "outputs": []
    },
    {
      "cell_type": "markdown",
      "metadata": {
        "id": "PKPdYQKzt84F"
      },
      "source": [
        "### Pandas의 groupby 활용하기"
      ]
    },
    {
      "cell_type": "code",
      "metadata": {
        "scrolled": true,
        "id": "r1_D-pYtt84G"
      },
      "source": [
        "df_cafe.groupby(['시군구명'])['상호명'].count()"
      ],
      "execution_count": null,
      "outputs": []
    },
    {
      "cell_type": "code",
      "metadata": {
        "id": "2GytxeFnt84J"
      },
      "source": [
        "df_cafe_gu = pd.DataFrame(df_cafe.groupby(['시군구명'])['상호명'].count())\n",
        "df_cafe_gu.head()"
      ],
      "execution_count": null,
      "outputs": []
    },
    {
      "cell_type": "code",
      "metadata": {
        "id": "UZK8Hc_Gt84N"
      },
      "source": [
        "# df_cafe 데이터 프레임으로 시군구명, 브랜드명, 상호명 을 활용해 pivot_table 을 그립니다.\n",
        "# 기본값이 평균이기 때문에 aggfunc=\"count\" 를 지정합니다.\n",
        "# 결과는 df_cafe_brand_gu에 저장합니다."
      ],
      "execution_count": null,
      "outputs": []
    },
    {
      "cell_type": "code",
      "metadata": {
        "id": "FtjRFAESt84Q"
      },
      "source": [
        "# Pandas 의 plot.bar를 그려봅니다.\n"
      ],
      "execution_count": null,
      "outputs": []
    },
    {
      "cell_type": "markdown",
      "metadata": {
        "id": "foK8pNSjt84T"
      },
      "source": [
        "## choropleth 그리기"
      ]
    },
    {
      "cell_type": "markdown",
      "metadata": {
        "id": "7HxG-8-Zt84U"
      },
      "source": [
        "* 구별로 매장수를 표현하기 위해 GeoJSON 파일 로드\n",
        "    * 파일출처 : [southkorea/seoul-maps: Seoul administrative divisions in ESRI Shapefile, GeoJSON and TopoJSON formats.](https://github.com/southkorea/seoul-maps)"
      ]
    },
    {
      "cell_type": "code",
      "metadata": {
        "scrolled": true,
        "id": "lELYEyz5t84V"
      },
      "source": [
        "# 공유 가능한 링크로 파일 가져오기\n",
        "url = 'https://drive.google.com/open?id=13j8-_XLdPe0pptsqu8-uyE-0Ym6V2jw5'\n",
        "id = url.split('=')[1]\n",
        "print(id)\n",
        "downloaded = drive.CreateFile({'id':id}) \n",
        "# data 폴더에 파일을 관리하며, 폴더가 없다면 만들어서 파일을 관리하도록 한다.\n",
        "downloaded.GetContentFile('seoul_municipalities_geo_simple.json')  "
      ],
      "execution_count": null,
      "outputs": []
    },
    {
      "cell_type": "code",
      "metadata": {
        "id": "uusTHVnCt84a"
      },
      "source": [
        "import json\n",
        "\n",
        "geo_path = 'seoul_municipalities_geo_simple.json'\n",
        "geo_json = json.load(open(geo_path, encoding='utf-8'))"
      ],
      "execution_count": null,
      "outputs": []
    },
    {
      "cell_type": "markdown",
      "metadata": {
        "id": "w8ptHrV-t84c"
      },
      "source": [
        "### 스타벅스 이디야 카페 매장 합계 분포"
      ]
    },
    {
      "cell_type": "code",
      "metadata": {
        "id": "8U55CJqvt84d"
      },
      "source": [
        "map = folium.Map(location=[geo_df['위도'].mean(), geo_df['경도'].mean()], \n",
        "                 zoom_start=11)\n",
        "\n",
        "map.choropleth(geo_data = geo_json,\n",
        "               data = df_cafe_gu['상호명'],\n",
        "               columns = [df_cafe_brand.index, df_cafe_gu['상호명']],\n",
        "               fill_color = 'Purples',\n",
        "               key_on = 'feature.properties.name',\n",
        "               fill_opacity=0.7,\n",
        "               line_opacity=0.2,\n",
        "               highlight=True)\n",
        "\n",
        "\n",
        "for n in geo_df.index:\n",
        "    # 팝업에 들어갈 텍스트를 지정해 줍니다.\n",
        "    popup_name = geo_df.loc[n, '상호명'] + ' - ' + geo_df.loc[n, '도로명주소']\n",
        "    # 브랜드명에 따라 아이콘 색상을 달리해서 찍어줍니다.\n",
        "    if geo_df.loc[n, '브랜드명'] == '스타벅스' :\n",
        "        icon_color = 'green'\n",
        "    else:\n",
        "        icon_color = 'blue'    \n",
        "    \n",
        "    # folium.CircleMarker 혹은 folium.features.CircleMarker 오류가 날 경우\n",
        "    # --> folium.vector_layer.CircleMarker 를 사용합니다. \n",
        "    folium.CircleMarker(\n",
        "        location=[geo_df.loc[n,'위도'], geo_df.loc[n, '경도']],\n",
        "        radius=3,\n",
        "        popup=popup_name,\n",
        "        color= icon_color,\n",
        "        fill=True,\n",
        "        fill_color=icon_color\n",
        "    ).add_to(map)\n",
        "\n",
        "map"
      ],
      "execution_count": null,
      "outputs": []
    },
    {
      "cell_type": "markdown",
      "metadata": {
        "id": "oGsyBs5Dt84g"
      },
      "source": [
        "### 스타벅스 매장 분포"
      ]
    },
    {
      "cell_type": "code",
      "metadata": {
        "id": "JM6NSVdYt84g"
      },
      "source": [
        "df_cafe_temp = df_cafe[df_cafe['브랜드명'] == '스타벅스']\n",
        "df_cafe_starbucks = pd.DataFrame(df_cafe_temp.groupby(['시군구명'])['상호명'].count())\n",
        "df_cafe_starbucks.columns = ['매장수']\n",
        "df_cafe_starbucks.head()"
      ],
      "execution_count": null,
      "outputs": []
    },
    {
      "cell_type": "code",
      "metadata": {
        "id": "VkbPBmtQt84i"
      },
      "source": [
        "map = folium.Map(location=[geo_df['위도'].mean(), geo_df['경도'].mean()], \n",
        "                 zoom_start=11, tiles='Stamen Toner')\n",
        "\n",
        "map.choropleth(geo_data = geo_json,\n",
        "               data = df_cafe_starbucks['매장수'],\n",
        "               columns = [df_cafe_starbucks.index, df_cafe_starbucks['매장수']],\n",
        "               fill_color = 'YlGn',\n",
        "               key_on = 'feature.properties.name',\n",
        "               fill_opacity=0.7,\n",
        "               line_opacity=0.2,\n",
        "               highlight=True)\n",
        "\n",
        "\n",
        "for n in geo_df.index:\n",
        "    # 팝업에 들어갈 텍스트를 지정해 줍니다.\n",
        "    popup_name = geo_df.loc[n, '상호명'] + ' - ' + geo_df.loc[n, '도로명주소']\n",
        "    # 브랜드명에 따라 아이콘 색상을 달리해서 찍어줍니다.\n",
        "    if geo_df.loc[n, '브랜드명'] == '스타벅스' :\n",
        "        icon_color = 'green'    \n",
        "\n",
        "            \n",
        "        # folium.CircleMarker 혹은 folium.features.CircleMarker 오류가 날 경우\n",
        "        # --> folium.vector_layer.CircleMarker 를 사용합니다.\n",
        "        folium.CircleMarker(\n",
        "            location=[geo_df.loc[n,'위도'], geo_df.loc[n, '경도']],\n",
        "            radius=3,\n",
        "            popup=popup_name,\n",
        "            color= icon_color,\n",
        "            fill=True,\n",
        "            fill_color=icon_color\n",
        "        ).add_to(map)\n",
        "\n",
        "\n",
        "map"
      ],
      "execution_count": null,
      "outputs": []
    },
    {
      "cell_type": "markdown",
      "metadata": {
        "id": "9I_CLoEVt84l"
      },
      "source": [
        "### 이디야 매장 분포"
      ]
    },
    {
      "cell_type": "code",
      "metadata": {
        "id": "_X6B_6XKt84m"
      },
      "source": [
        "df_cafe_temp = df_cafe[df_cafe['브랜드명'] == '이디야']\n",
        "df_cafe_ediya = pd.DataFrame(df_cafe_temp.groupby(['시군구명'])['상호명'].count())\n",
        "df_cafe_ediya.columns = ['매장수']\n",
        "df_cafe_ediya.head()"
      ],
      "execution_count": null,
      "outputs": []
    },
    {
      "cell_type": "code",
      "metadata": {
        "id": "JB0CJH0gt84p"
      },
      "source": [
        "map = folium.Map(location=[geo_df['위도'].mean(), geo_df['경도'].mean()], \n",
        "                 zoom_start=11, tiles='Stamen Toner')\n",
        "\n",
        "map.choropleth(geo_data = geo_json,\n",
        "               data = df_cafe_ediya['매장수'],\n",
        "               columns = [df_cafe_ediya.index, df_cafe_ediya['매장수']],\n",
        "               fill_color = 'PuBu',\n",
        "               key_on = 'feature.properties.name',\n",
        "               fill_opacity=0.7,\n",
        "               line_opacity=0.2,\n",
        "               highlight=True)\n",
        "\n",
        "\n",
        "for n in geo_df.index:\n",
        "    # 팝업에 들어갈 텍스트를 지정해 줍니다.\n",
        "    popup_name = geo_df.loc[n, '상호명'] + ' - ' + geo_df.loc[n, '도로명주소']\n",
        "    # 브랜드명에 따라 아이콘 색상을 달리해서 찍어줍니다.\n",
        "    if geo_df.loc[n, '브랜드명'] == '이디야' :\n",
        "        icon_color = 'blue'    \n",
        "\n",
        "            \n",
        "        # folium.CircleMarker 혹은 folium.features.CircleMarker 오류가 날 경우\n",
        "        # --> folium.vector_layer.CircleMarker 를 사용합니다.\n",
        "        folium.CircleMarker(\n",
        "            location=[geo_df.loc[n,'위도'], geo_df.loc[n, '경도']],\n",
        "            radius=3,\n",
        "            popup=popup_name,\n",
        "            color= icon_color,\n",
        "            fill=True,\n",
        "            fill_color=icon_color\n",
        "        ).add_to(map)\n",
        "\n",
        "\n",
        "map"
      ],
      "execution_count": null,
      "outputs": []
    },
    {
      "cell_type": "markdown",
      "metadata": {
        "id": "SkGw71iTt84r"
      },
      "source": [
        "## 매장수 크기를 반영해 CircleMaker 그리기\n",
        "### Pandas 의 reshaping data 활용하기\n",
        "\n",
        "<img src=\"https://i.imgur.com/IIhU0nF.png\">\n",
        "\n",
        "* 출처 : https://github.com/pandas-dev/pandas/blob/master/doc/cheatsheet/Pandas_Cheat_Sheet.pdf\n",
        "* reshaping 관련 문서 : https://pandas.pydata.org/pandas-docs/stable/user_guide/reshaping.html"
      ]
    },
    {
      "cell_type": "code",
      "metadata": {
        "id": "8LfzbhuOt84s"
      },
      "source": [
        "df_cafe_brand.head()"
      ],
      "execution_count": null,
      "outputs": []
    },
    {
      "cell_type": "code",
      "metadata": {
        "id": "MpUF6Od4t84w"
      },
      "source": [
        "# 스타벅스 이디야가 컬럼으로 오도록 만듭니다.\n",
        "df_cafe_brand_vs = df_cafe_brand.pivot_table(index='구',\n",
        "                                             columns='브랜드명',\n",
        "                                             values='매장수')\n",
        "df_cafe_brand_vs.columns = ['스타벅스', '이디야']\n",
        "df_cafe_brand_vs.head()"
      ],
      "execution_count": null,
      "outputs": []
    },
    {
      "cell_type": "code",
      "metadata": {
        "id": "ibTVJlxrt842"
      },
      "source": [
        "# 함수를 만듭니다. \n",
        "# 스타벅스와 이디야의 매장수를 비교해서 스타벅스가 더 많다면 1을 반환 아니면 0을 반환하도록 합니다.\n",
        "# def store_count(store):"
      ],
      "execution_count": null,
      "outputs": []
    },
    {
      "cell_type": "code",
      "metadata": {
        "id": "Jy2XlCrNt845"
      },
      "source": [
        "df_cafe_brand_vs['매장수비교'] = df_cafe_brand_vs.apply(store_count, axis=1)\n",
        "df_cafe_brand_vs.head()"
      ],
      "execution_count": null,
      "outputs": []
    },
    {
      "cell_type": "code",
      "metadata": {
        "id": "MUkHyGpgt849"
      },
      "source": [
        "# 위와 같이 표현할 수도 있지만 아래와 같이 lambda로 간결하게 표현할 수도 있습니다.\n",
        "df_cafe_brand_vs['매장수비교'] = df_cafe_brand_vs.apply( \\\n",
        "    lambda x : 1 if x['스타벅스'] > x['이디야'] else 0, axis=1)\n",
        "df_cafe_brand_vs.head()"
      ],
      "execution_count": null,
      "outputs": []
    },
    {
      "cell_type": "markdown",
      "metadata": {
        "id": "N-nVz4hkt84_"
      },
      "source": [
        "## 지도표현을 위해 구별 위경도 평균 구하기"
      ]
    },
    {
      "cell_type": "code",
      "metadata": {
        "id": "H832Pf7xt85A"
      },
      "source": [
        "lng_list = []\n",
        "lat_list = []\n",
        "for gu in df_cafe_brand_vs.index:\n",
        "#     lat = 구별 평균을 구합니다.\n",
        "#     lng = 구별 평균을 구합니다.\n",
        "    lat_list.append(lat)\n",
        "    lng_list.append(lng)\n",
        "    \n",
        "# df_cafe_brand_vs['위도'] = 리스트에 저장된 값을 넣어줍니다. \n",
        "# df_cafe_brand_vs['경도'] = 리스트에 저장된 값을 넣어줍니다.\n",
        "df_cafe_brand_vs.head()"
      ],
      "execution_count": null,
      "outputs": []
    },
    {
      "cell_type": "code",
      "metadata": {
        "id": "0WOU2LgMt85C"
      },
      "source": [
        "# CircleMarker의 radius 지정시 다음과 같은 타입오류가 나서 float type 으로 변경\n",
        "# TypeError: Object of type 'int64' is not JSON serializable\n",
        "\n",
        "df_cafe_brand_vs['스타벅스'] = df_cafe_brand_vs['스타벅스'].astype(float)\n",
        "df_cafe_brand_vs['이디야'] = df_cafe_brand_vs['이디야'].astype(float)\n",
        "df_cafe_brand_vs.info()"
      ],
      "execution_count": null,
      "outputs": []
    },
    {
      "cell_type": "code",
      "metadata": {
        "id": "DJMgrerAt85F"
      },
      "source": [
        "map = folium.Map(location=[geo_df['위도'].mean(), geo_df['경도'].mean()], \n",
        "                 zoom_start=11, tiles='Stamen Toner')\n",
        "\n",
        "map.choropleth(geo_data = geo_json,\n",
        "               data = df_cafe_brand_vs['매장수비교'],\n",
        "               columns = [df_cafe_brand_vs.index, \n",
        "                          df_cafe_brand_vs['매장수비교']],\n",
        "               fill_color = 'BuGn',\n",
        "               key_on = 'feature.properties.name',\n",
        "               fill_opacity=0.7,\n",
        "               line_opacity=0.2,\n",
        "               highlight=True)\n",
        "\n",
        "\n",
        "for gu in df_cafe_brand_vs.index:\n",
        "        \n",
        "    for cafe in ['스타벅스', '이디야']:\n",
        "        \n",
        "        cafe_count = df_cafe_brand_vs.loc[gu, cafe]\n",
        "        msg = f'{gu} {cafe} 매장수 : {cafe_count:.0f}'\n",
        "        \n",
        "        icon_color = 'blue'\n",
        "        if cafe == '스타벅스': \n",
        "            icon_color = 'green'\n",
        "        \n",
        "        \n",
        "        # folium.CircleMarker 혹은 folium.features.CircleMarker 오류가 날 경우\n",
        "        # --> folium.vector_layer.CircleMarker 를 사용합니다.\n",
        "        folium.CircleMarker(\n",
        "            location = [df_cafe_brand_vs.loc[gu,'위도'], \n",
        "                      df_cafe_brand_vs.loc[gu, '경도']],\n",
        "            radius = cafe_count,\n",
        "            color = icon_color,\n",
        "            popup = msg,\n",
        "            fill = True,\n",
        "            fill_color = icon_color\n",
        "        ).add_to(map)\n",
        "\n",
        "map"
      ],
      "execution_count": null,
      "outputs": []
    },
    {
      "cell_type": "markdown",
      "metadata": {
        "id": "thPxeT2qt85I"
      },
      "source": [
        "#### 지도 출력 시 색상 참고\n",
        "* http://colorbrewer2.org/"
      ]
    },
    {
      "cell_type": "markdown",
      "metadata": {
        "id": "sAa8RWgbt85I"
      },
      "source": [
        "## folium 공부를 위해 더 읽어보면 좋을 것 \n",
        "* https://nbviewer.jupyter.org/github/python-visualization/folium/tree/master/examples/\n",
        "* https://python-visualization.github.io/folium/quickstart.html#Choropleth-maps\n",
        "* [PinkWink의 데이터 사이언스 관련 책 - 파이썬으로 데이터 주무르기](https://pinkwink.kr/1070)"
      ]
    },
    {
      "cell_type": "markdown",
      "metadata": {
        "id": "y2nIM8zmt85J"
      },
      "source": [
        "## 카토그램 \n",
        "* [총선⑫ 인구 비례로 본 당선 지도…‘카토그램’으로 살펴본 당선 현황 > 데이터룸 > 정치 > 뉴스 | KBSNEWS](http://news.kbs.co.kr/news/view.do?ncd=3264019)\n",
        "* [The Housing Value of Every County in the U.S. - Metrocosm](http://metrocosm.com/the-housing-value-of-every-county-in-the-u-s/)"
      ]
    },
    {
      "cell_type": "code",
      "metadata": {
        "id": "Lzkabjmjt85O"
      },
      "source": [
        ""
      ],
      "execution_count": null,
      "outputs": []
    },
    {
      "cell_type": "code",
      "metadata": {
        "id": "JCIzRHcJt85Q"
      },
      "source": [
        ""
      ],
      "execution_count": null,
      "outputs": []
    }
  ]
}
